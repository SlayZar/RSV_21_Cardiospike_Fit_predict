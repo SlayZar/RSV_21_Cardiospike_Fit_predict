{
  "nbformat": 4,
  "nbformat_minor": 0,
  "metadata": {
    "accelerator": "GPU",
    "colab": {
      "name": "RNN_GENERATE_rsv21_1306.ipynb",
      "provenance": [],
      "collapsed_sections": []
    },
    "kernelspec": {
      "display_name": "Python 3",
      "language": "python",
      "name": "python3"
    },
    "language_info": {
      "codemirror_mode": {
        "name": "ipython",
        "version": 3
      },
      "file_extension": ".py",
      "mimetype": "text/x-python",
      "name": "python",
      "nbconvert_exporter": "python",
      "pygments_lexer": "ipython3",
      "version": "3.8.3"
    }
  },
  "cells": [
    {
      "cell_type": "markdown",
      "metadata": {
        "id": "LN6ebImXIYp7"
      },
      "source": [
        "## Import libraries"
      ]
    },
    {
      "cell_type": "code",
      "metadata": {
        "id": "hBYfAVV4LgKO"
      },
      "source": [
        "# !pip install optuna\n",
        "# !pip install catboost\n",
        "# !pip install shap\n",
        "# !pip install hrv-analysis\n",
        "import pandas as pd\n",
        "import numpy as np\n",
        "from matplotlib import pyplot as plt\n",
        "from tqdm import tqdm_notebook\n",
        "import warnings\n",
        "# import optuna\n",
        "from sklearn.metrics import accuracy_score, roc_auc_score, make_scorer, auc, roc_curve\n",
        "# from catboost import CatBoostClassifier, Pool\n",
        "# import shap\n",
        "from sklearn.metrics import f1_score\n",
        "# from hrvanalysis import remove_outliers, remove_ectopic_beats, interpolate_nan_values\n",
        "warnings.filterwarnings(\"ignore\")\n",
        "%matplotlib inline"
      ],
      "execution_count": null,
      "outputs": []
    },
    {
      "cell_type": "markdown",
      "metadata": {
        "id": "dBYWFha7LgKU"
      },
      "source": [
        "- `train.csv` обучающая выборка со следующими столбцами:  \n",
        "   - **id** - идентификатор временного ряда сердечного ритма\n",
        "   - **time** - время в ms ( миллисекунды)\n",
        "   - **x** - R-R интервал\n",
        "   - **y** - признак разметки ковидной аномалии"
      ]
    },
    {
      "cell_type": "code",
      "metadata": {
        "id": "Uso4WWbVgK0_"
      },
      "source": [
        "df = pd.read_csv('train.csv')"
      ],
      "execution_count": null,
      "outputs": []
    },
    {
      "cell_type": "code",
      "metadata": {
        "id": "4l_QhEQnv3Kb"
      },
      "source": [
        "df.rename(columns={\"id\":\"id_user\"}, inplace=True)"
      ],
      "execution_count": null,
      "outputs": []
    },
    {
      "cell_type": "code",
      "metadata": {
        "colab": {
          "base_uri": "https://localhost:8080/",
          "height": 419
        },
        "id": "BH9NL4pBwSEp",
        "outputId": "cdb22ce0-2d48-4883-97be-ee044d9048ce"
      },
      "source": [
        "df_stats = df.groupby('id_user').x.median().to_frame('val_median')\n",
        "df_stats['val_mean'] = df.groupby('id_user').x.mean()\n",
        "df_stats['val_std'] = df.groupby('id_user').x.std()\n",
        "df_stats.index = df.groupby('id_user').x.median().index\n",
        "df_stats.reset_index(inplace=True)\n",
        "df_stats"
      ],
      "execution_count": null,
      "outputs": [
        {
          "output_type": "execute_result",
          "data": {
            "text/html": [
              "<div>\n",
              "<style scoped>\n",
              "    .dataframe tbody tr th:only-of-type {\n",
              "        vertical-align: middle;\n",
              "    }\n",
              "\n",
              "    .dataframe tbody tr th {\n",
              "        vertical-align: top;\n",
              "    }\n",
              "\n",
              "    .dataframe thead th {\n",
              "        text-align: right;\n",
              "    }\n",
              "</style>\n",
              "<table border=\"1\" class=\"dataframe\">\n",
              "  <thead>\n",
              "    <tr style=\"text-align: right;\">\n",
              "      <th></th>\n",
              "      <th>id_user</th>\n",
              "      <th>val_median</th>\n",
              "      <th>val_mean</th>\n",
              "      <th>val_std</th>\n",
              "    </tr>\n",
              "  </thead>\n",
              "  <tbody>\n",
              "    <tr>\n",
              "      <th>0</th>\n",
              "      <td>1</td>\n",
              "      <td>748</td>\n",
              "      <td>747.627807</td>\n",
              "      <td>118.458362</td>\n",
              "    </tr>\n",
              "    <tr>\n",
              "      <th>1</th>\n",
              "      <td>2</td>\n",
              "      <td>780</td>\n",
              "      <td>777.946903</td>\n",
              "      <td>52.730230</td>\n",
              "    </tr>\n",
              "    <tr>\n",
              "      <th>2</th>\n",
              "      <td>3</td>\n",
              "      <td>788</td>\n",
              "      <td>787.695238</td>\n",
              "      <td>26.985439</td>\n",
              "    </tr>\n",
              "    <tr>\n",
              "      <th>3</th>\n",
              "      <td>4</td>\n",
              "      <td>788</td>\n",
              "      <td>787.229630</td>\n",
              "      <td>22.042002</td>\n",
              "    </tr>\n",
              "    <tr>\n",
              "      <th>4</th>\n",
              "      <td>5</td>\n",
              "      <td>784</td>\n",
              "      <td>784.931217</td>\n",
              "      <td>19.608415</td>\n",
              "    </tr>\n",
              "    <tr>\n",
              "      <th>...</th>\n",
              "      <td>...</td>\n",
              "      <td>...</td>\n",
              "      <td>...</td>\n",
              "      <td>...</td>\n",
              "    </tr>\n",
              "    <tr>\n",
              "      <th>224</th>\n",
              "      <td>270</td>\n",
              "      <td>620</td>\n",
              "      <td>625.590361</td>\n",
              "      <td>61.842231</td>\n",
              "    </tr>\n",
              "    <tr>\n",
              "      <th>225</th>\n",
              "      <td>271</td>\n",
              "      <td>616</td>\n",
              "      <td>637.361702</td>\n",
              "      <td>114.622192</td>\n",
              "    </tr>\n",
              "    <tr>\n",
              "      <th>226</th>\n",
              "      <td>272</td>\n",
              "      <td>592</td>\n",
              "      <td>588.991150</td>\n",
              "      <td>24.404513</td>\n",
              "    </tr>\n",
              "    <tr>\n",
              "      <th>227</th>\n",
              "      <td>273</td>\n",
              "      <td>616</td>\n",
              "      <td>626.461538</td>\n",
              "      <td>82.063310</td>\n",
              "    </tr>\n",
              "    <tr>\n",
              "      <th>228</th>\n",
              "      <td>275</td>\n",
              "      <td>576</td>\n",
              "      <td>590.820000</td>\n",
              "      <td>93.471559</td>\n",
              "    </tr>\n",
              "  </tbody>\n",
              "</table>\n",
              "<p>229 rows × 4 columns</p>\n",
              "</div>"
            ],
            "text/plain": [
              "     id_user  val_median    val_mean     val_std\n",
              "0          1         748  747.627807  118.458362\n",
              "1          2         780  777.946903   52.730230\n",
              "2          3         788  787.695238   26.985439\n",
              "3          4         788  787.229630   22.042002\n",
              "4          5         784  784.931217   19.608415\n",
              "..       ...         ...         ...         ...\n",
              "224      270         620  625.590361   61.842231\n",
              "225      271         616  637.361702  114.622192\n",
              "226      272         592  588.991150   24.404513\n",
              "227      273         616  626.461538   82.063310\n",
              "228      275         576  590.820000   93.471559\n",
              "\n",
              "[229 rows x 4 columns]"
            ]
          },
          "metadata": {
            "tags": []
          },
          "execution_count": 8
        }
      ]
    },
    {
      "cell_type": "code",
      "metadata": {
        "id": "jCBHggavgw4S"
      },
      "source": [
        "df_new = df.merge(df_stats, on='id_user', how='left')\n",
        "df_new['x_norm'] = (df_new['x'] / df_new['val_median']).astype('float64')\n",
        "quantile_list = df_new.x_norm.quantile([i/10 for i in range(10)])\n",
        "code_list = list('ABCDEFGHIJKLMNOPQRST')[:len(quantile_list)+2]\n",
        "quantile_list.index = quantile_list.index * 10"
      ],
      "execution_count": null,
      "outputs": []
    },
    {
      "cell_type": "code",
      "metadata": {
        "colab": {
          "base_uri": "https://localhost:8080/"
        },
        "id": "s_qJ_k8lwoGc",
        "outputId": "83391d95-d20e-492f-df1c-cfe94a575b22"
      },
      "source": [
        "code_list"
      ],
      "execution_count": null,
      "outputs": [
        {
          "output_type": "execute_result",
          "data": {
            "text/plain": [
              "['A', 'B', 'C', 'D', 'E', 'F', 'G', 'H', 'I', 'J', 'K', 'L']"
            ]
          },
          "metadata": {
            "tags": []
          },
          "execution_count": 10
        }
      ]
    },
    {
      "cell_type": "code",
      "metadata": {
        "id": "-sDh_WlBrRfi"
      },
      "source": [
        "df_new['x_code'] = np.zeros(df_new.shape[0])\n",
        "df_new.x_code = ''\n",
        "q_val_t0 = (quantile_list[0])\n",
        "df_new.loc[df_new.x_norm < q_val_t0, 'x_code'] = code_list[0]\n",
        "for i in range(1, len(quantile_list)):\n",
        "    q_val = quantile_list[i]\n",
        "    df_new.loc[(df_new.x_norm >= q_val_t0) & (df_new.x_norm < q_val), 'x_code'] = code_list[i]\n",
        "    q_val_t0 = q_val\n",
        "q_val_t0 = (quantile_list[9])\n",
        "df_new.loc[df_new.x_norm >= q_val_t0, 'x_code'] = code_list[11]"
      ],
      "execution_count": null,
      "outputs": []
    },
    {
      "cell_type": "code",
      "metadata": {
        "id": "QfF_y4sZ3Vw5"
      },
      "source": [
        "index_ids = df_new.id_user.unique()\n",
        "count_trshd = 80\n",
        "seq = ''\n",
        "sequences = list()\n",
        "seq_user_id = list()\n",
        "for iid in index_ids:\n",
        "    df_id = df_new[df_new.id_user == iid]\n",
        "    # print(df_id.shape)\n",
        "    for symbl in df_id.x_code.values:\n",
        "        seq += symbl\n",
        "        if len(seq) == count_trshd:\n",
        "            sequences.append(seq)\n",
        "            seq_user_id.append(iid)\n",
        "            seq = ''\n",
        "    # sequences.append(seq)\n",
        "    # seq_user_id.append(iid)\n",
        "    seq = ''\n",
        "df_rnn = pd.DataFrame({'ID_USER':seq_user_id, 'SEQ': sequences})"
      ],
      "execution_count": null,
      "outputs": []
    },
    {
      "cell_type": "code",
      "metadata": {
        "colab": {
          "base_uri": "https://localhost:8080/"
        },
        "id": "vhQnd17hAH70",
        "outputId": "0138f41e-f413-48e8-897c-e9039a7a14de"
      },
      "source": [
        "# dict <index>:<char>\n",
        "# Your great code here\n",
        "\n",
        "# dict <char>:<index>\n",
        "# Your great code here\n",
        "tokens = code_list\n",
        "print(tokens)\n",
        "token_to_idx = {token: ind for ind, token in enumerate(tokens)}\n",
        "idx_to_token = {ind: token for ind, token in enumerate(tokens)}\n",
        "num_tokens = len(tokens)\n",
        "\n",
        "print(token_to_idx)\n",
        "print(idx_to_token)"
      ],
      "execution_count": null,
      "outputs": [
        {
          "output_type": "stream",
          "text": [
            "['A', 'B', 'C', 'D', 'E', 'F', 'G', 'H', 'I', 'J', 'K', 'L']\n",
            "{'A': 0, 'B': 1, 'C': 2, 'D': 3, 'E': 4, 'F': 5, 'G': 6, 'H': 7, 'I': 8, 'J': 9, 'K': 10, 'L': 11}\n",
            "{0: 'A', 1: 'B', 2: 'C', 3: 'D', 4: 'E', 5: 'F', 6: 'G', 7: 'H', 8: 'I', 9: 'J', 10: 'K', 11: 'L'}\n"
          ],
          "name": "stdout"
        }
      ]
    },
    {
      "cell_type": "code",
      "metadata": {
        "colab": {
          "base_uri": "https://localhost:8080/"
        },
        "id": "saFVSibXK-Xo",
        "outputId": "3c1acc65-0ace-4708-d7bf-8b57168845c9"
      },
      "source": [
        "# Your code here\n",
        "\n",
        "import torch, torch.nn as nn\n",
        "import time\n",
        "from torch.optim import lr_scheduler, Adam\n",
        "import torch.nn.functional as F\n",
        "import numpy as np\n",
        "from IPython.display import clear_output\n",
        "from random import sample\n",
        "from torch.utils.data import DataLoader\n",
        "from matplotlib import pyplot as plt\n",
        "import torch, torch.nn as nn\n",
        "import torch.nn.functional as F\n",
        "\n",
        "from IPython.display import clear_output\n",
        "from random import sample\n",
        "\n",
        "device = \"cuda:0\" if torch.cuda.is_available() else \"cpu\"\n",
        "print(device)\n",
        "\n",
        "# Your beautiful code here\n",
        "class LSTM(nn.Module):\n",
        "    \n",
        "    def __init__(self, num_tokens=len(token_to_idx), embedding_size=16, rnn_num_units=256):\n",
        "        super(self.__class__, self).__init__()\n",
        "        self.num_units = rnn_num_units\n",
        "        self.embedding = nn.Embedding(num_tokens, embedding_size)\n",
        "        \n",
        "        self.lstm = nn.LSTMCell(embedding_size, rnn_num_units)\n",
        "        self.fc = nn.Linear(in_features=rnn_num_units, out_features=len(token_to_idx))\n",
        "        \n",
        "    def forward(self, x, h_prev, c_prev):\n",
        "        \"\"\"\n",
        "        This method computes h_next(x, h_prev) and log P(x_next | h_next)\n",
        "        We'll call it repeatedly to produce the whole sequence.\n",
        "        \n",
        "        :param x: batch of character ids, containing vector of int64\n",
        "        :param h_prev: previous rnn hidden states, containing matrix [batch, rnn_num_units] of float32\n",
        "        \"\"\"\n",
        "        x_emb = self.embedding(x)\n",
        "        h, c = self.lstm(x_emb, (h_prev, c_prev))\n",
        "        \n",
        "        output = self.fc(h)\n",
        "        \n",
        "        return h, c, F.log_softmax(output, -1)\n",
        "    \n",
        "    def initial_state(self, batch_size):\n",
        "        return torch.randn(batch_size, self.num_units, requires_grad=True).to(device), \\\n",
        "               torch.randn(batch_size, self.num_units, requires_grad=True).to(device)"
      ],
      "execution_count": null,
      "outputs": [
        {
          "output_type": "stream",
          "text": [
            "cuda:0\n"
          ],
          "name": "stdout"
        }
      ]
    },
    {
      "cell_type": "code",
      "metadata": {
        "id": "0mdzmZB8LEa3"
      },
      "source": [
        "def to_matrix(tok_to_id, text, samples_num=645, batch_len=80):\n",
        "    \n",
        "    return torch.tensor([[tok_to_id[tok] for tok in text[start:start+batch_len]]\n",
        "            for start in torch.randint(0, len(text) - batch_len, (samples_num,))]).to(device)\n",
        "\n",
        "def lstm_loop(model, batch_ix):\n",
        "    \"\"\"\n",
        "    Computes log P(next_character) for all time-steps in names_ix\n",
        "    :param names_ix: an int32 matrix of shape [batch, time], output of to_matrix(names)\n",
        "    \"\"\"\n",
        "    batch_size, max_length = batch_ix.size()\n",
        "    hid_state, cell_state = model.initial_state(batch_size)\n",
        "    logprobs = []\n",
        "\n",
        "    for x_t in batch_ix.transpose(0, 1):\n",
        "        hid_state, cell_state, logp_next = model(x_t, hid_state, cell_state)  # <-- here we call your one-step code\n",
        "        logprobs.append(logp_next)\n",
        "        \n",
        "    return torch.stack(logprobs, dim=1)"
      ],
      "execution_count": null,
      "outputs": []
    },
    {
      "cell_type": "code",
      "metadata": {
        "id": "5r6oCrX4LH5g"
      },
      "source": [
        "batch_size = 16\n",
        "model = LSTM()\n",
        "text_processed = list(df_rnn.SEQ.values)\n",
        "# dict <index>:<char>\n",
        "# Your great code here\n",
        "token_to_idx = {char: index for (char, index) in zip(tokens, list(range(len(tokens))))}\n",
        "# dict <char>:<index>\n",
        "# Your great code here\n",
        "idx_to_char = {index: char for (char, index) in zip(tokens, list(range(len(tokens))))}\n",
        "\n",
        "# dataloader = DataLoader(to_matrix(sample(text_processed, 80), max_len=MAX_LENGTH), batch_size=batch_size, shuffle=True)\n",
        "text = ''.join(text_processed)\n",
        "dataloader = DataLoader(to_matrix(token_to_idx, text), batch_size=batch_size, shuffle=True)\n",
        "optimizer = torch.optim.Adam(model.parameters())\n",
        "criterion = nn.CrossEntropyLoss()\n",
        "scheduler = lr_scheduler.StepLR(optimizer, step_size=20, gamma=0.7)"
      ],
      "execution_count": null,
      "outputs": []
    },
    {
      "cell_type": "code",
      "metadata": {
        "id": "ZuI3yKePLTAl"
      },
      "source": [
        "def train_model(model, criterion, optimizer, scheduler, num_epochs=300):\n",
        "    \n",
        "    since = time.time()\n",
        "    model.to(device)\n",
        "    model.train()\n",
        "    \n",
        "    losses = []\n",
        "    for epoch in range(num_epochs):\n",
        "\n",
        "        running_loss = 0.0\n",
        "\n",
        "        for inputs in dataloader:\n",
        "            \n",
        "            inputs = inputs.to(device)\n",
        "            \n",
        "            optimizer.zero_grad()\n",
        "            logp_seq = lstm_loop(model, inputs)\n",
        "            predictions_logp = logp_seq[:, :-1]\n",
        "            actual_next_tokens = inputs[:, 1:]\n",
        "\n",
        "            logp_next = torch.gather(predictions_logp, dim=2, index=actual_next_tokens[:,:,None])\n",
        "\n",
        "            loss = -logp_next.mean()\n",
        "            loss.backward()\n",
        "            \n",
        "            optimizer.step()\n",
        "            optimizer.zero_grad()\n",
        "            running_loss += loss\n",
        "\n",
        "        scheduler.step()\n",
        "\n",
        "        epoch_loss = running_loss / len(dataloader)\n",
        "        losses.append(epoch_loss)\n",
        "        clear_output(True)\n",
        "        plt.plot(losses, label='current loss: {:.2}'.format(epoch_loss))\n",
        "        plt.legend()\n",
        "        plt.show()\n",
        "\n",
        "    time_elapsed = time.time() - since\n",
        "    print('Training complete in {:.0f}m {:.0f}s'.format(\n",
        "        time_elapsed // 60, time_elapsed % 60))\n",
        "    \n",
        "    return model, losses"
      ],
      "execution_count": null,
      "outputs": []
    },
    {
      "cell_type": "code",
      "metadata": {
        "colab": {
          "base_uri": "https://localhost:8080/",
          "height": 282
        },
        "id": "gnjZF5gaMo43",
        "outputId": "eddecb03-ee69-477a-b4a0-bb034b8060fb"
      },
      "source": [
        "# Your plot code here\n",
        "model, losses = train_model(model, criterion, optimizer, scheduler)"
      ],
      "execution_count": null,
      "outputs": [
        {
          "output_type": "display_data",
          "data": {
            "image/png": "[encoded data removed]",
            "text/plain": [
              "<Figure size 432x288 with 1 Axes>"
            ]
          },
          "metadata": {
            "tags": [],
            "needs_background": "light"
          }
        },
        {
          "output_type": "stream",
          "text": [
            "Training complete in 7m 20s\n"
          ],
          "name": "stdout"
        }
      ]
    },
    {
      "cell_type": "code",
      "metadata": {
        "id": "8U1QPWDLMueI"
      },
      "source": [
        "# Text generation with different temperature values here\n",
        "def generate_text(model, init='JD', length=256, temperature=1.0):\n",
        "\n",
        "    x_sequence = [token_to_idx[token] for token in init]\n",
        "    x_sequence = torch.tensor([x_sequence], dtype=torch.int64, device=device)\n",
        "    hid_state, cell_state = model.initial_state(batch_size=1)\n",
        "    model.eval()\n",
        "    \n",
        "    for i in range(len(init) - 1):\n",
        "        hid_state, cell_state, _ = model(x_sequence[:, i], hid_state, cell_state)\n",
        "    \n",
        "    for _ in range(length - len(init)):\n",
        "        hid_state, cell_state, logp_next = model(x_sequence[:, -1], hid_state, cell_state)\n",
        "        p_next = F.softmax(logp_next / temperature, dim=-1).data.cpu().numpy()[0]\n",
        "        \n",
        "        next_ix = np.random.choice(len(token_to_idx), p=p_next)\n",
        "        next_ix = torch.tensor([[next_ix]], dtype=torch.int64, device=device)\n",
        "        x_sequence = torch.cat([x_sequence, next_ix], dim=1)\n",
        "        \n",
        "    return ''.join([tokens[ix] for ix in x_sequence.data.cpu().numpy()[0]])"
      ],
      "execution_count": null,
      "outputs": []
    },
    {
      "cell_type": "code",
      "metadata": {
        "colab": {
          "base_uri": "https://localhost:8080/"
        },
        "id": "TL02_1pcT2ps",
        "outputId": "145be480-d42a-49ee-96e7-70f632458a69"
      },
      "source": [
        "print(\"Generated texts:\")\n",
        "\n",
        "for temp in [0.3, 0.5, 0.6, 1.0, 2.0]:\n",
        "    gen_txt = generate_text(model, init=sequences[4][:60], length=80, temperature=temp)\n",
        "    print(gen_txt[61:])\n",
        "    print(\"-\"*20)\n",
        "print(sequences[0][61:])"
      ],
      "execution_count": null,
      "outputs": [
        {
          "output_type": "stream",
          "text": [
            "Generated texts:\n",
            "IJIJJIIHGLGHIIIIIHH\n",
            "--------------------\n",
            "IJIJJIIHGLGHIIIIIHH\n",
            "--------------------\n",
            "JIJJIIJGHHHGEEDDDDE\n",
            "--------------------\n",
            "IJIJIJJGHHGLGIIIIIH\n",
            "--------------------\n",
            "JIDJIJJHJILLIIIIJIL\n",
            "--------------------\n",
            "DDDCCCCDDGGIIDBBCCD\n"
          ],
          "name": "stdout"
        }
      ]
    },
    {
      "cell_type": "code",
      "metadata": {
        "id": "RQCMkIFrT2U_",
        "colab": {
          "base_uri": "https://localhost:8080/",
          "height": 37
        },
        "outputId": "b4b23e91-ad25-46dd-86b0-efe5882bb996"
      },
      "source": [
        "generate_text(model, init=sequences[4][:60], length=80, temperature=0.5)[61:]"
      ],
      "execution_count": null,
      "outputs": [
        {
          "output_type": "execute_result",
          "data": {
            "application/vnd.google.colaboratory.intrinsic+json": {
              "type": "string"
            },
            "text/plain": [
              "'IJIJJIIHGLGHIIIIIHI'"
            ]
          },
          "metadata": {
            "tags": []
          },
          "execution_count": 32
        }
      ]
    },
    {
      "cell_type": "markdown",
      "metadata": {
        "id": "I16Db6UlxKal"
      },
      "source": [
        "2.7 - среднее время замеров\n",
        "\n",
        "229 - количество id пользователей\n",
        "\n",
        "все с аномалиями\n",
        "\n",
        "264 среднее число точек"
      ]
    }
  ]
}