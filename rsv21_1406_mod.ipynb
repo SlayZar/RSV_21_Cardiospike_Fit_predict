{
 "cells": [
  {
   "cell_type": "markdown",
   "metadata": {
    "id": "LN6ebImXIYp7"
   },
   "source": [
    "## Import libraries"
   ]
  },
  {
   "cell_type": "code",
   "execution_count": 1,
   "metadata": {
    "id": "hBYfAVV4LgKO"
   },
   "outputs": [],
   "source": [
    "# !pip install optuna\n",
    "# !pip install catboost\n",
    "# !pip install shap\n",
    "# !pip install hrv-analysis\n",
    "import pandas as pd\n",
    "import numpy as np\n",
    "from matplotlib import pyplot as plt\n",
    "from tqdm import tqdm_notebook\n",
    "import warnings\n",
    "import optuna\n",
    "from sklearn.metrics import accuracy_score, roc_auc_score, make_scorer, auc, roc_curve\n",
    "from catboost import CatBoostClassifier, Pool\n",
    "import shap\n",
    "from sklearn.metrics import f1_score\n",
    "from hrvanalysis import remove_outliers, remove_ectopic_beats, interpolate_nan_values\n",
    "warnings.filterwarnings(\"ignore\")\n",
    "%matplotlib inline"
   ]
  },
  {
   "cell_type": "code",
   "execution_count": 3,
   "metadata": {},
   "outputs": [
    {
     "data": {
      "text/plain": [
       "'0.79.0'"
      ]
     },
     "execution_count": 3,
     "metadata": {},
     "output_type": "execute_result"
    }
   ],
   "source": [
    "import streamlit as st\n",
    "st.__version__"
   ]
  },
  {
   "cell_type": "markdown",
   "metadata": {
    "id": "dBYWFha7LgKU"
   },
   "source": [
    "- `train.csv` обучающая выборка со следующими столбцами:  \n",
    "   - **id** - идентификатор временного ряда сердечного ритма\n",
    "   - **time** - время в ms ( миллисекунды)\n",
    "   - **x** - R-R интервал\n",
    "   - **y** - признак разметки ковидной аномалии"
   ]
  },
  {
   "cell_type": "code",
   "execution_count": 13,
   "metadata": {
    "id": "Uso4WWbVgK0_"
   },
   "outputs": [],
   "source": [
    "df = pd.read_csv('../data/train.csv')"
   ]
  },
  {
   "cell_type": "code",
   "execution_count": 14,
   "metadata": {
    "colab": {
     "base_uri": "https://localhost:8080/"
    },
    "id": "ZXYelCmaCIbi",
    "outputId": "2fa3b134-6f6b-443a-b14e-95098f45e963"
   },
   "outputs": [
    {
     "data": {
      "text/plain": [
       "((43306, 4), (8872, 4), (8309, 4))"
      ]
     },
     "execution_count": 14,
     "metadata": {},
     "output_type": "execute_result"
    }
   ],
   "source": [
    "# Train - Val - Test split\n",
    "df.sort_values(by=['id', 'time'], inplace=True)\n",
    "\n",
    "df_train = df[df.id<175].copy()\n",
    "df_val = df[(df.id>=175) & (df.id<225)]\n",
    "df_test = df[df.id>=225].copy()\n",
    "df_train.shape, df_val.shape, df_test.shape"
   ]
  },
  {
   "cell_type": "markdown",
   "metadata": {
    "id": "boJ0AQAqAXhZ"
   },
   "source": [
    "## Feature engeneering"
   ]
  },
  {
   "cell_type": "code",
   "execution_count": 5,
   "metadata": {
    "id": "oyvk43BlS1Oi"
   },
   "outputs": [],
   "source": [
    "# Обнаружение аномалий, накопительное среднее\n",
    "def anomaly_detected(df):\n",
    "  new_df = pd.DataFrame()\n",
    "  for i in df.id.unique():\n",
    "    new_df_tmp = pd.concat([df[df.id==i].merge(\n",
    "        pd.DataFrame(remove_outliers(df[df.id==i]['x'], verbose = False), columns=['anomaly_1']),\n",
    "                    on = np.arange(len(df[df.id==i]))).drop(['key_0'], axis=1)])\n",
    "    new_df = pd.concat([new_df, new_df_tmp])\n",
    "  new_df2 = pd.DataFrame()\n",
    "  for i in df.id.unique():\n",
    "    new_df2_tmp = pd.concat([df[df.id==i].merge(\n",
    "        pd.DataFrame(remove_ectopic_beats(list(df[df.id==i]['x']), verbose = False), columns=['anomaly_2']),\n",
    "                    on = np.arange(len(df[df.id==i]))).drop(['key_0'], axis=1)])\n",
    "    new_df2 = pd.concat([new_df2, new_df2_tmp])\n",
    "  new_df['anomaly__1'] = (new_df['anomaly_1'].isnull()).astype(int)\n",
    "  new_df2['anomaly__2'] = (new_df2['anomaly_2'].isnull()).astype(int)\n",
    "  new_df.drop(['anomaly_1'], axis=1, inplace=True)\n",
    "  new_df2.drop(['anomaly_2'], axis=1, inplace=True)\n",
    "  df = new_df.merge(new_df2[['id', 'time', 'anomaly__2']], on = ['id', 'time'])\n",
    "  df['EMA'] = df['x'].ewm(span=40,adjust=False).mean()\n",
    "  df['one'] = 1\n",
    "  df['x_cummean'] = df['x'].cumsum() / df['one'].cumsum()\n",
    "  df['is_anomaly'] = df['anomaly__1'] + df['anomaly__2']\n",
    "  df.drop(['one'], axis=1, inplace=True)\n",
    "  return df"
   ]
  },
  {
   "cell_type": "code",
   "execution_count": 6,
   "metadata": {
    "colab": {
     "base_uri": "https://localhost:8080/"
    },
    "id": "KEMVhHOEgfA4",
    "outputId": "331ebd73-265b-483b-c2ef-461efe4683a6"
   },
   "outputs": [
    {
     "name": "stdout",
     "output_type": "stream",
     "text": [
      "(43306, 9)\n"
     ]
    }
   ],
   "source": [
    "df_train = anomaly_detected(df_train)\n",
    "df_val = anomaly_detected(df_val)\n",
    "df_test = anomaly_detected(df_test)\n",
    "print(df_train.shape)"
   ]
  },
  {
   "cell_type": "code",
   "execution_count": 7,
   "metadata": {
    "id": "pcJFisqfFSeR"
   },
   "outputs": [],
   "source": [
    "# Накопительное среднее без аномалий, фичи по количеству аномалий\n",
    "def first_prepr(df_train, delete_anomaly = True):\n",
    "    df_train.sort_values(by=['id', 'time'], inplace=True)\n",
    "    df_train['anomaly1_cumsum'] = df_train.groupby(['id'])['anomaly__1'].cumsum()\n",
    "    df_train['anomaly2_cumsum'] = df_train.groupby(['id'])['anomaly__2'].cumsum()\n",
    "    df_train['one'] = 1\n",
    "    # Номер итерации\n",
    "    df_train['num_iter'] = df.groupby(['id']).cumcount()+1\n",
    "    df_train = df_train.merge(df_train.groupby(['id'])['x'].mean().to_frame('mean_value'),\n",
    "                                                      left_on = ['id'], right_index=True)\\\n",
    "        .merge(df_train.groupby(['id'])['x'].std().to_frame('std_value'), left_on = ['id'], right_index=True)\\\n",
    "            .merge(df_train.groupby(['id'])['x'].min().to_frame('min_value'), left_on = ['id'], right_index=True)\\\n",
    "                    .merge(df_train.groupby(['id'])['x'].max().to_frame('max_value'), left_on = ['id'], right_index=True)\\\n",
    "              .merge(df_train[df_train.is_anomaly==0].groupby(['id'])['x'].mean().to_frame('mean_not_anomaly'), \n",
    "                     left_on=['id'], right_index=True, how='left').\\\n",
    "              merge(df_train[df_train.is_anomaly==0].groupby(['id'])['x'].cumsum().to_frame('cumsum_wo_anomaly'), \n",
    "                     left_index =True, right_index=True, how='left').\\\n",
    "              merge(df_train[df_train.is_anomaly==0].groupby(['id'])['one'].cumsum().to_frame('cumcount_wo_anomaly'), \n",
    "                     left_index =True, right_index=True, how='left')\n",
    "    df_train['cummean_wo_anomaly'] = df_train['cumsum_wo_anomaly'] / df_train['cumcount_wo_anomaly']\n",
    "    for i in range(100):\n",
    "      if df_train.cummean_wo_anomaly.isnull().sum()>0:\n",
    "        df_train['cummean_wo_anomaly_sh_1'] = df_train['cummean_wo_anomaly'].shift(1)\n",
    "        df_train.loc[df_train.cummean_wo_anomaly.isnull(), 'cummean_wo_anomaly'] = \\\n",
    "              df_train.loc[df_train.cummean_wo_anomaly.isnull(), 'cummean_wo_anomaly_sh_1']\n",
    "    df_train['cummean_diff'] = df_train['cummean_wo_anomaly'] / df_train['x_cummean']\n",
    "    df_train['not_anomaly_perc'] = df_train['cumcount_wo_anomaly'] / df_train['num_iter']\n",
    "    df_train.drop(['cummean_wo_anomaly_sh_1', 'one', 'cumcount_wo_anomaly'], axis=1, inplace=True)\n",
    "    \n",
    "    if delete_anomaly:\n",
    "      df_train = df_train[df_train.anomaly__1==0]\n",
    "    return df_train"
   ]
  },
  {
   "cell_type": "code",
   "execution_count": 8,
   "metadata": {
    "id": "rdkZyZ16FYNE"
   },
   "outputs": [],
   "source": [
    "df_train = first_prepr(df_train)\n",
    "df_val = first_prepr(df_val)\n",
    "df_test = first_prepr(df_test)"
   ]
  },
  {
   "cell_type": "code",
   "execution_count": 9,
   "metadata": {
    "id": "H8PXk1lHLgKf"
   },
   "outputs": [],
   "source": [
    "# Куча фичей\n",
    "def feature_generate(df_train):\n",
    "    for n in tqdm_notebook([1,2,3,5,10,25,50,100,250,500, 10000]):\n",
    "        df_train = df_train.merge(df_train.groupby(['id'])['x'].rolling(window=n).mean().to_frame(f'mean_rolling_{n}'),\n",
    "               on = np.arange(len(df_train)), how='left').drop(['key_0'], axis=1)\n",
    "        df_train = df_train.merge(df_train.groupby(['id'])['x'].rolling(window=n).std().to_frame(f'std_rolling_{n}'),\n",
    "               on = np.arange(len(df_train)), how='left').drop(['key_0'], axis=1)\n",
    "        df_train = df_train.merge(df_train.groupby(['id'])['x'].rolling(\n",
    "            window=n, min_periods=1, center=True).mean().to_frame(f'mean_rolling_{n}_c'),\n",
    "               on = np.arange(len(df_train)), how='left').drop(['key_0'], axis=1)\n",
    "        df_train = df_train.merge(df_train.groupby(['id'])['x'].rolling(\n",
    "            window=n, min_periods=1, center=True).std().to_frame(f'std_rolling_{n}_c'),\n",
    "               on = np.arange(len(df_train)), how='left').drop(['key_0'], axis=1)\n",
    "        df_train = df_train.merge(df_train.groupby(['id'])['x'].rolling(window=n, min_periods=1)\\\n",
    "            .max().to_frame(f'max_rolling_1_{n}'),on = np.arange(len(df_train)), how='left').drop(['key_0'], axis=1)\n",
    "        df_train[f'max_rolling_1_{n}_rel1'] = df_train[f'max_rolling_1_{n}'] / df_train[f'mean_value']\n",
    "        df_train[f'max_rolling_1_{n}_rel2'] = df_train[f'max_rolling_1_{n}'] / df_train[f'max_value']\n",
    "        df_train[f'max_rolling_1_{n}_rel3'] = df_train[f'max_rolling_1_{n}'] / df_train[f'min_value']\n",
    "        df_train[f'max_rolling_1_{n}_rel4'] = df_train[f'max_rolling_1_{n}'] / df_train[f'cummean_wo_anomaly']\n",
    "        df_train[f'max_rolling_1_{n}_rel5'] = df_train[f'max_rolling_1_{n}'] / df_train[f'EMA']\n",
    "        df_train = df_train.merge(df_train.groupby(['id'])['x'].rolling(window=n, min_periods=1)\\\n",
    "            .mean().to_frame(f'mean_rolling_1_{n}'),on = np.arange(len(df_train)), how='left').drop(['key_0'], axis=1)\n",
    "        df_train = df_train.merge(df_train.groupby(['id'])['anomaly__1'].rolling(window=n, min_periods=1)\\\n",
    "            .mean().to_frame(f'mean_rolling_new_{n}'),on = np.arange(len(df_train)), how='left').drop(['key_0'], axis=1)\n",
    "        df_train = df_train.merge(df_train.groupby(['id'])['anomaly__2'].rolling(window=n, min_periods=1)\\\n",
    "            .mean().to_frame(f'mean_rolling_new2_{n}'),on = np.arange(len(df_train)), how='left').drop(['key_0'], axis=1)\n",
    "        df_train[f'mean_rolling_1_{n}_rel1'] = df_train[f'mean_rolling_1_{n}'] / df_train[f'mean_value']\n",
    "        df_train[f'mean_rolling_1_{n}_rel2'] = df_train[f'mean_rolling_1_{n}'] / df_train[f'max_value']\n",
    "        df_train[f'mean_rolling_1_{n}_rel3'] = df_train[f'mean_rolling_1_{n}'] / df_train[f'min_value']\n",
    "        df_train[f'mean_rolling_1_{n}_rel4'] = df_train[f'mean_rolling_1_{n}'] / df_train[f'cummean_wo_anomaly']\n",
    "        df_train[f'mean_rolling_1_{n}_rel5'] = df_train[f'mean_rolling_1_{n}'] / df_train[f'EMA']\n",
    "       \n",
    "        df_train = df_train.merge(df_train.groupby(['id'])['x'].rolling(window=n, min_periods=1)\\\n",
    "            .min().to_frame(f'min_rolling_1_{n}'),on = np.arange(len(df_train)), how='left').drop(['key_0'], axis=1)\n",
    "        df_train[f'min_rolling_1_{n}_rel1'] = df_train[f'min_rolling_1_{n}'] / df_train[f'mean_value']\n",
    "        df_train[f'min_rolling_1_{n}_rel2'] = df_train[f'min_rolling_1_{n}'] / df_train[f'max_value']\n",
    "        df_train[f'min_rolling_1_{n}_rel3'] = df_train[f'min_rolling_1_{n}'] / df_train[f'min_value']\n",
    "        df_train[f'min_rolling_1_{n}_rel4'] = df_train[f'min_rolling_1_{n}'] / df_train[f'cummean_wo_anomaly']\n",
    "        df_train[f'min_rolling_1_{n}_rel5'] = df_train[f'min_rolling_1_{n}'] / df_train[f'EMA']\n",
    "        df_train = df_train.merge(df_train.groupby(['id'])['x'].rolling(window=n, min_periods=1)\\\n",
    "            .median().to_frame(f'median_rolling_1_{n}'),on = np.arange(len(df_train)), how='left').drop(['key_0'], axis=1)\n",
    "        df_train[f'median_rolling_1_{n}_rel1'] = df_train[f'median_rolling_1_{n}'] / df_train[f'mean_value']\n",
    "        df_train[f'median_rolling_1_{n}_rel2'] = df_train[f'median_rolling_1_{n}'] / df_train[f'max_value']\n",
    "        df_train[f'median_rolling_1_{n}_rel3'] = df_train[f'median_rolling_1_{n}'] / df_train[f'min_value']\n",
    "        df_train[f'median_rolling_1_{n}_rel4'] = df_train[f'median_rolling_1_{n}'] / df_train[f'cummean_wo_anomaly']\n",
    "        df_train[f'median_rolling_1_{n}_rel5'] = df_train[f'median_rolling_1_{n}'] / df_train[f'EMA']\n",
    "        df_train = df_train.merge(df_train.groupby(['id'])['x'].rolling(window=n, min_periods=1)\\\n",
    "            .std().to_frame(f'std_rolling_1_{n}'),on = np.arange(len(df_train)), how='left').drop(['key_0'], axis=1)        \n",
    "        df_train[f'std_rolling_1_{n}_rel1'] = df_train[f'std_rolling_1_{n}'] / df_train[f'std_value']\n",
    "        df_train[f'std_rolling_1_{n}_rel2'] = df_train[f'std_rolling_1_{n}'] / df_train[f'mean_value']\n",
    "        df_train[f'std_rolling_1_{n}_rel3'] = df_train[f'std_rolling_1_{n}'] / df_train[f'cummean_wo_anomaly']\n",
    "        df_train[f'std_rolling_1_{n}_rel4'] = df_train[f'std_rolling_1_{n}'] / df_train[f'EMA']\n",
    "\n",
    "        df_train[f'up_anomaly_{n}'] = (df_train['x'] > df_train[f'mean_rolling_1_{n}_rel3'] + \\\n",
    "                                        df_train[f'std_rolling_1_{n}']).astype(int)\n",
    "        df_train[f'up_anomaly2_{n}'] = (df_train['x'] > df_train[f'mean_rolling_1_{n}_rel3'] + \\\n",
    "                                        2* df_train[f'std_rolling_1_{n}']).astype(int)\n",
    "        df_train[f'up_anomaly3_{n}'] = (df_train['x'] > df_train[f'mean_rolling_1_{n}_rel3'] + \\\n",
    "                                        3 * df_train[f'std_rolling_1_{n}']).astype(int)\n",
    "        df_train[f'down_anomaly_{n}'] = (df_train['x'] < df_train[f'mean_rolling_1_{n}_rel3'] - \\\n",
    "                                        df_train[f'std_rolling_1_{n}']).astype(int)\n",
    "        df_train[f'down_anomaly2_{n}'] = (df_train['x'] < df_train[f'mean_rolling_1_{n}_rel3'] - \\\n",
    "                                        2*df_train[f'std_rolling_1_{n}']).astype(int)\n",
    "        df_train[f'down_anomaly3_{n}'] = (df_train['x'] < df_train[f'mean_rolling_1_{n}_rel3'] - \\\n",
    "                                       3* df_train[f'std_rolling_1_{n}']).astype(int)\n",
    "        df_train[f'is_anomaly_{n}'] = df_train[f'up_anomaly_{n}'] + df_train[f'up_anomaly2_{n}'] + \\\n",
    "          df_train[f'up_anomaly3_{n}'] + df_train[f'down_anomaly_{n}'] + df_train[f'down_anomaly2_{n}'] + \\\n",
    "            df_train[f'down_anomaly3_{n}']\n",
    "\n",
    "        df_train[f'4up_anomaly_{n}'] = (df_train['x'] > df_train[f'mean_rolling_1_{n}_rel4'] + \\\n",
    "                                        df_train[f'std_rolling_1_{n}']).astype(int)\n",
    "        df_train[f'4up_anomaly2_{n}'] = (df_train['x'] > df_train[f'mean_rolling_1_{n}_rel4'] + \\\n",
    "                                        2* df_train[f'std_rolling_1_{n}']).astype(int)\n",
    "        df_train[f'4up_anomaly3_{n}'] = (df_train['x'] > df_train[f'mean_rolling_1_{n}_rel4'] + \\\n",
    "                                        3 * df_train[f'std_rolling_1_{n}']).astype(int)\n",
    "        df_train[f'4down_anomaly_{n}'] = (df_train['x'] < df_train[f'mean_rolling_1_{n}_rel4'] - \\\n",
    "                                        df_train[f'std_rolling_1_{n}']).astype(int)\n",
    "        df_train[f'4down_anomaly2_{n}'] = (df_train['x'] < df_train[f'mean_rolling_1_{n}_rel4'] - \\\n",
    "                                        2*df_train[f'std_rolling_1_{n}']).astype(int)\n",
    "        df_train[f'4down_anomaly3_{n}'] = (df_train['x'] < df_train[f'mean_rolling_1_{n}_rel4'] - \\\n",
    "                                       3* df_train[f'std_rolling_1_{n}']).astype(int)\n",
    "        df_train[f'4is_anomaly_{n}'] = df_train[f'4up_anomaly_{n}'] + df_train[f'4up_anomaly2_{n}'] + \\\n",
    "          df_train[f'4up_anomaly3_{n}'] + df_train[f'4down_anomaly_{n}'] + df_train[f'4down_anomaly2_{n}'] + \\\n",
    "            df_train[f'4down_anomaly3_{n}']        \n",
    "    df_train['strange_x1'] = df_train['x'] / df_train[f'mean_value']\n",
    "    df_train['strange_x2'] = df_train['x'] / df_train[f'cummean_wo_anomaly']\n",
    "    df_train['strange_x3'] = df_train['x'] / df_train[f'x_cummean']\n",
    "    df_train['strange_x4'] = df_train['x'] / df_train[f'EMA']\n",
    "    df_train['strange_x5'] = df_train['x'] / df_train[f'mean_rolling_5']\n",
    "    df_train['strange_x6'] = df_train['x'] / df_train[f'mean_rolling_100']\n",
    "    df_train.num_iter = (df_train.num_iter//100)\n",
    "    df_train['less066'] = (df_train['x'] / df_train['cummean_wo_anomaly'] <0.66).astype(int)\n",
    "    df_train['more133'] = (df_train['x'] / df_train['cummean_wo_anomaly'] >1.33).astype(int)\n",
    "    return df_train"
   ]
  },
  {
   "cell_type": "code",
   "execution_count": 10,
   "metadata": {
    "colab": {
     "base_uri": "https://localhost:8080/",
     "height": 0,
     "referenced_widgets": [
      "9d8b22caf39a453b964216c797e0b476",
      "ae9cf3b2df05474c9e68bd5adb806422",
      "f0208fc57e8949cc9dd5e4992c71e6bd",
      "93445071331e45168a9b8d606970bc06",
      "cf0434f4607e4032a5e8df0961776c45",
      "cfb1c6f464b84945a1534a9147a313b8",
      "7417e4a3ded34d4385aef754190b3dba",
      "abd25595f2814c5785db3a8e2d5e0d99",
      "b1c7bc18c4d8491ca311440c30c0b454",
      "142141fbcfcc498fa9489818818e1988",
      "3fe91f7ccaa84f43844faa9281e3e3d3",
      "52677e587bac452bbce5bae85a671b56",
      "b946fb0cfd114c3ab706974083d68e95",
      "f3dd9adfdf564ee88c097f37618c46ae",
      "4b14834b59d8405ba9d48452f127c2c1",
      "a52aadfc54924397bc1543e72d037242",
      "cf8d0d4e0b5c4b13922712cb774f9ab2",
      "ae8c28fa96054570a36df3e62c6ac5f3",
      "d734fcc250994e6e822e5d292f30dc3b",
      "8979d3d7657442ccabe2ffc7788a9fde",
      "2d822d48d04843aea6ce75cd16e2b3eb",
      "1353f7b4cb5240e489dcc8f0c3e0c6b7",
      "748e6f20aa1d4e1a954a114eedbed0fa",
      "baf08b8483724da8bb6b08daebc800bb"
     ]
    },
    "id": "Gc_DOfZ9LgKo",
    "outputId": "eaf5ed25-be89-4323-9e33-8c6a75b9c275"
   },
   "outputs": [
    {
     "data": {
      "application/vnd.jupyter.widget-view+json": {
       "model_id": "9d8b22caf39a453b964216c797e0b476",
       "version_major": 2,
       "version_minor": 0
      },
      "text/plain": [
       "HBox(children=(FloatProgress(value=0.0, max=11.0), HTML(value='')))"
      ]
     },
     "metadata": {
      "tags": []
     },
     "output_type": "display_data"
    },
    {
     "name": "stdout",
     "output_type": "stream",
     "text": [
      "\n"
     ]
    },
    {
     "data": {
      "application/vnd.jupyter.widget-view+json": {
       "model_id": "b1c7bc18c4d8491ca311440c30c0b454",
       "version_major": 2,
       "version_minor": 0
      },
      "text/plain": [
       "HBox(children=(FloatProgress(value=0.0, max=11.0), HTML(value='')))"
      ]
     },
     "metadata": {
      "tags": []
     },
     "output_type": "display_data"
    },
    {
     "name": "stdout",
     "output_type": "stream",
     "text": [
      "\n"
     ]
    },
    {
     "data": {
      "application/vnd.jupyter.widget-view+json": {
       "model_id": "cf8d0d4e0b5c4b13922712cb774f9ab2",
       "version_major": 2,
       "version_minor": 0
      },
      "text/plain": [
       "HBox(children=(FloatProgress(value=0.0, max=11.0), HTML(value='')))"
      ]
     },
     "metadata": {
      "tags": []
     },
     "output_type": "display_data"
    },
    {
     "name": "stdout",
     "output_type": "stream",
     "text": [
      "\n"
     ]
    }
   ],
   "source": [
    "df_train = feature_generate(df_train)\n",
    "df_val = feature_generate(df_val)\n",
    "df_test = feature_generate(df_test)"
   ]
  },
  {
   "cell_type": "code",
   "execution_count": 23,
   "metadata": {
    "colab": {
     "base_uri": "https://localhost:8080/"
    },
    "id": "9ucl2t4SU0RK",
    "outputId": "0d08ec2a-85c0-435b-8cf2-a768a7ec6b13"
   },
   "outputs": [
    {
     "data": {
      "text/plain": [
       "less066\n",
       "0    5845\n",
       "1       4\n",
       "Name: y, dtype: int64"
      ]
     },
     "execution_count": 23,
     "metadata": {
      "tags": []
     },
     "output_type": "execute_result"
    }
   ],
   "source": [
    "df_train.groupby(['less066'])['y'].sum()"
   ]
  },
  {
   "cell_type": "code",
   "execution_count": 56,
   "metadata": {
    "colab": {
     "base_uri": "https://localhost:8080/"
    },
    "id": "0xCp8RcKW1Y8",
    "outputId": "ee662208-00bc-47ca-fe2c-a88e7a1e9779"
   },
   "outputs": [
    {
     "data": {
      "text/plain": [
       "mean_rolling_new2_1\n",
       "0.0    5829\n",
       "1.0      16\n",
       "Name: y, dtype: int64"
      ]
     },
     "execution_count": 56,
     "metadata": {
      "tags": []
     },
     "output_type": "execute_result"
    }
   ],
   "source": [
    "df_train.groupby(['mean_rolling_new2_1'])['y'].sum()"
   ]
  },
  {
   "cell_type": "code",
   "execution_count": 59,
   "metadata": {
    "id": "OX2QWZ8NXVyM"
   },
   "outputs": [],
   "source": [
    "df_train = df_train[df_train['mean_rolling_new2_1']==0]\n",
    "df_val = df_val[df_val['mean_rolling_new2_1']==0]\n",
    "df_test = df_test[df_test['mean_rolling_new2_1']==0]"
   ]
  },
  {
   "cell_type": "code",
   "execution_count": 60,
   "metadata": {
    "id": "nkrUM_VAVYvk"
   },
   "outputs": [],
   "source": [
    "df_train = df_train[df_train.less066==0]\n",
    "df_val = df_val[df_val.less066==0]\n",
    "df_test = df_test[df_test.less066==0]"
   ]
  },
  {
   "cell_type": "code",
   "execution_count": 61,
   "metadata": {
    "colab": {
     "base_uri": "https://localhost:8080/"
    },
    "id": "4Wb_cIdiLgKr",
    "outputId": "b790c4a9-aad4-443f-b5e7-e4bf513e53b0"
   },
   "outputs": [
    {
     "data": {
      "text/plain": [
       "((33978, 568), (6878, 568), (6804, 568))"
      ]
     },
     "execution_count": 61,
     "metadata": {
      "tags": []
     },
     "output_type": "execute_result"
    }
   ],
   "source": [
    "df_train.shape, df_val.shape, df_test.shape"
   ]
  },
  {
   "cell_type": "code",
   "execution_count": 62,
   "metadata": {
    "colab": {
     "base_uri": "https://localhost:8080/"
    },
    "id": "3EBWQJh4Vzb8",
    "outputId": "5196dac0-7534-4c62-ea70-6187782a1ffd"
   },
   "outputs": [
    {
     "data": {
      "text/plain": [
       "0.1715521808228854"
      ]
     },
     "execution_count": 62,
     "metadata": {
      "tags": []
     },
     "output_type": "execute_result"
    }
   ],
   "source": [
    "df_train['y'].mean()"
   ]
  },
  {
   "cell_type": "code",
   "execution_count": 63,
   "metadata": {
    "id": "1yIKzm_iV3WZ"
   },
   "outputs": [],
   "source": [
    "stat = pd.DataFrame()\n",
    "for i in df_train.columns:\n",
    "  stat = pd.concat([stat, pd.DataFrame(df_train.groupby(['y'])[i].mean()).T])"
   ]
  },
  {
   "cell_type": "code",
   "execution_count": 64,
   "metadata": {
    "id": "WBgFUVE0WRQS"
   },
   "outputs": [],
   "source": [
    "stat['diff'] = (stat[1] - stat[0])/stat[0]"
   ]
  },
  {
   "cell_type": "code",
   "execution_count": 65,
   "metadata": {
    "colab": {
     "base_uri": "https://localhost:8080/",
     "height": 0
    },
    "id": "g8HZ3DIwWYEP",
    "outputId": "26d99c5d-00b3-43a6-d783-1e34194ccfa8"
   },
   "outputs": [
    {
     "data": {
      "text/html": [
       "<div>\n",
       "<style scoped>\n",
       "    .dataframe tbody tr th:only-of-type {\n",
       "        vertical-align: middle;\n",
       "    }\n",
       "\n",
       "    .dataframe tbody tr th {\n",
       "        vertical-align: top;\n",
       "    }\n",
       "\n",
       "    .dataframe thead th {\n",
       "        text-align: right;\n",
       "    }\n",
       "</style>\n",
       "<table border=\"1\" class=\"dataframe\">\n",
       "  <thead>\n",
       "    <tr style=\"text-align: right;\">\n",
       "      <th>y</th>\n",
       "      <th>0</th>\n",
       "      <th>1</th>\n",
       "      <th>diff</th>\n",
       "    </tr>\n",
       "  </thead>\n",
       "  <tbody>\n",
       "    <tr>\n",
       "      <th>mean_rolling_new2_2</th>\n",
       "      <td>0.035241</td>\n",
       "      <td>0.002659</td>\n",
       "      <td>-0.924545</td>\n",
       "    </tr>\n",
       "    <tr>\n",
       "      <th>mean_rolling_new2_3</th>\n",
       "      <td>0.045982</td>\n",
       "      <td>0.004403</td>\n",
       "      <td>-0.904238</td>\n",
       "    </tr>\n",
       "    <tr>\n",
       "      <th>mean_rolling_new2_5</th>\n",
       "      <td>0.055877</td>\n",
       "      <td>0.007720</td>\n",
       "      <td>-0.861839</td>\n",
       "    </tr>\n",
       "    <tr>\n",
       "      <th>more133</th>\n",
       "      <td>0.030445</td>\n",
       "      <td>0.006176</td>\n",
       "      <td>-0.797143</td>\n",
       "    </tr>\n",
       "    <tr>\n",
       "      <th>num_iter</th>\n",
       "      <td>4.898149</td>\n",
       "      <td>1.040659</td>\n",
       "      <td>-0.787540</td>\n",
       "    </tr>\n",
       "    <tr>\n",
       "      <th>...</th>\n",
       "      <td>...</td>\n",
       "      <td>...</td>\n",
       "      <td>...</td>\n",
       "    </tr>\n",
       "    <tr>\n",
       "      <th>std_rolling_1_3_rel1</th>\n",
       "      <td>0.318664</td>\n",
       "      <td>0.514529</td>\n",
       "      <td>0.614642</td>\n",
       "    </tr>\n",
       "    <tr>\n",
       "      <th>min_rolling_1_10000_rel2</th>\n",
       "      <td>0.329276</td>\n",
       "      <td>0.539137</td>\n",
       "      <td>0.637343</td>\n",
       "    </tr>\n",
       "    <tr>\n",
       "      <th>min_value</th>\n",
       "      <td>231.176809</td>\n",
       "      <td>392.107394</td>\n",
       "      <td>0.696136</td>\n",
       "    </tr>\n",
       "    <tr>\n",
       "      <th>std_rolling_1_2_rel1</th>\n",
       "      <td>0.249607</td>\n",
       "      <td>0.458809</td>\n",
       "      <td>0.838124</td>\n",
       "    </tr>\n",
       "    <tr>\n",
       "      <th>y</th>\n",
       "      <td>0.000000</td>\n",
       "      <td>1.000000</td>\n",
       "      <td>inf</td>\n",
       "    </tr>\n",
       "  </tbody>\n",
       "</table>\n",
       "<p>469 rows × 3 columns</p>\n",
       "</div>"
      ],
      "text/plain": [
       "y                                  0           1      diff\n",
       "mean_rolling_new2_2         0.035241    0.002659 -0.924545\n",
       "mean_rolling_new2_3         0.045982    0.004403 -0.904238\n",
       "mean_rolling_new2_5         0.055877    0.007720 -0.861839\n",
       "more133                     0.030445    0.006176 -0.797143\n",
       "num_iter                    4.898149    1.040659 -0.787540\n",
       "...                              ...         ...       ...\n",
       "std_rolling_1_3_rel1        0.318664    0.514529  0.614642\n",
       "min_rolling_1_10000_rel2    0.329276    0.539137  0.637343\n",
       "min_value                 231.176809  392.107394  0.696136\n",
       "std_rolling_1_2_rel1        0.249607    0.458809  0.838124\n",
       "y                           0.000000    1.000000       inf\n",
       "\n",
       "[469 rows x 3 columns]"
      ]
     },
     "execution_count": 65,
     "metadata": {
      "tags": []
     },
     "output_type": "execute_result"
    }
   ],
   "source": [
    "stat[~stat['diff'].isnull()].sort_values(by=['diff'])"
   ]
  },
  {
   "cell_type": "markdown",
   "metadata": {
    "id": "4aDWqR9SAKbi"
   },
   "source": [
    "## Обучений моделей, подбор фичей и параметров"
   ]
  },
  {
   "cell_type": "code",
   "execution_count": 68,
   "metadata": {
    "id": "pt0qO4X0LgKs"
   },
   "outputs": [],
   "source": [
    "train_pool = Pool(df_train.drop(['id', 'y'], axis=1), df_train['y'])\n",
    "val_pool = Pool(df_val.drop(['id', 'y'], axis=1), df_val['y'])\n",
    "test_pool = Pool(df_test.drop(['id', 'y'], axis=1), df_test['y'])"
   ]
  },
  {
   "cell_type": "code",
   "execution_count": 69,
   "metadata": {
    "id": "BeR24Et1O5PT"
   },
   "outputs": [],
   "source": [
    "y_train = df_train['y']\n",
    "y_val = df_val['y']"
   ]
  },
  {
   "cell_type": "code",
   "execution_count": 70,
   "metadata": {
    "id": "iuuzUYDmNYJq"
   },
   "outputs": [],
   "source": [
    "def objective(trial): \n",
    "    param = {                 \n",
    "            'depth' : trial.suggest_int('max_depth',1,7),\n",
    "            'n_estimators':  trial.suggest_int(\"n_estimators\", 100, 1000),\n",
    "            'l2_leaf_reg': trial.suggest_uniform(\"reg_lambda\", 0, 100),\n",
    "            'learning_rate' : trial.suggest_loguniform('learning_rate',0.01,0.1),\n",
    "            'border_count': trial.suggest_int(\"border_count\", 1, 255),\n",
    "            'random_strength' : trial.suggest_loguniform('random_strength', 1e-9, 10),\n",
    "            'bagging_temperature': trial.suggest_uniform(\"bagging_temperature\", 0, 1),\n",
    "        'task_type': 'GPU',\n",
    "        \"loss_function\":'Logloss', \n",
    "        'random_state':123,\n",
    "        \"verbose\": False\n",
    "    }\n",
    "    \n",
    "    cb = CatBoostClassifier(**param)\n",
    "    cb.fit(train_pool, eval_set=val_pool, early_stopping_rounds=50, verbose=0)\n",
    "    \n",
    "    train_auc = roc_auc_score(y_train, cb.predict_proba(train_pool)[:,1])\n",
    "    test_auc = roc_auc_score(y_val, cb.predict_proba(val_pool)[:,1])\n",
    "    print(f\"TRAIN GINI = {2*train_auc-1}\")\n",
    "    print(f\"Validate GINI = {2*test_auc-1}\")\n",
    "    res_val = []\n",
    "    res_train = []\n",
    "    res_test = []\n",
    "    for i in np.linspace(0,1,50):\n",
    "        res_val.append(f1_score(df_val['y'], cb.predict_proba(val_pool)[:,1]>i))\n",
    "        res_train.append(f1_score(df_train['y'], cb.predict_proba(train_pool)[:,1]>i))\n",
    "        res_test.append(f1_score(df_test['y'], cb.predict_proba(test_pool)[:,1]>i))\n",
    "    print('f1 train = ', round(np.max(res_train), 4))\n",
    "    print('f1 val = ', round(np.max(res_val), 4))\n",
    "    print('f1 test = ', round(res_test[np.argmax(res_val)], 4))\n",
    "    return np.max(res_val)#-train_auc + 10 * test_auc"
   ]
  },
  {
   "cell_type": "code",
   "execution_count": 71,
   "metadata": {
    "colab": {
     "base_uri": "https://localhost:8080/"
    },
    "id": "QN8JJ2cvUW7y",
    "outputId": "af21daee-56ff-4ad3-8479-4cd22bb14b58"
   },
   "outputs": [
    {
     "name": "stderr",
     "output_type": "stream",
     "text": [
      "\u001b[32m[I 2021-06-13 17:16:39,064]\u001b[0m A new study created in memory with name: no-name-f25abe13-e342-4cd2-a0af-74f890dfc833\u001b[0m\n"
     ]
    },
    {
     "name": "stdout",
     "output_type": "stream",
     "text": [
      "TRAIN GINI = 0.852203333752213\n",
      "Validate GINI = 0.7545582306369676\n"
     ]
    },
    {
     "name": "stderr",
     "output_type": "stream",
     "text": [
      "\u001b[32m[I 2021-06-13 17:16:54,316]\u001b[0m Trial 0 finished with value: 0.6524245506951509 and parameters: {'max_depth': 1, 'n_estimators': 574, 'reg_lambda': 96.9340794486101, 'learning_rate': 0.07252145477286852, 'border_count': 28, 'random_strength': 0.003905880064600551, 'bagging_temperature': 0.45614900641897604}. Best is trial 0 with value: 0.6524245506951509.\u001b[0m\n"
     ]
    },
    {
     "name": "stdout",
     "output_type": "stream",
     "text": [
      "f1 train =  0.7253\n",
      "f1 val =  0.6524\n",
      "f1 test =  0.6334\n",
      "TRAIN GINI = 0.9102061907762957\n",
      "Validate GINI = 0.7824003102606472\n"
     ]
    },
    {
     "name": "stderr",
     "output_type": "stream",
     "text": [
      "\u001b[32m[I 2021-06-13 17:17:07,840]\u001b[0m Trial 1 finished with value: 0.667717528373266 and parameters: {'max_depth': 3, 'n_estimators': 551, 'reg_lambda': 39.14333769161603, 'learning_rate': 0.05288632181511332, 'border_count': 38, 'random_strength': 4.007925452156242e-09, 'bagging_temperature': 0.9334593142630969}. Best is trial 1 with value: 0.667717528373266.\u001b[0m\n"
     ]
    },
    {
     "name": "stdout",
     "output_type": "stream",
     "text": [
      "f1 train =  0.7781\n",
      "f1 val =  0.6677\n",
      "f1 test =  0.6338\n",
      "TRAIN GINI = 0.9535736298643278\n",
      "Validate GINI = 0.8074722767481106\n"
     ]
    },
    {
     "name": "stderr",
     "output_type": "stream",
     "text": [
      "\u001b[32m[I 2021-06-13 17:17:21,706]\u001b[0m Trial 2 finished with value: 0.6810744056807657 and parameters: {'max_depth': 5, 'n_estimators': 601, 'reg_lambda': 65.35610268419669, 'learning_rate': 0.08115774830365269, 'border_count': 20, 'random_strength': 1.20850595961552e-08, 'bagging_temperature': 0.5174917397237961}. Best is trial 2 with value: 0.6810744056807657.\u001b[0m\n"
     ]
    },
    {
     "name": "stdout",
     "output_type": "stream",
     "text": [
      "f1 train =  0.838\n",
      "f1 val =  0.6811\n",
      "f1 test =  0.6494\n",
      "TRAIN GINI = 0.8167976928839713\n",
      "Validate GINI = 0.7430389816033234\n"
     ]
    },
    {
     "name": "stderr",
     "output_type": "stream",
     "text": [
      "\u001b[32m[I 2021-06-13 17:17:25,844]\u001b[0m Trial 3 finished with value: 0.6406790317510216 and parameters: {'max_depth': 1, 'n_estimators': 234, 'reg_lambda': 63.11944753366414, 'learning_rate': 0.0546767012073606, 'border_count': 163, 'random_strength': 0.18632909721231425, 'bagging_temperature': 0.834371723477215}. Best is trial 2 with value: 0.6810744056807657.\u001b[0m\n"
     ]
    },
    {
     "name": "stdout",
     "output_type": "stream",
     "text": [
      "f1 train =  0.6973\n",
      "f1 val =  0.6407\n",
      "f1 test =  0.6034\n",
      "TRAIN GINI = 0.8948887845133062\n",
      "Validate GINI = 0.7750495655590741\n"
     ]
    },
    {
     "name": "stderr",
     "output_type": "stream",
     "text": [
      "\u001b[32m[I 2021-06-13 17:17:46,647]\u001b[0m Trial 4 finished with value: 0.6579785693599768 and parameters: {'max_depth': 3, 'n_estimators': 801, 'reg_lambda': 41.59194144365217, 'learning_rate': 0.03883782019068557, 'border_count': 4, 'random_strength': 2.6768554002796074, 'bagging_temperature': 0.5566582156976664}. Best is trial 2 with value: 0.6810744056807657.\u001b[0m\n"
     ]
    },
    {
     "name": "stdout",
     "output_type": "stream",
     "text": [
      "f1 train =  0.7649\n",
      "f1 val =  0.658\n",
      "f1 test =  0.5988\n",
      "TRAIN GINI = 0.874201996225987\n",
      "Validate GINI = 0.7685143517358259\n"
     ]
    },
    {
     "name": "stderr",
     "output_type": "stream",
     "text": [
      "\u001b[32m[I 2021-06-13 17:17:52,337]\u001b[0m Trial 5 finished with value: 0.6664588528678305 and parameters: {'max_depth': 3, 'n_estimators': 286, 'reg_lambda': 42.41713745570772, 'learning_rate': 0.02483841579107604, 'border_count': 204, 'random_strength': 0.0010770402801149092, 'bagging_temperature': 0.3717810615149111}. Best is trial 2 with value: 0.6810744056807657.\u001b[0m\n"
     ]
    },
    {
     "name": "stdout",
     "output_type": "stream",
     "text": [
      "f1 train =  0.7404\n",
      "f1 val =  0.6665\n",
      "f1 test =  0.6242\n",
      "TRAIN GINI = 0.8134956982492758\n",
      "Validate GINI = 0.7473764743019915\n"
     ]
    },
    {
     "name": "stderr",
     "output_type": "stream",
     "text": [
      "\u001b[32m[I 2021-06-13 17:17:56,691]\u001b[0m Trial 6 finished with value: 0.6355247981545559 and parameters: {'max_depth': 3, 'n_estimators': 232, 'reg_lambda': 81.94229423328852, 'learning_rate': 0.010451581911618617, 'border_count': 34, 'random_strength': 1.2036233173311917e-05, 'bagging_temperature': 0.7172910930020969}. Best is trial 2 with value: 0.6810744056807657.\u001b[0m\n"
     ]
    },
    {
     "name": "stdout",
     "output_type": "stream",
     "text": [
      "f1 train =  0.6979\n",
      "f1 val =  0.6355\n",
      "f1 test =  0.5868\n",
      "TRAIN GINI = 0.9648502944478095\n",
      "Validate GINI = 0.8018078016545158\n"
     ]
    },
    {
     "name": "stderr",
     "output_type": "stream",
     "text": [
      "\u001b[32m[I 2021-06-13 17:18:15,593]\u001b[0m Trial 7 finished with value: 0.6795670711708757 and parameters: {'max_depth': 4, 'n_estimators': 908, 'reg_lambda': 56.812099872221346, 'learning_rate': 0.08596397854538632, 'border_count': 63, 'random_strength': 3.6237334903363566e-08, 'bagging_temperature': 0.02414310025127553}. Best is trial 2 with value: 0.6810744056807657.\u001b[0m\n"
     ]
    },
    {
     "name": "stdout",
     "output_type": "stream",
     "text": [
      "f1 train =  0.8583\n",
      "f1 val =  0.6796\n",
      "f1 test =  0.652\n",
      "TRAIN GINI = 0.8343050787850683\n",
      "Validate GINI = 0.7620855656891803\n"
     ]
    },
    {
     "name": "stderr",
     "output_type": "stream",
     "text": [
      "\u001b[32m[I 2021-06-13 17:18:20,141]\u001b[0m Trial 8 finished with value: 0.657191201353638 and parameters: {'max_depth': 2, 'n_estimators': 258, 'reg_lambda': 60.10955917214675, 'learning_rate': 0.024212843825882072, 'border_count': 64, 'random_strength': 1.8221494424259799, 'bagging_temperature': 0.7435901432723878}. Best is trial 2 with value: 0.6810744056807657.\u001b[0m\n"
     ]
    },
    {
     "name": "stdout",
     "output_type": "stream",
     "text": [
      "f1 train =  0.7041\n",
      "f1 val =  0.6572\n",
      "f1 test =  0.6173\n",
      "TRAIN GINI = 0.8156753475935148\n",
      "Validate GINI = 0.739886899924616\n"
     ]
    },
    {
     "name": "stderr",
     "output_type": "stream",
     "text": [
      "\u001b[32m[I 2021-06-13 17:18:27,525]\u001b[0m Trial 9 finished with value: 0.6461538461538462 and parameters: {'max_depth': 3, 'n_estimators': 363, 'reg_lambda': 45.59049866377916, 'learning_rate': 0.010965663001264064, 'border_count': 245, 'random_strength': 6.981538512743935, 'bagging_temperature': 0.700527332212743}. Best is trial 2 with value: 0.6810744056807657.\u001b[0m\n"
     ]
    },
    {
     "name": "stdout",
     "output_type": "stream",
     "text": [
      "f1 train =  0.6879\n",
      "f1 val =  0.6462\n",
      "f1 test =  0.5572\n",
      "TRAIN GINI = 0.9745123615252296\n",
      "Validate GINI = 0.7961763515735669\n"
     ]
    },
    {
     "name": "stderr",
     "output_type": "stream",
     "text": [
      "\u001b[32m[I 2021-06-13 17:18:43,988]\u001b[0m Trial 10 finished with value: 0.6927480916030534 and parameters: {'max_depth': 7, 'n_estimators': 758, 'reg_lambda': 6.22341053991218, 'learning_rate': 0.09952486916413943, 'border_count': 117, 'random_strength': 4.21026555348816e-07, 'bagging_temperature': 0.13529183059539435}. Best is trial 10 with value: 0.6927480916030534.\u001b[0m\n"
     ]
    },
    {
     "name": "stdout",
     "output_type": "stream",
     "text": [
      "f1 train =  0.8775\n",
      "f1 val =  0.6927\n",
      "f1 test =  0.6512\n",
      "TRAIN GINI = 0.9605190917208264\n",
      "Validate GINI = 0.7881241057543156\n"
     ]
    },
    {
     "name": "stderr",
     "output_type": "stream",
     "text": [
      "\u001b[32m[I 2021-06-13 17:18:57,257]\u001b[0m Trial 11 finished with value: 0.6829268292682927 and parameters: {'max_depth': 7, 'n_estimators': 739, 'reg_lambda': 2.3049414052930723, 'learning_rate': 0.09782313235980834, 'border_count': 117, 'random_strength': 3.8588015662475683e-07, 'bagging_temperature': 0.18291308447147817}. Best is trial 10 with value: 0.6927480916030534.\u001b[0m\n"
     ]
    },
    {
     "name": "stdout",
     "output_type": "stream",
     "text": [
      "f1 train =  0.8502\n",
      "f1 val =  0.6829\n",
      "f1 test =  0.6309\n",
      "TRAIN GINI = 0.963858287602585\n",
      "Validate GINI = 0.7874125101988094\n"
     ]
    },
    {
     "name": "stderr",
     "output_type": "stream",
     "text": [
      "\u001b[32m[I 2021-06-13 17:19:10,898]\u001b[0m Trial 12 finished with value: 0.6775157754898704 and parameters: {'max_depth': 7, 'n_estimators': 764, 'reg_lambda': 1.658195095522518, 'learning_rate': 0.09502094062983664, 'border_count': 108, 'random_strength': 1.3994153422026372e-06, 'bagging_temperature': 0.08457443375206518}. Best is trial 10 with value: 0.6927480916030534.\u001b[0m\n"
     ]
    },
    {
     "name": "stdout",
     "output_type": "stream",
     "text": [
      "f1 train =  0.8552\n",
      "f1 val =  0.6775\n",
      "f1 test =  0.645\n",
      "TRAIN GINI = 0.9560705380744128\n",
      "Validate GINI = 0.7933461703011422\n"
     ]
    },
    {
     "name": "stderr",
     "output_type": "stream",
     "text": [
      "\u001b[32m[I 2021-06-13 17:19:22,991]\u001b[0m Trial 13 finished with value: 0.6735350933676755 and parameters: {'max_depth': 7, 'n_estimators': 979, 'reg_lambda': 0.6958336009434634, 'learning_rate': 0.09823357326163273, 'border_count': 124, 'random_strength': 4.975426193833843e-07, 'bagging_temperature': 0.22087897989375793}. Best is trial 10 with value: 0.6927480916030534.\u001b[0m\n"
     ]
    },
    {
     "name": "stdout",
     "output_type": "stream",
     "text": [
      "f1 train =  0.8373\n",
      "f1 val =  0.6735\n",
      "f1 test =  0.6306\n",
      "TRAIN GINI = 0.9701704811139651\n",
      "Validate GINI = 0.8116949919499974\n"
     ]
    },
    {
     "name": "stderr",
     "output_type": "stream",
     "text": [
      "\u001b[32m[I 2021-06-13 17:19:47,511]\u001b[0m Trial 14 finished with value: 0.6927487352445195 and parameters: {'max_depth': 6, 'n_estimators': 751, 'reg_lambda': 19.612987535161885, 'learning_rate': 0.05487853211035497, 'border_count': 166, 'random_strength': 2.3523347592089216e-07, 'bagging_temperature': 0.20062512977644842}. Best is trial 14 with value: 0.6927487352445195.\u001b[0m\n"
     ]
    },
    {
     "name": "stdout",
     "output_type": "stream",
     "text": [
      "f1 train =  0.8695\n",
      "f1 val =  0.6927\n",
      "f1 test =  0.6519\n",
      "TRAIN GINI = 0.9694219218136197\n",
      "Validate GINI = 0.8037878069410103\n"
     ]
    },
    {
     "name": "stderr",
     "output_type": "stream",
     "text": [
      "\u001b[32m[I 2021-06-13 17:20:11,504]\u001b[0m Trial 15 finished with value: 0.6878436163714111 and parameters: {'max_depth': 6, 'n_estimators': 666, 'reg_lambda': 20.140807985798933, 'learning_rate': 0.056152413095624465, 'border_count': 192, 'random_strength': 4.26556621637732e-05, 'bagging_temperature': 0.26058657119996087}. Best is trial 14 with value: 0.6927487352445195.\u001b[0m\n"
     ]
    },
    {
     "name": "stdout",
     "output_type": "stream",
     "text": [
      "f1 train =  0.8654\n",
      "f1 val =  0.6878\n",
      "f1 test =  0.6444\n",
      "TRAIN GINI = 0.9500445820744317\n",
      "Validate GINI = 0.7945060336698104\n"
     ]
    },
    {
     "name": "stderr",
     "output_type": "stream",
     "text": [
      "\u001b[32m[I 2021-06-13 17:20:35,285]\u001b[0m Trial 16 finished with value: 0.6796052631578948 and parameters: {'max_depth': 6, 'n_estimators': 883, 'reg_lambda': 19.778733108613725, 'learning_rate': 0.033296993000803625, 'border_count': 145, 'random_strength': 9.208725995014686e-08, 'bagging_temperature': 0.014095231719442464}. Best is trial 14 with value: 0.6927487352445195.\u001b[0m\n"
     ]
    },
    {
     "name": "stdout",
     "output_type": "stream",
     "text": [
      "f1 train =  0.834\n",
      "f1 val =  0.6796\n",
      "f1 test =  0.6595\n",
      "TRAIN GINI = 0.9600489506002972\n",
      "Validate GINI = 0.8029854860677441\n"
     ]
    },
    {
     "name": "stderr",
     "output_type": "stream",
     "text": [
      "\u001b[32m[I 2021-06-13 17:20:42,287]\u001b[0m Trial 17 finished with value: 0.69327325394271 and parameters: {'max_depth': 6, 'n_estimators': 465, 'reg_lambda': 20.07598765666815, 'learning_rate': 0.06585044949971043, 'border_count': 92, 'random_strength': 1.1083031466607457e-05, 'bagging_temperature': 0.33348818746112613}. Best is trial 17 with value: 0.69327325394271.\u001b[0m\n"
     ]
    },
    {
     "name": "stdout",
     "output_type": "stream",
     "text": [
      "f1 train =  0.8496\n",
      "f1 val =  0.6933\n",
      "f1 test =  0.6457\n",
      "TRAIN GINI = 0.9592759520796501\n",
      "Validate GINI = 0.7942197753526479\n"
     ]
    },
    {
     "name": "stderr",
     "output_type": "stream",
     "text": [
      "\u001b[32m[I 2021-06-13 17:20:51,253]\u001b[0m Trial 18 finished with value: 0.687373396353815 and parameters: {'max_depth': 5, 'n_estimators': 428, 'reg_lambda': 27.47766132097394, 'learning_rate': 0.043201600396238396, 'border_count': 84, 'random_strength': 1.0427544973378118e-09, 'bagging_temperature': 0.34912063165103213}. Best is trial 17 with value: 0.69327325394271.\u001b[0m\n"
     ]
    },
    {
     "name": "stdout",
     "output_type": "stream",
     "text": [
      "f1 train =  0.8458\n",
      "f1 val =  0.6874\n",
      "f1 test =  0.6498\n",
      "TRAIN GINI = 0.9636423814134525\n",
      "Validate GINI = 0.8107767719757466\n"
     ]
    },
    {
     "name": "stderr",
     "output_type": "stream",
     "text": [
      "\u001b[32m[I 2021-06-13 17:20:59,096]\u001b[0m Trial 19 finished with value: 0.6950776346217377 and parameters: {'max_depth': 6, 'n_estimators': 449, 'reg_lambda': 28.839107410266198, 'learning_rate': 0.06483153401973087, 'border_count': 176, 'random_strength': 1.083814215203129e-05, 'bagging_temperature': 0.3166647571950393}. Best is trial 19 with value: 0.6950776346217377.\u001b[0m\n"
     ]
    },
    {
     "name": "stdout",
     "output_type": "stream",
     "text": [
      "f1 train =  0.8511\n",
      "f1 val =  0.6951\n",
      "f1 test =  0.6415\n",
      "TRAIN GINI = 0.9105824084993\n",
      "Validate GINI = 0.7872473851355788\n"
     ]
    },
    {
     "name": "stderr",
     "output_type": "stream",
     "text": [
      "\u001b[32m[I 2021-06-13 17:21:03,394]\u001b[0m Trial 20 finished with value: 0.6755674232309746 and parameters: {'max_depth': 5, 'n_estimators': 100, 'reg_lambda': 30.75512410113519, 'learning_rate': 0.06674244184294588, 'border_count': 219, 'random_strength': 0.002328997712408876, 'bagging_temperature': 0.33392319790379305}. Best is trial 19 with value: 0.6950776346217377.\u001b[0m\n"
     ]
    },
    {
     "name": "stdout",
     "output_type": "stream",
     "text": [
      "f1 train =  0.7738\n",
      "f1 val =  0.6756\n",
      "f1 test =  0.6462\n",
      "TRAIN GINI = 0.9618945688257536\n",
      "Validate GINI = 0.791641705780536\n"
     ]
    },
    {
     "name": "stderr",
     "output_type": "stream",
     "text": [
      "\u001b[32m[I 2021-06-13 17:21:10,825]\u001b[0m Trial 21 finished with value: 0.6876240900066182 and parameters: {'max_depth': 6, 'n_estimators': 450, 'reg_lambda': 14.639384252106886, 'learning_rate': 0.06312266050831408, 'border_count': 170, 'random_strength': 5.932897762634855e-06, 'bagging_temperature': 0.42835875358525966}. Best is trial 19 with value: 0.6950776346217377.\u001b[0m\n"
     ]
    },
    {
     "name": "stdout",
     "output_type": "stream",
     "text": [
      "f1 train =  0.851\n",
      "f1 val =  0.6876\n",
      "f1 test =  0.645\n",
      "TRAIN GINI = 0.9600246881224859\n",
      "Validate GINI = 0.7880027232550051\n"
     ]
    },
    {
     "name": "stderr",
     "output_type": "stream",
     "text": [
      "\u001b[32m[I 2021-06-13 17:21:19,392]\u001b[0m Trial 22 finished with value: 0.6790821416694379 and parameters: {'max_depth': 6, 'n_estimators': 441, 'reg_lambda': 12.111131145760211, 'learning_rate': 0.042333735219197734, 'border_count': 172, 'random_strength': 0.00021491124016923628, 'bagging_temperature': 0.26394338142334073}. Best is trial 19 with value: 0.6950776346217377.\u001b[0m\n"
     ]
    },
    {
     "name": "stdout",
     "output_type": "stream",
     "text": [
      "f1 train =  0.8431\n",
      "f1 val =  0.6791\n",
      "f1 test =  0.6431\n",
      "TRAIN GINI = 0.9644343523263192\n",
      "Validate GINI = 0.7952247327186024\n"
     ]
    },
    {
     "name": "stderr",
     "output_type": "stream",
     "text": [
      "\u001b[32m[I 2021-06-13 17:21:30,433]\u001b[0m Trial 23 finished with value: 0.6827361563517915 and parameters: {'max_depth': 5, 'n_estimators': 499, 'reg_lambda': 31.242877562577675, 'learning_rate': 0.047296771999674116, 'border_count': 236, 'random_strength': 3.4514027628854825e-06, 'bagging_temperature': 0.5578540754445744}. Best is trial 19 with value: 0.6950776346217377.\u001b[0m\n"
     ]
    },
    {
     "name": "stdout",
     "output_type": "stream",
     "text": [
      "f1 train =  0.853\n",
      "f1 val =  0.6827\n",
      "f1 test =  0.6524\n",
      "TRAIN GINI = 0.950643470957774\n",
      "Validate GINI = 0.7980600235212862\n"
     ]
    },
    {
     "name": "stderr",
     "output_type": "stream",
     "text": [
      "\u001b[32m[I 2021-06-13 17:21:39,270]\u001b[0m Trial 24 finished with value: 0.6853097345132744 and parameters: {'max_depth': 6, 'n_estimators': 353, 'reg_lambda': 24.017886690119656, 'learning_rate': 0.03112200642835678, 'border_count': 145, 'random_strength': 7.555301130517956e-05, 'bagging_temperature': 0.1271638853728477}. Best is trial 19 with value: 0.6950776346217377.\u001b[0m\n"
     ]
    },
    {
     "name": "stdout",
     "output_type": "stream",
     "text": [
      "f1 train =  0.8332\n",
      "f1 val =  0.6853\n",
      "f1 test =  0.6469\n"
     ]
    }
   ],
   "source": [
    "study_cb = optuna.create_study(direction='maximize')\n",
    "study_cb.optimize(objective, n_trials=25)"
   ]
  },
  {
   "cell_type": "code",
   "execution_count": 74,
   "metadata": {
    "id": "Bqb1sjA2Uo6g"
   },
   "outputs": [],
   "source": [
    "best_params = {'max_depth': 6, 'n_estimators': 449, 'reg_lambda': 28.839107410266198,\n",
    "               'learning_rate': 0.06483153401973087, 'border_count': 176,\n",
    "               'random_strength': 1.083814215203129e-05, 'bagging_temperature': 0.3166647571950393,\n",
    "                       'task_type': 'GPU',\n",
    "        \"loss_function\":'Logloss' ,\n",
    "        'random_state':123}"
   ]
  },
  {
   "cell_type": "code",
   "execution_count": 75,
   "metadata": {
    "colab": {
     "base_uri": "https://localhost:8080/"
    },
    "id": "6xTYUY5_LgKt",
    "outputId": "fdd27f0e-1ec2-45b5-d04d-1c3bb3c10d58"
   },
   "outputs": [
    {
     "name": "stdout",
     "output_type": "stream",
     "text": [
      "0:\tlearn: 0.6259635\ttest: 0.6354983\tbest: 0.6354983 (0)\ttotal: 12.5ms\tremaining: 5.6s\n",
      "100:\tlearn: 0.1860824\ttest: 0.3357945\tbest: 0.3351386 (99)\ttotal: 1.24s\tremaining: 4.26s\n",
      "200:\tlearn: 0.1508702\ttest: 0.3240915\tbest: 0.3235214 (195)\ttotal: 2.47s\tremaining: 3.05s\n",
      "bestTest = 0.3221677629\n",
      "bestIteration = 228\n",
      "Shrink model to first 229 iterations.\n"
     ]
    },
    {
     "data": {
      "text/plain": [
       "<catboost.core.CatBoostClassifier at 0x7f564e485910>"
      ]
     },
     "execution_count": 75,
     "metadata": {
      "tags": []
     },
     "output_type": "execute_result"
    }
   ],
   "source": [
    "cb = CatBoostClassifier(**best_params)\n",
    "cb.fit(train_pool, eval_set=val_pool, verbose=100, early_stopping_rounds=50)"
   ]
  },
  {
   "cell_type": "code",
   "execution_count": 76,
   "metadata": {
    "id": "6FdTCZZPLgKt"
   },
   "outputs": [],
   "source": [
    "res_val = []\n",
    "res_train = []\n",
    "res_test = []\n",
    "for i in np.linspace(0,1,50):\n",
    "    res_val.append(f1_score(df_val['y'], cb.predict_proba(val_pool)[:,1]>i))\n",
    "    res_train.append(f1_score(df_train['y'], cb.predict_proba(train_pool)[:,1]>i))\n",
    "    res_test.append(f1_score(df_test['y'], cb.predict_proba(test_pool)[:,1]>i))"
   ]
  },
  {
   "cell_type": "code",
   "execution_count": 77,
   "metadata": {
    "colab": {
     "base_uri": "https://localhost:8080/"
    },
    "id": "seF7XYjeYRRJ",
    "outputId": "64832239-b4a3-4585-96d6-f92c590b6089"
   },
   "outputs": [
    {
     "name": "stdout",
     "output_type": "stream",
     "text": [
      "f1 val =  0.6951\n",
      "f1 test =  0.6415\n",
      "0.22448979591836732\n"
     ]
    }
   ],
   "source": [
    "print('f1 val = ', round(np.max(res_val), 4))\n",
    "print('f1 test = ', round(res_test[np.argmax(res_val)], 4))\n",
    "print(np.linspace(0,1,50)[np.argmax(res_val)])"
   ]
  },
  {
   "cell_type": "code",
   "execution_count": 78,
   "metadata": {
    "colab": {
     "base_uri": "https://localhost:8080/",
     "height": 0
    },
    "id": "b1nx7DfFLgKu",
    "outputId": "1f1e0fd4-694c-4d86-9332-66b07a635d8f"
   },
   "outputs": [
    {
     "data": {
      "text/plain": [
       "<matplotlib.legend.Legend at 0x7f564dbbe9d0>"
      ]
     },
     "execution_count": 78,
     "metadata": {
      "tags": []
     },
     "output_type": "execute_result"
    },
    {
     "data": {
      "image/png": "[encoded data removed]",
      "text/plain": [
       "<Figure size 432x288 with 1 Axes>"
      ]
     },
     "metadata": {
      "needs_background": "light",
      "tags": []
     },
     "output_type": "display_data"
    }
   ],
   "source": [
    "plt.title('F1')\n",
    "plt.plot(np.linspace(0,1,50), res_train, label='train')\n",
    "plt.plot(np.linspace(0,1,50), res_val, label='val')\n",
    "plt.plot(np.linspace(0,1,50), res_test, label='test')\n",
    "plt.legend()"
   ]
  },
  {
   "cell_type": "code",
   "execution_count": 79,
   "metadata": {
    "colab": {
     "base_uri": "https://localhost:8080/",
     "height": 0
    },
    "id": "qwR47CsLLgKv",
    "outputId": "be64e31b-c928-4c25-98f7-afdd66e8a9db"
   },
   "outputs": [
    {
     "data": {
      "image/png": "[encoded data removed]",
      "text/plain": [
       "<Figure size 576x684 with 2 Axes>"
      ]
     },
     "metadata": {
      "needs_background": "light",
      "tags": []
     },
     "output_type": "display_data"
    }
   ],
   "source": [
    "shap_values = cb.get_feature_importance(val_pool, type='ShapValues')[:,:-1]\n",
    "shap.summary_plot(shap_values, df_val.drop(['id', 'y'], axis=1))"
   ]
  },
  {
   "cell_type": "code",
   "execution_count": 80,
   "metadata": {
    "id": "jxxrjwS1LgKw"
   },
   "outputs": [],
   "source": [
    "cb_imps = pd.DataFrame({'cols':df_val.drop(['id', 'y'], axis=1).columns, \n",
    "                        'imps': np.mean(np.abs(shap_values),axis=0)}).sort_values(by=['imps'], ascending=False)"
   ]
  },
  {
   "cell_type": "code",
   "execution_count": 81,
   "metadata": {
    "id": "e7Zmo8OoLgKx"
   },
   "outputs": [],
   "source": [
    "new_cols = list(cb_imps[cb_imps.imps>0.03]['cols'])"
   ]
  },
  {
   "cell_type": "code",
   "execution_count": 82,
   "metadata": {
    "colab": {
     "base_uri": "https://localhost:8080/"
    },
    "id": "2vm3pc4XLgKx",
    "outputId": "5a3a8a5f-6fbc-471b-e1a1-917a32572f46"
   },
   "outputs": [
    {
     "data": {
      "text/plain": [
       "34"
      ]
     },
     "execution_count": 82,
     "metadata": {
      "tags": []
     },
     "output_type": "execute_result"
    }
   ],
   "source": [
    "len(new_cols)"
   ]
  },
  {
   "cell_type": "code",
   "execution_count": 83,
   "metadata": {
    "colab": {
     "base_uri": "https://localhost:8080/"
    },
    "id": "GUVVshmvLgKy",
    "outputId": "59a6d13d-dba1-4544-b806-0076928c7d59",
    "scrolled": true
   },
   "outputs": [
    {
     "data": {
      "text/plain": [
       "['std_rolling_10_c',\n",
       " 'std_rolling_5_c',\n",
       " 'time',\n",
       " 'std_rolling_25_c',\n",
       " 'cummean_diff',\n",
       " 'std_value',\n",
       " 'strange_x5',\n",
       " 'std_rolling_5',\n",
       " 'std_rolling_100_c',\n",
       " 'median_rolling_1_250_rel2',\n",
       " 'mean_rolling_1_500_rel1',\n",
       " 'cumsum_wo_anomaly',\n",
       " 'std_rolling_1_10',\n",
       " 'min_rolling_1_5_rel3',\n",
       " 'std_rolling_3_c',\n",
       " 'max_rolling_1_250_rel2',\n",
       " 'std_rolling_50_c',\n",
       " 'median_rolling_1_10000',\n",
       " 'std_rolling_500_c',\n",
       " 'mean_rolling_1_50_rel4',\n",
       " 'std_rolling_1_25',\n",
       " 'num_iter',\n",
       " 'std_rolling_1_10_rel4',\n",
       " 'min_rolling_1_10000',\n",
       " 'min_rolling_1_10000_rel1',\n",
       " 'std_rolling_1_10000_rel1',\n",
       " 'max_rolling_1_10000_rel4',\n",
       " 'std_rolling_1_25_rel4',\n",
       " 'max_value',\n",
       " 'x_cummean',\n",
       " 'std_rolling_1_2_rel4',\n",
       " 'std_rolling_1_5_rel1',\n",
       " 'median_rolling_1_25_rel4',\n",
       " 'median_rolling_1_10000_rel4']"
      ]
     },
     "execution_count": 83,
     "metadata": {
      "tags": []
     },
     "output_type": "execute_result"
    }
   ],
   "source": [
    "new_cols"
   ]
  },
  {
   "cell_type": "code",
   "execution_count": 84,
   "metadata": {
    "id": "1sRfEHTtLgKz"
   },
   "outputs": [],
   "source": [
    "train_pool = Pool(df_train[new_cols], df_train['y'])\n",
    "val_pool = Pool(df_val[new_cols], df_val['y'])\n",
    "test_pool = Pool(df_test[new_cols], df_test['y'])"
   ]
  },
  {
   "cell_type": "code",
   "execution_count": 85,
   "metadata": {
    "colab": {
     "base_uri": "https://localhost:8080/"
    },
    "id": "DX1VuLU5LgK0",
    "outputId": "aaad2b6e-a711-4c72-9985-06b9fc2acc89"
   },
   "outputs": [
    {
     "name": "stderr",
     "output_type": "stream",
     "text": [
      "\u001b[32m[I 2021-06-13 17:22:54,327]\u001b[0m A new study created in memory with name: no-name-03e4149a-514e-4188-872c-df51e9fee610\u001b[0m\n"
     ]
    },
    {
     "name": "stdout",
     "output_type": "stream",
     "text": [
      "TRAIN GINI = 0.7557710948516554\n",
      "Validate GINI = 0.6632870654983205\n"
     ]
    },
    {
     "name": "stderr",
     "output_type": "stream",
     "text": [
      "\u001b[32m[I 2021-06-13 17:22:56,857]\u001b[0m Trial 0 finished with value: 0.6083858591394902 and parameters: {'max_depth': 1, 'n_estimators': 158, 'reg_lambda': 61.71221042219731, 'learning_rate': 0.017822984871203106, 'border_count': 226, 'random_strength': 0.0047758463385913046, 'bagging_temperature': 0.7680849457836763}. Best is trial 0 with value: 0.6083858591394902.\u001b[0m\n"
     ]
    },
    {
     "name": "stdout",
     "output_type": "stream",
     "text": [
      "f1 train =  0.6447\n",
      "f1 val =  0.6084\n",
      "f1 test =  0.5413\n",
      "TRAIN GINI = 0.7845093629365061\n",
      "Validate GINI = 0.700926233213168\n"
     ]
    },
    {
     "name": "stderr",
     "output_type": "stream",
     "text": [
      "\u001b[32m[I 2021-06-13 17:23:01,558]\u001b[0m Trial 1 finished with value: 0.6054846592451805 and parameters: {'max_depth': 1, 'n_estimators': 490, 'reg_lambda': 81.43912105161614, 'learning_rate': 0.010543236051250213, 'border_count': 218, 'random_strength': 6.5164147861730785e-06, 'bagging_temperature': 0.059795455890440996}. Best is trial 0 with value: 0.6083858591394902.\u001b[0m\n"
     ]
    },
    {
     "name": "stdout",
     "output_type": "stream",
     "text": [
      "f1 train =  0.6657\n",
      "f1 val =  0.6055\n",
      "f1 test =  0.5579\n",
      "TRAIN GINI = 0.8806147318364499\n",
      "Validate GINI = 0.7309659093387384\n"
     ]
    },
    {
     "name": "stderr",
     "output_type": "stream",
     "text": [
      "\u001b[32m[I 2021-06-13 17:23:04,746]\u001b[0m Trial 2 finished with value: 0.6339082329970712 and parameters: {'max_depth': 2, 'n_estimators': 315, 'reg_lambda': 1.4580575368196347, 'learning_rate': 0.09759312985584456, 'border_count': 197, 'random_strength': 3.481346039446379e-07, 'bagging_temperature': 0.0011905482086619346}. Best is trial 2 with value: 0.6339082329970712.\u001b[0m\n"
     ]
    },
    {
     "name": "stdout",
     "output_type": "stream",
     "text": [
      "f1 train =  0.7478\n",
      "f1 val =  0.6339\n",
      "f1 test =  0.6542\n",
      "TRAIN GINI = 0.8998339114245013\n",
      "Validate GINI = 0.7707973147798397\n"
     ]
    },
    {
     "name": "stderr",
     "output_type": "stream",
     "text": [
      "\u001b[32m[I 2021-06-13 17:23:20,660]\u001b[0m Trial 3 finished with value: 0.6616541353383459 and parameters: {'max_depth': 5, 'n_estimators': 508, 'reg_lambda': 0.7610975254430441, 'learning_rate': 0.011365762820078017, 'border_count': 194, 'random_strength': 5.310107371901599e-07, 'bagging_temperature': 0.493340663560917}. Best is trial 3 with value: 0.6616541353383459.\u001b[0m\n"
     ]
    },
    {
     "name": "stdout",
     "output_type": "stream",
     "text": [
      "f1 train =  0.7609\n",
      "f1 val =  0.6617\n",
      "f1 test =  0.6419\n",
      "TRAIN GINI = 0.9153242571676132\n",
      "Validate GINI = 0.7779105286357393\n"
     ]
    },
    {
     "name": "stderr",
     "output_type": "stream",
     "text": [
      "\u001b[32m[I 2021-06-13 17:23:41,935]\u001b[0m Trial 4 finished with value: 0.6634460547504025 and parameters: {'max_depth': 3, 'n_estimators': 836, 'reg_lambda': 90.9862075124242, 'learning_rate': 0.035066008101901844, 'border_count': 102, 'random_strength': 5.679873923896939e-05, 'bagging_temperature': 0.7842062210811563}. Best is trial 4 with value: 0.6634460547504025.\u001b[0m\n"
     ]
    },
    {
     "name": "stdout",
     "output_type": "stream",
     "text": [
      "f1 train =  0.7884\n",
      "f1 val =  0.6634\n",
      "f1 test =  0.6599\n",
      "TRAIN GINI = 0.9462147977943094\n",
      "Validate GINI = 0.7980970364599878\n"
     ]
    },
    {
     "name": "stderr",
     "output_type": "stream",
     "text": [
      "\u001b[32m[I 2021-06-13 17:24:08,006]\u001b[0m Trial 5 finished with value: 0.6838586437440305 and parameters: {'max_depth': 5, 'n_estimators': 865, 'reg_lambda': 70.25206707077838, 'learning_rate': 0.028678851158085317, 'border_count': 237, 'random_strength': 2.739975652262359e-07, 'bagging_temperature': 0.6093778670463308}. Best is trial 5 with value: 0.6838586437440305.\u001b[0m\n"
     ]
    },
    {
     "name": "stdout",
     "output_type": "stream",
     "text": [
      "f1 train =  0.8283\n",
      "f1 val =  0.6839\n",
      "f1 test =  0.663\n",
      "TRAIN GINI = 0.8122716711753981\n",
      "Validate GINI = 0.7364409579447027\n"
     ]
    },
    {
     "name": "stderr",
     "output_type": "stream",
     "text": [
      "\u001b[32m[I 2021-06-13 17:24:28,537]\u001b[0m Trial 6 finished with value: 0.6389719067543335 and parameters: {'max_depth': 1, 'n_estimators': 882, 'reg_lambda': 35.103087533587676, 'learning_rate': 0.015084731547178524, 'border_count': 33, 'random_strength': 0.00018168144881341186, 'bagging_temperature': 0.5482652895218078}. Best is trial 5 with value: 0.6838586437440305.\u001b[0m\n"
     ]
    },
    {
     "name": "stdout",
     "output_type": "stream",
     "text": [
      "f1 train =  0.6947\n",
      "f1 val =  0.639\n",
      "f1 test =  0.6135\n",
      "TRAIN GINI = 0.8769128969306479\n",
      "Validate GINI = 0.7434527289315687\n"
     ]
    },
    {
     "name": "stderr",
     "output_type": "stream",
     "text": [
      "\u001b[32m[I 2021-06-13 17:24:44,200]\u001b[0m Trial 7 finished with value: 0.6521464646464646 and parameters: {'max_depth': 2, 'n_estimators': 888, 'reg_lambda': 17.45972719424209, 'learning_rate': 0.02948267904155721, 'border_count': 157, 'random_strength': 1.2137454284827644e-07, 'bagging_temperature': 0.07988738110594062}. Best is trial 5 with value: 0.6838586437440305.\u001b[0m\n"
     ]
    },
    {
     "name": "stdout",
     "output_type": "stream",
     "text": [
      "f1 train =  0.7472\n",
      "f1 val =  0.6521\n",
      "f1 test =  0.6378\n",
      "TRAIN GINI = 0.9409848595007815\n",
      "Validate GINI = 0.7782718098118182\n"
     ]
    },
    {
     "name": "stderr",
     "output_type": "stream",
     "text": [
      "\u001b[32m[I 2021-06-13 17:24:48,180]\u001b[0m Trial 8 finished with value: 0.6646626586506347 and parameters: {'max_depth': 6, 'n_estimators': 243, 'reg_lambda': 1.0559889493752084, 'learning_rate': 0.03491683996274669, 'border_count': 169, 'random_strength': 7.180443303679725e-06, 'bagging_temperature': 0.3222279870312351}. Best is trial 5 with value: 0.6838586437440305.\u001b[0m\n"
     ]
    },
    {
     "name": "stdout",
     "output_type": "stream",
     "text": [
      "f1 train =  0.8168\n",
      "f1 val =  0.6647\n",
      "f1 test =  0.6592\n",
      "TRAIN GINI = 0.7891498894009485\n",
      "Validate GINI = 0.709284178489102\n"
     ]
    },
    {
     "name": "stderr",
     "output_type": "stream",
     "text": [
      "\u001b[32m[I 2021-06-13 17:24:52,599]\u001b[0m Trial 9 finished with value: 0.6134062927496581 and parameters: {'max_depth': 1, 'n_estimators': 452, 'reg_lambda': 90.9047569065951, 'learning_rate': 0.013887694768916747, 'border_count': 212, 'random_strength': 0.00022490787012034247, 'bagging_temperature': 0.39478110644405706}. Best is trial 5 with value: 0.6838586437440305.\u001b[0m\n"
     ]
    },
    {
     "name": "stdout",
     "output_type": "stream",
     "text": [
      "f1 train =  0.6707\n",
      "f1 val =  0.6134\n",
      "f1 test =  0.5639\n",
      "TRAIN GINI = 0.9532950227528836\n",
      "Validate GINI = 0.802670190663991\n"
     ]
    },
    {
     "name": "stderr",
     "output_type": "stream",
     "text": [
      "\u001b[32m[I 2021-06-13 17:25:09,623]\u001b[0m Trial 10 finished with value: 0.6828150572831424 and parameters: {'max_depth': 7, 'n_estimators': 665, 'reg_lambda': 64.5109150609934, 'learning_rate': 0.07079621170407113, 'border_count': 106, 'random_strength': 5.5744864245537205, 'bagging_temperature': 0.9900979307467996}. Best is trial 5 with value: 0.6838586437440305.\u001b[0m\n"
     ]
    },
    {
     "name": "stdout",
     "output_type": "stream",
     "text": [
      "f1 train =  0.8393\n",
      "f1 val =  0.6828\n",
      "f1 test =  0.6703\n",
      "TRAIN GINI = 0.9477356242670634\n",
      "Validate GINI = 0.8122677578297006\n"
     ]
    },
    {
     "name": "stderr",
     "output_type": "stream",
     "text": [
      "\u001b[32m[I 2021-06-13 17:25:23,712]\u001b[0m Trial 11 finished with value: 0.6896090878717007 and parameters: {'max_depth': 7, 'n_estimators': 704, 'reg_lambda': 63.76348230976008, 'learning_rate': 0.08262667551693313, 'border_count': 76, 'random_strength': 7.536620526970666, 'bagging_temperature': 0.9847456340661643}. Best is trial 11 with value: 0.6896090878717007.\u001b[0m\n"
     ]
    },
    {
     "name": "stdout",
     "output_type": "stream",
     "text": [
      "f1 train =  0.8291\n",
      "f1 val =  0.6896\n",
      "f1 test =  0.6747\n",
      "TRAIN GINI = 0.9629008735290401\n",
      "Validate GINI = 0.799307372017795\n"
     ]
    },
    {
     "name": "stderr",
     "output_type": "stream",
     "text": [
      "\u001b[32m[I 2021-06-13 17:25:45,047]\u001b[0m Trial 12 finished with value: 0.6770165372932838 and parameters: {'max_depth': 7, 'n_estimators': 703, 'reg_lambda': 47.947323635309814, 'learning_rate': 0.05411902167392695, 'border_count': 41, 'random_strength': 1.454162005275054e-09, 'bagging_temperature': 0.9960459878123056}. Best is trial 11 with value: 0.6896090878717007.\u001b[0m\n"
     ]
    },
    {
     "name": "stdout",
     "output_type": "stream",
     "text": [
      "f1 train =  0.8534\n",
      "f1 val =  0.677\n",
      "f1 test =  0.6698\n",
      "TRAIN GINI = 0.933059323964482\n",
      "Validate GINI = 0.7930286316889825\n"
     ]
    },
    {
     "name": "stderr",
     "output_type": "stream",
     "text": [
      "\u001b[32m[I 2021-06-13 17:26:06,167]\u001b[0m Trial 13 finished with value: 0.6745827984595636 and parameters: {'max_depth': 5, 'n_estimators': 705, 'reg_lambda': 71.7137365759653, 'learning_rate': 0.025304635684867145, 'border_count': 67, 'random_strength': 4.479990535382559, 'bagging_temperature': 0.7517938153617987}. Best is trial 11 with value: 0.6896090878717007.\u001b[0m\n"
     ]
    },
    {
     "name": "stdout",
     "output_type": "stream",
     "text": [
      "f1 train =  0.8071\n",
      "f1 val =  0.6746\n",
      "f1 test =  0.6642\n",
      "TRAIN GINI = 0.9093985933894007\n",
      "Validate GINI = 0.7510376396662055\n"
     ]
    },
    {
     "name": "stderr",
     "output_type": "stream",
     "text": [
      "\u001b[32m[I 2021-06-13 17:26:16,533]\u001b[0m Trial 14 finished with value: 0.6393635827931643 and parameters: {'max_depth': 5, 'n_estimators': 977, 'reg_lambda': 48.3168858730517, 'learning_rate': 0.055084139358650926, 'border_count': 5, 'random_strength': 0.14022888558831256, 'bagging_temperature': 0.875086674540273}. Best is trial 11 with value: 0.6896090878717007.\u001b[0m\n"
     ]
    },
    {
     "name": "stdout",
     "output_type": "stream",
     "text": [
      "f1 train =  0.7751\n",
      "f1 val =  0.6394\n",
      "f1 test =  0.6226\n",
      "TRAIN GINI = 0.9525004738374765\n",
      "Validate GINI = 0.8042724645794277\n"
     ]
    },
    {
     "name": "stderr",
     "output_type": "stream",
     "text": [
      "\u001b[32m[I 2021-06-13 17:26:36,641]\u001b[0m Trial 15 finished with value: 0.6881995522865366 and parameters: {'max_depth': 6, 'n_estimators': 771, 'reg_lambda': 73.63896473074287, 'learning_rate': 0.04536464073933642, 'border_count': 247, 'random_strength': 1.4752157114192305e-09, 'bagging_temperature': 0.5965280959215112}. Best is trial 11 with value: 0.6896090878717007.\u001b[0m\n"
     ]
    },
    {
     "name": "stdout",
     "output_type": "stream",
     "text": [
      "f1 train =  0.8372\n",
      "f1 val =  0.6882\n",
      "f1 test =  0.6696\n",
      "TRAIN GINI = 0.9549532147085269\n",
      "Validate GINI = 0.7997393142586677\n"
     ]
    },
    {
     "name": "stderr",
     "output_type": "stream",
     "text": [
      "\u001b[32m[I 2021-06-13 17:26:51,504]\u001b[0m Trial 16 finished with value: 0.6866254474454929 and parameters: {'max_depth': 7, 'n_estimators': 612, 'reg_lambda': 98.39963687166325, 'learning_rate': 0.08433962098098277, 'border_count': 78, 'random_strength': 1.3280453788759146e-09, 'bagging_temperature': 0.25358975220656793}. Best is trial 11 with value: 0.6896090878717007.\u001b[0m\n"
     ]
    },
    {
     "name": "stdout",
     "output_type": "stream",
     "text": [
      "f1 train =  0.844\n",
      "f1 val =  0.6866\n",
      "f1 test =  0.6714\n",
      "TRAIN GINI = 0.9526017777576414\n",
      "Validate GINI = 0.8049024322734879\n"
     ]
    },
    {
     "name": "stderr",
     "output_type": "stream",
     "text": [
      "\u001b[32m[I 2021-06-13 17:27:07,345]\u001b[0m Trial 17 finished with value: 0.6881367071968453 and parameters: {'max_depth': 6, 'n_estimators': 782, 'reg_lambda': 33.135038930476746, 'learning_rate': 0.047364287676112185, 'border_count': 135, 'random_strength': 0.10290682616447379, 'bagging_temperature': 0.658143571694478}. Best is trial 11 with value: 0.6896090878717007.\u001b[0m\n"
     ]
    },
    {
     "name": "stdout",
     "output_type": "stream",
     "text": [
      "f1 train =  0.8371\n",
      "f1 val =  0.6881\n",
      "f1 test =  0.6589\n",
      "TRAIN GINI = 0.924646466718618\n",
      "Validate GINI = 0.7792734023651642\n"
     ]
    },
    {
     "name": "stderr",
     "output_type": "stream",
     "text": [
      "\u001b[32m[I 2021-06-13 17:27:16,332]\u001b[0m Trial 18 finished with value: 0.6627871362940276 and parameters: {'max_depth': 6, 'n_estimators': 980, 'reg_lambda': 79.47369438791455, 'learning_rate': 0.06936948792441765, 'border_count': 13, 'random_strength': 1.4471493086281358e-08, 'bagging_temperature': 0.9210504592856656}. Best is trial 11 with value: 0.6896090878717007.\u001b[0m\n"
     ]
    },
    {
     "name": "stdout",
     "output_type": "stream",
     "text": [
      "f1 train =  0.7911\n",
      "f1 val =  0.6628\n",
      "f1 test =  0.648\n",
      "TRAIN GINI = 0.9137372132064356\n",
      "Validate GINI = 0.7766920926031324\n"
     ]
    },
    {
     "name": "stderr",
     "output_type": "stream",
     "text": [
      "\u001b[32m[I 2021-06-13 17:27:27,574]\u001b[0m Trial 19 finished with value: 0.6683952751368482 and parameters: {'max_depth': 4, 'n_estimators': 574, 'reg_lambda': 58.09504686147666, 'learning_rate': 0.04174232732415129, 'border_count': 76, 'random_strength': 0.011822884469225293, 'bagging_temperature': 0.1777481780065593}. Best is trial 11 with value: 0.6896090878717007.\u001b[0m\n"
     ]
    },
    {
     "name": "stdout",
     "output_type": "stream",
     "text": [
      "f1 train =  0.7834\n",
      "f1 val =  0.6684\n",
      "f1 test =  0.6585\n",
      "TRAIN GINI = 0.9554072052221236\n",
      "Validate GINI = 0.7938694609732211\n"
     ]
    },
    {
     "name": "stderr",
     "output_type": "stream",
     "text": [
      "\u001b[32m[I 2021-06-13 17:27:38,036]\u001b[0m Trial 20 finished with value: 0.6792571608435631 and parameters: {'max_depth': 6, 'n_estimators': 766, 'reg_lambda': 39.17045048496257, 'learning_rate': 0.09884375147074326, 'border_count': 250, 'random_strength': 9.78568333660212e-09, 'bagging_temperature': 0.38546473211264926}. Best is trial 11 with value: 0.6896090878717007.\u001b[0m\n"
     ]
    },
    {
     "name": "stdout",
     "output_type": "stream",
     "text": [
      "f1 train =  0.8431\n",
      "f1 val =  0.6793\n",
      "f1 test =  0.6733\n",
      "TRAIN GINI = 0.9488410936969174\n",
      "Validate GINI = 0.8003877261107339\n"
     ]
    },
    {
     "name": "stderr",
     "output_type": "stream",
     "text": [
      "\u001b[32m[I 2021-06-13 17:27:51,985]\u001b[0m Trial 21 finished with value: 0.6815789473684212 and parameters: {'max_depth': 6, 'n_estimators': 776, 'reg_lambda': 22.684473433032977, 'learning_rate': 0.04832699579810132, 'border_count': 133, 'random_strength': 0.7695956361267393, 'bagging_temperature': 0.6282489274600763}. Best is trial 11 with value: 0.6896090878717007.\u001b[0m\n"
     ]
    },
    {
     "name": "stdout",
     "output_type": "stream",
     "text": [
      "f1 train =  0.8299\n",
      "f1 val =  0.6816\n",
      "f1 test =  0.6611\n",
      "TRAIN GINI = 0.9568460414627766\n",
      "Validate GINI = 0.8117435947987972\n"
     ]
    },
    {
     "name": "stderr",
     "output_type": "stream",
     "text": [
      "\u001b[32m[I 2021-06-13 17:28:06,754]\u001b[0m Trial 22 finished with value: 0.6962864721485411 and parameters: {'max_depth': 7, 'n_estimators': 787, 'reg_lambda': 30.986459944688363, 'learning_rate': 0.06948984931341677, 'border_count': 137, 'random_strength': 0.1262508738901093, 'bagging_temperature': 0.6834337493172642}. Best is trial 22 with value: 0.6962864721485411.\u001b[0m\n"
     ]
    },
    {
     "name": "stdout",
     "output_type": "stream",
     "text": [
      "f1 train =  0.8456\n",
      "f1 val =  0.6963\n",
      "f1 test =  0.6672\n",
      "TRAIN GINI = 0.9528658980793949\n",
      "Validate GINI = 0.8037687396695579\n"
     ]
    },
    {
     "name": "stderr",
     "output_type": "stream",
     "text": [
      "\u001b[32m[I 2021-06-13 17:28:21,917]\u001b[0m Trial 23 finished with value: 0.6888540031397175 and parameters: {'max_depth': 7, 'n_estimators': 644, 'reg_lambda': 54.91395805045293, 'learning_rate': 0.06696499223512642, 'border_count': 103, 'random_strength': 0.004659023764961991, 'bagging_temperature': 0.49260763551214765}. Best is trial 22 with value: 0.6962864721485411.\u001b[0m\n"
     ]
    },
    {
     "name": "stdout",
     "output_type": "stream",
     "text": [
      "f1 train =  0.8418\n",
      "f1 val =  0.6889\n",
      "f1 test =  0.6705\n",
      "TRAIN GINI = 0.966159432172939\n",
      "Validate GINI = 0.788411485675681\n"
     ]
    },
    {
     "name": "stderr",
     "output_type": "stream",
     "text": [
      "\u001b[32m[I 2021-06-13 17:28:26,236]\u001b[0m Trial 24 finished with value: 0.6740890688259109 and parameters: {'max_depth': 7, 'n_estimators': 375, 'reg_lambda': 23.0313789430853, 'learning_rate': 0.07096917600611843, 'border_count': 107, 'random_strength': 0.004716151759613599, 'bagging_temperature': 0.4417615087019768}. Best is trial 22 with value: 0.6962864721485411.\u001b[0m\n"
     ]
    },
    {
     "name": "stdout",
     "output_type": "stream",
     "text": [
      "f1 train =  0.8616\n",
      "f1 val =  0.6741\n",
      "f1 test =  0.6651\n",
      "TRAIN GINI = 0.9605142343496094\n",
      "Validate GINI = 0.8072530654377541\n"
     ]
    },
    {
     "name": "stderr",
     "output_type": "stream",
     "text": [
      "\u001b[32m[I 2021-06-13 17:28:40,561]\u001b[0m Trial 25 finished with value: 0.6856948691811077 and parameters: {'max_depth': 7, 'n_estimators': 629, 'reg_lambda': 54.9452026109994, 'learning_rate': 0.08639516040093465, 'border_count': 54, 'random_strength': 0.06482508130389018, 'bagging_temperature': 0.7254340676485266}. Best is trial 22 with value: 0.6962864721485411.\u001b[0m\n"
     ]
    },
    {
     "name": "stdout",
     "output_type": "stream",
     "text": [
      "f1 train =  0.8518\n",
      "f1 val =  0.6857\n",
      "f1 test =  0.6632\n",
      "TRAIN GINI = 0.9484363960545932\n",
      "Validate GINI = 0.8041398660380867\n"
     ]
    },
    {
     "name": "stderr",
     "output_type": "stream",
     "text": [
      "\u001b[32m[I 2021-06-13 17:28:55,356]\u001b[0m Trial 26 finished with value: 0.6867388362652233 and parameters: {'max_depth': 7, 'n_estimators': 686, 'reg_lambda': 43.23898914241265, 'learning_rate': 0.06287276773790892, 'border_count': 155, 'random_strength': 1.1646670976206073, 'bagging_temperature': 0.8606252134695045}. Best is trial 22 with value: 0.6962864721485411.\u001b[0m\n"
     ]
    },
    {
     "name": "stdout",
     "output_type": "stream",
     "text": [
      "f1 train =  0.8304\n",
      "f1 val =  0.6867\n",
      "f1 test =  0.6715\n",
      "TRAIN GINI = 0.927182928679267\n",
      "Validate GINI = 0.7829320752755939\n"
     ]
    },
    {
     "name": "stderr",
     "output_type": "stream",
     "text": [
      "\u001b[32m[I 2021-06-13 17:29:03,557]\u001b[0m Trial 27 finished with value: 0.6720901126408011 and parameters: {'max_depth': 4, 'n_estimators': 595, 'reg_lambda': 11.544429686073869, 'learning_rate': 0.08077364424069018, 'border_count': 91, 'random_strength': 0.014679301509703292, 'bagging_temperature': 0.508192457177493}. Best is trial 22 with value: 0.6962864721485411.\u001b[0m\n"
     ]
    },
    {
     "name": "stdout",
     "output_type": "stream",
     "text": [
      "f1 train =  0.8008\n",
      "f1 val =  0.6721\n",
      "f1 test =  0.6701\n",
      "TRAIN GINI = 0.9660993397260116\n",
      "Validate GINI = 0.8110763649206569\n"
     ]
    },
    {
     "name": "stderr",
     "output_type": "stream",
     "text": [
      "\u001b[32m[I 2021-06-13 17:29:22,789]\u001b[0m Trial 28 finished with value: 0.6939571150097466 and parameters: {'max_depth': 7, 'n_estimators': 519, 'reg_lambda': 31.40463139509988, 'learning_rate': 0.06058778550913586, 'border_count': 121, 'random_strength': 0.0008848328953671362, 'bagging_temperature': 0.7030199635292486}. Best is trial 22 with value: 0.6962864721485411.\u001b[0m\n"
     ]
    },
    {
     "name": "stdout",
     "output_type": "stream",
     "text": [
      "f1 train =  0.8608\n",
      "f1 val =  0.694\n",
      "f1 test =  0.6648\n",
      "TRAIN GINI = 0.8711163344002302\n",
      "Validate GINI = 0.7823514581664688\n"
     ]
    },
    {
     "name": "stderr",
     "output_type": "stream",
     "text": [
      "\u001b[32m[I 2021-06-13 17:29:25,578]\u001b[0m Trial 29 finished with value: 0.6675151129494113 and parameters: {'max_depth': 6, 'n_estimators': 122, 'reg_lambda': 28.621596447917916, 'learning_rate': 0.021883636447912212, 'border_count': 123, 'random_strength': 0.0007181973244136154, 'bagging_temperature': 0.8144128994329798}. Best is trial 22 with value: 0.6962864721485411.\u001b[0m\n"
     ]
    },
    {
     "name": "stdout",
     "output_type": "stream",
     "text": [
      "f1 train =  0.7344\n",
      "f1 val =  0.6675\n",
      "f1 test =  0.6247\n",
      "TRAIN GINI = 0.9774658870080017\n",
      "Validate GINI = 0.7825560886221852\n"
     ]
    },
    {
     "name": "stderr",
     "output_type": "stream",
     "text": [
      "\u001b[32m[I 2021-06-13 17:29:29,718]\u001b[0m Trial 30 finished with value: 0.6722571628232006 and parameters: {'max_depth': 7, 'n_estimators': 395, 'reg_lambda': 14.672379229514064, 'learning_rate': 0.09949397690437588, 'border_count': 123, 'random_strength': 0.42477257030680354, 'bagging_temperature': 0.7167748026247468}. Best is trial 22 with value: 0.6962864721485411.\u001b[0m\n"
     ]
    },
    {
     "name": "stdout",
     "output_type": "stream",
     "text": [
      "f1 train =  0.8868\n",
      "f1 val =  0.6723\n",
      "f1 test =  0.6665\n",
      "TRAIN GINI = 0.95833200700283\n",
      "Validate GINI = 0.8100252971596869\n"
     ]
    },
    {
     "name": "stderr",
     "output_type": "stream",
     "text": [
      "\u001b[32m[I 2021-06-13 17:29:48,413]\u001b[0m Trial 31 finished with value: 0.6931479642502483 and parameters: {'max_depth': 7, 'n_estimators': 540, 'reg_lambda': 53.026529710706924, 'learning_rate': 0.05940334072079525, 'border_count': 146, 'random_strength': 0.0016786691569045577, 'bagging_temperature': 0.6810145870686477}. Best is trial 22 with value: 0.6962864721485411.\u001b[0m\n"
     ]
    },
    {
     "name": "stdout",
     "output_type": "stream",
     "text": [
      "f1 train =  0.8472\n",
      "f1 val =  0.6931\n",
      "f1 test =  0.6623\n",
      "TRAIN GINI = 0.9610024946227469\n",
      "Validate GINI = 0.8100709090639453\n"
     ]
    },
    {
     "name": "stderr",
     "output_type": "stream",
     "text": [
      "\u001b[32m[I 2021-06-13 17:30:10,510]\u001b[0m Trial 32 finished with value: 0.6887504099704822 and parameters: {'max_depth': 7, 'n_estimators': 540, 'reg_lambda': 64.52439147620693, 'learning_rate': 0.0567612014990564, 'border_count': 150, 'random_strength': 0.0018567512033932892, 'bagging_temperature': 0.6852729373567481}. Best is trial 22 with value: 0.6962864721485411.\u001b[0m\n"
     ]
    },
    {
     "name": "stdout",
     "output_type": "stream",
     "text": [
      "f1 train =  0.8511\n",
      "f1 val =  0.6888\n",
      "f1 test =  0.6687\n",
      "TRAIN GINI = 0.9573907130633748\n",
      "Validate GINI = 0.79055113262708\n"
     ]
    },
    {
     "name": "stderr",
     "output_type": "stream",
     "text": [
      "\u001b[32m[I 2021-06-13 17:30:14,860]\u001b[0m Trial 33 finished with value: 0.6765776699029126 and parameters: {'max_depth': 6, 'n_estimators': 452, 'reg_lambda': 40.70740633391324, 'learning_rate': 0.08467051950450803, 'border_count': 177, 'random_strength': 2.3043938703629e-05, 'bagging_temperature': 0.9509384884191878}. Best is trial 22 with value: 0.6962864721485411.\u001b[0m\n"
     ]
    },
    {
     "name": "stdout",
     "output_type": "stream",
     "text": [
      "f1 train =  0.8481\n",
      "f1 val =  0.6766\n",
      "f1 test =  0.6617\n",
      "TRAIN GINI = 0.9596364823829391\n",
      "Validate GINI = 0.8083069995205765\n"
     ]
    },
    {
     "name": "stderr",
     "output_type": "stream",
     "text": [
      "\u001b[32m[I 2021-06-13 17:30:31,667]\u001b[0m Trial 34 finished with value: 0.6898413769827877 and parameters: {'max_depth': 7, 'n_estimators': 524, 'reg_lambda': 30.779343737303556, 'learning_rate': 0.06166890832618842, 'border_count': 140, 'random_strength': 0.0012196538834261348, 'bagging_temperature': 0.826033047356732}. Best is trial 22 with value: 0.6962864721485411.\u001b[0m\n"
     ]
    },
    {
     "name": "stdout",
     "output_type": "stream",
     "text": [
      "f1 train =  0.8502\n",
      "f1 val =  0.6898\n",
      "f1 test =  0.6634\n",
      "TRAIN GINI = 0.9508781362292236\n",
      "Validate GINI = 0.8056430649155852\n"
     ]
    },
    {
     "name": "stderr",
     "output_type": "stream",
     "text": [
      "\u001b[32m[I 2021-06-13 17:30:50,513]\u001b[0m Trial 35 finished with value: 0.6804511278195489 and parameters: {'max_depth': 7, 'n_estimators': 522, 'reg_lambda': 28.99133238881357, 'learning_rate': 0.041735850996062474, 'border_count': 190, 'random_strength': 0.0006972180169511445, 'bagging_temperature': 0.8249233116042082}. Best is trial 22 with value: 0.6962864721485411.\u001b[0m\n"
     ]
    },
    {
     "name": "stdout",
     "output_type": "stream",
     "text": [
      "f1 train =  0.8345\n",
      "f1 val =  0.6805\n",
      "f1 test =  0.6623\n",
      "TRAIN GINI = 0.9449959511037875\n",
      "Validate GINI = 0.780631789677777\n"
     ]
    },
    {
     "name": "stderr",
     "output_type": "stream",
     "text": [
      "\u001b[32m[I 2021-06-13 17:30:54,891]\u001b[0m Trial 36 finished with value: 0.6662324975577987 and parameters: {'max_depth': 5, 'n_estimators': 474, 'reg_lambda': 8.8223316806232, 'learning_rate': 0.06072442909507425, 'border_count': 142, 'random_strength': 0.030635732927181088, 'bagging_temperature': 0.773498683373155}. Best is trial 22 with value: 0.6962864721485411.\u001b[0m\n"
     ]
    },
    {
     "name": "stdout",
     "output_type": "stream",
     "text": [
      "f1 train =  0.8259\n",
      "f1 val =  0.6662\n",
      "f1 test =  0.6548\n",
      "TRAIN GINI = 0.9537400969125398\n",
      "Validate GINI = 0.7906732628625259\n"
     ]
    },
    {
     "name": "stderr",
     "output_type": "stream",
     "text": [
      "\u001b[32m[I 2021-06-13 17:31:00,518]\u001b[0m Trial 37 finished with value: 0.6796242306446387 and parameters: {'max_depth': 6, 'n_estimators': 404, 'reg_lambda': 24.73756261527518, 'learning_rate': 0.03721109130320726, 'border_count': 165, 'random_strength': 0.0010225562285093403, 'bagging_temperature': 0.5893478308552591}. Best is trial 22 with value: 0.6962864721485411.\u001b[0m\n"
     ]
    },
    {
     "name": "stdout",
     "output_type": "stream",
     "text": [
      "f1 train =  0.8383\n",
      "f1 val =  0.6796\n",
      "f1 test =  0.6657\n",
      "TRAIN GINI = 0.8982786445442845\n",
      "Validate GINI = 0.7458302805967085\n"
     ]
    },
    {
     "name": "stderr",
     "output_type": "stream",
     "text": [
      "\u001b[32m[I 2021-06-13 17:31:04,436]\u001b[0m Trial 38 finished with value: 0.6406779661016948 and parameters: {'max_depth': 3, 'n_estimators': 309, 'reg_lambda': 36.08500456473595, 'learning_rate': 0.05162943545551627, 'border_count': 120, 'random_strength': 7.316383829341033e-05, 'bagging_temperature': 0.6801081406759717}. Best is trial 22 with value: 0.6962864721485411.\u001b[0m\n"
     ]
    },
    {
     "name": "stdout",
     "output_type": "stream",
     "text": [
      "f1 train =  0.7689\n",
      "f1 val =  0.6407\n",
      "f1 test =  0.6499\n",
      "TRAIN GINI = 0.9642319943633042\n",
      "Validate GINI = 0.8081292875657335\n"
     ]
    },
    {
     "name": "stderr",
     "output_type": "stream",
     "text": [
      "\u001b[32m[I 2021-06-13 17:31:25,001]\u001b[0m Trial 39 finished with value: 0.6894511994742031 and parameters: {'max_depth': 7, 'n_estimators': 550, 'reg_lambda': 30.86583406235189, 'learning_rate': 0.05840062866998698, 'border_count': 177, 'random_strength': 4.191731691323678e-06, 'bagging_temperature': 0.898172596896688}. Best is trial 22 with value: 0.6962864721485411.\u001b[0m\n"
     ]
    },
    {
     "name": "stdout",
     "output_type": "stream",
     "text": [
      "f1 train =  0.8595\n",
      "f1 val =  0.6895\n",
      "f1 test =  0.6669\n",
      "TRAIN GINI = 0.9544685380417581\n",
      "Validate GINI = 0.788234646079663\n"
     ]
    },
    {
     "name": "stderr",
     "output_type": "stream",
     "text": [
      "\u001b[32m[I 2021-06-13 17:31:29,853]\u001b[0m Trial 40 finished with value: 0.6785459729151818 and parameters: {'max_depth': 5, 'n_estimators': 477, 'reg_lambda': 46.87751005442808, 'learning_rate': 0.07546412897619023, 'border_count': 143, 'random_strength': 0.0001762536087663225, 'bagging_temperature': 0.5523267725805021}. Best is trial 22 with value: 0.6962864721485411.\u001b[0m\n"
     ]
    },
    {
     "name": "stdout",
     "output_type": "stream",
     "text": [
      "f1 train =  0.8418\n",
      "f1 val =  0.6785\n",
      "f1 test =  0.6687\n",
      "TRAIN GINI = 0.9633768715300455\n",
      "Validate GINI = 0.8067988157355088\n"
     ]
    },
    {
     "name": "stderr",
     "output_type": "stream",
     "text": [
      "\u001b[32m[I 2021-06-13 17:31:47,142]\u001b[0m Trial 41 finished with value: 0.6883720930232557 and parameters: {'max_depth': 7, 'n_estimators': 923, 'reg_lambda': 53.214641785663304, 'learning_rate': 0.07611536575142554, 'border_count': 90, 'random_strength': 0.0020541551916236915, 'bagging_temperature': 0.8172916093859108}. Best is trial 22 with value: 0.6962864721485411.\u001b[0m\n"
     ]
    },
    {
     "name": "stdout",
     "output_type": "stream",
     "text": [
      "f1 train =  0.8564\n",
      "f1 val =  0.6884\n",
      "f1 test =  0.6773\n",
      "TRAIN GINI = 0.9586860709687772\n",
      "Validate GINI = 0.8030666154384334\n"
     ]
    },
    {
     "name": "stderr",
     "output_type": "stream",
     "text": [
      "\u001b[32m[I 2021-06-13 17:32:02,480]\u001b[0m Trial 42 finished with value: 0.6943699731903485 and parameters: {'max_depth': 7, 'n_estimators': 736, 'reg_lambda': 59.81843947649354, 'learning_rate': 0.09161768236034165, 'border_count': 113, 'random_strength': 2.1819953781831933, 'bagging_temperature': 0.953337740505145}. Best is trial 22 with value: 0.6962864721485411.\u001b[0m\n"
     ]
    },
    {
     "name": "stdout",
     "output_type": "stream",
     "text": [
      "f1 train =  0.8502\n",
      "f1 val =  0.6944\n",
      "f1 test =  0.6659\n",
      "TRAIN GINI = 0.9567915621135799\n",
      "Validate GINI = 0.8045055090082891\n"
     ]
    },
    {
     "name": "stderr",
     "output_type": "stream",
     "text": [
      "\u001b[32m[I 2021-06-13 17:32:12,032]\u001b[0m Trial 43 finished with value: 0.6908474576271187 and parameters: {'max_depth': 6, 'n_estimators': 827, 'reg_lambda': 17.785570898709338, 'learning_rate': 0.0917231823401529, 'border_count': 114, 'random_strength': 0.3050861933046399, 'bagging_temperature': 0.7365460502833043}. Best is trial 22 with value: 0.6962864721485411.\u001b[0m\n"
     ]
    },
    {
     "name": "stdout",
     "output_type": "stream",
     "text": [
      "f1 train =  0.8441\n",
      "f1 val =  0.6908\n",
      "f1 test =  0.6597\n",
      "TRAIN GINI = 0.9462933933516704\n",
      "Validate GINI = 0.7948203320920497\n"
     ]
    },
    {
     "name": "stderr",
     "output_type": "stream",
     "text": [
      "\u001b[32m[I 2021-06-13 17:32:21,351]\u001b[0m Trial 44 finished with value: 0.6852438252058264 and parameters: {'max_depth': 6, 'n_estimators': 827, 'reg_lambda': 43.322501427585316, 'learning_rate': 0.09210243979907001, 'border_count': 113, 'random_strength': 0.32767760535302554, 'bagging_temperature': 0.7340771110248429}. Best is trial 22 with value: 0.6962864721485411.\u001b[0m\n"
     ]
    },
    {
     "name": "stdout",
     "output_type": "stream",
     "text": [
      "f1 train =  0.8296\n",
      "f1 val =  0.6852\n",
      "f1 test =  0.6621\n",
      "TRAIN GINI = 0.9589258800561709\n",
      "Validate GINI = 0.8054788122111793\n"
     ]
    },
    {
     "name": "stderr",
     "output_type": "stream",
     "text": [
      "\u001b[32m[I 2021-06-13 17:32:30,702]\u001b[0m Trial 45 finished with value: 0.6899590808939251 and parameters: {'max_depth': 6, 'n_estimators': 818, 'reg_lambda': 6.234421884893553, 'learning_rate': 0.0941146101625705, 'border_count': 90, 'random_strength': 1.9445024687826098, 'bagging_temperature': 0.6468566454409335}. Best is trial 22 with value: 0.6962864721485411.\u001b[0m\n"
     ]
    },
    {
     "name": "stdout",
     "output_type": "stream",
     "text": [
      "f1 train =  0.8482\n",
      "f1 val =  0.69\n",
      "f1 test =  0.6645\n",
      "TRAIN GINI = 0.9572587412737432\n",
      "Validate GINI = 0.7992487993538562\n"
     ]
    },
    {
     "name": "stderr",
     "output_type": "stream",
     "text": [
      "\u001b[32m[I 2021-06-13 17:32:42,542]\u001b[0m Trial 46 finished with value: 0.6860242501595405 and parameters: {'max_depth': 7, 'n_estimators': 895, 'reg_lambda': 36.98784752535976, 'learning_rate': 0.09935149833789839, 'border_count': 128, 'random_strength': 0.21982148515356356, 'bagging_temperature': 0.5554802065430839}. Best is trial 22 with value: 0.6962864721485411.\u001b[0m\n"
     ]
    },
    {
     "name": "stdout",
     "output_type": "stream",
     "text": [
      "f1 train =  0.8463\n",
      "f1 val =  0.686\n",
      "f1 test =  0.6663\n",
      "TRAIN GINI = 0.968634552300087\n",
      "Validate GINI = 0.7945717098270348\n"
     ]
    },
    {
     "name": "stderr",
     "output_type": "stream",
     "text": [
      "\u001b[32m[I 2021-06-13 17:32:58,081]\u001b[0m Trial 47 finished with value: 0.6715737819838767 and parameters: {'max_depth': 7, 'n_estimators': 736, 'reg_lambda': 17.423410172754352, 'learning_rate': 0.0760256205400912, 'border_count': 115, 'random_strength': 0.041619513162643666, 'bagging_temperature': 0.6969672955573012}. Best is trial 22 with value: 0.6962864721485411.\u001b[0m\n"
     ]
    },
    {
     "name": "stdout",
     "output_type": "stream",
     "text": [
      "f1 train =  0.8659\n",
      "f1 val =  0.6716\n",
      "f1 test =  0.6731\n",
      "TRAIN GINI = 0.94960650447959\n",
      "Validate GINI = 0.8107211902563503\n"
     ]
    },
    {
     "name": "stderr",
     "output_type": "stream",
     "text": [
      "\u001b[32m[I 2021-06-13 17:33:11,823]\u001b[0m Trial 48 finished with value: 0.6909205947484973 and parameters: {'max_depth': 6, 'n_estimators': 936, 'reg_lambda': 59.4995331812893, 'learning_rate': 0.06498923604884037, 'border_count': 99, 'random_strength': 9.805672198489948, 'bagging_temperature': 0.7797920641865083}. Best is trial 22 with value: 0.6962864721485411.\u001b[0m\n"
     ]
    },
    {
     "name": "stdout",
     "output_type": "stream",
     "text": [
      "f1 train =  0.8338\n",
      "f1 val =  0.6909\n",
      "f1 test =  0.6727\n",
      "TRAIN GINI = 0.912099864675588\n",
      "Validate GINI = 0.76255202841497\n"
     ]
    },
    {
     "name": "stderr",
     "output_type": "stream",
     "text": [
      "\u001b[32m[I 2021-06-13 17:33:23,588]\u001b[0m Trial 49 finished with value: 0.6513263023330137 and parameters: {'max_depth': 3, 'n_estimators': 936, 'reg_lambda': 61.14272168617299, 'learning_rate': 0.06656168350636918, 'border_count': 160, 'random_strength': 2.8409755267227803, 'bagging_temperature': 0.7852239302590236}. Best is trial 22 with value: 0.6962864721485411.\u001b[0m\n"
     ]
    },
    {
     "name": "stdout",
     "output_type": "stream",
     "text": [
      "f1 train =  0.7869\n",
      "f1 val =  0.6513\n",
      "f1 test =  0.6607\n"
     ]
    }
   ],
   "source": [
    "study_cb = optuna.create_study(direction='maximize')\n",
    "study_cb.optimize(objective, n_trials=50)"
   ]
  },
  {
   "cell_type": "code",
   "execution_count": 86,
   "metadata": {
    "id": "VoBGZ6knaw-d"
   },
   "outputs": [],
   "source": [
    "best_params =  {'max_depth': 7, 'n_estimators': 787, 'reg_lambda': 30.986459944688363, \n",
    "                'learning_rate': 0.06948984931341677, 'border_count': 137, 'random_strength': 0.1262508738901093, \n",
    "                'bagging_temperature': 0.6834337493172642,\n",
    "                'random_state':123,\n",
    "                       'task_type': 'GPU',\n",
    "        \"loss_function\":'Logloss'}"
   ]
  },
  {
   "cell_type": "code",
   "execution_count": 87,
   "metadata": {
    "colab": {
     "base_uri": "https://localhost:8080/"
    },
    "id": "molTZyt0axCt",
    "outputId": "32710715-4112-4726-a6f8-461ff184927a"
   },
   "outputs": [
    {
     "name": "stdout",
     "output_type": "stream",
     "text": [
      "0:\tlearn: 0.6212069\ttest: 0.6311030\tbest: 0.6311030 (0)\ttotal: 56.8ms\tremaining: 44.7s\n",
      "100:\tlearn: 0.1791545\ttest: 0.3330234\tbest: 0.3330234 (100)\ttotal: 5.16s\tremaining: 35s\n",
      "200:\tlearn: 0.1446439\ttest: 0.3191636\tbest: 0.3189526 (199)\ttotal: 10.2s\tremaining: 29.6s\n",
      "bestTest = 0.3187313008\n",
      "bestIteration = 201\n",
      "Shrink model to first 202 iterations.\n"
     ]
    },
    {
     "data": {
      "text/plain": [
       "<catboost.core.CatBoostClassifier at 0x7f5616e5e390>"
      ]
     },
     "execution_count": 87,
     "metadata": {
      "tags": []
     },
     "output_type": "execute_result"
    }
   ],
   "source": [
    "cb = CatBoostClassifier(**best_params)\n",
    "cb.fit(train_pool, eval_set=val_pool, verbose=100, early_stopping_rounds=50)"
   ]
  },
  {
   "cell_type": "code",
   "execution_count": 88,
   "metadata": {
    "colab": {
     "base_uri": "https://localhost:8080/"
    },
    "id": "XcLINvf5LgK0",
    "outputId": "547d7ccc-1e1f-462e-e4c0-1cf913835432"
   },
   "outputs": [
    {
     "name": "stdout",
     "output_type": "stream",
     "text": [
      "0.6962864721485411 0.6672394043528065\n"
     ]
    }
   ],
   "source": [
    "res_val = []\n",
    "res_train = []\n",
    "res_test = []\n",
    "for i in np.linspace(0,1,50):\n",
    "    res_val.append(f1_score(df_val['y'], cb.predict_proba(val_pool)[:,1]>i))\n",
    "    res_train.append(f1_score(df_train['y'], cb.predict_proba(train_pool)[:,1]>i))\n",
    "    res_test.append(f1_score(df_test['y'], cb.predict_proba(test_pool)[:,1]>i))\n",
    "print(np.max(res_val), res_test[np.argmax(res_val)])"
   ]
  },
  {
   "cell_type": "code",
   "execution_count": 89,
   "metadata": {
    "colab": {
     "base_uri": "https://localhost:8080/",
     "height": 0
    },
    "id": "BBgyBXy6LgK1",
    "outputId": "fc4c1299-fc69-4590-d91f-f35f687cb38b"
   },
   "outputs": [
    {
     "data": {
      "text/plain": [
       "<matplotlib.legend.Legend at 0x7f564475f950>"
      ]
     },
     "execution_count": 89,
     "metadata": {
      "tags": []
     },
     "output_type": "execute_result"
    },
    {
     "data": {
      "image/png": "[encoded data removed]",
      "text/plain": [
       "<Figure size 432x288 with 1 Axes>"
      ]
     },
     "metadata": {
      "needs_background": "light",
      "tags": []
     },
     "output_type": "display_data"
    }
   ],
   "source": [
    "plt.title('F1')\n",
    "plt.plot(np.linspace(0,1,50), res_train, label='train')\n",
    "plt.plot(np.linspace(0,1,50), res_val, label='val')\n",
    "plt.plot(np.linspace(0,1,50)[np.argmax(res_val)], np.max(res_val), 'go')\n",
    "plt.plot(np.linspace(0,1,50)[np.argmax(res_val)], res_test[np.argmax(res_val)], 'go')\n",
    "plt.plot(np.linspace(0,1,50)[np.argmax(res_test)], np.max(res_test), 'bo', label='real_test_best')\n",
    "plt.plot(np.linspace(0,1,50), res_test, label='test')\n",
    "plt.legend()"
   ]
  },
  {
   "cell_type": "code",
   "execution_count": 90,
   "metadata": {
    "colab": {
     "base_uri": "https://localhost:8080/",
     "height": 0
    },
    "id": "my2SOEKDLgK2",
    "outputId": "188a6462-085b-4926-d598-7d694c8d79f1"
   },
   "outputs": [
    {
     "data": {
      "image/png": "[encoded data removed]",
      "text/plain": [
       "<Figure size 576x684 with 2 Axes>"
      ]
     },
     "metadata": {
      "needs_background": "light",
      "tags": []
     },
     "output_type": "display_data"
    }
   ],
   "source": [
    "shap_values = cb.get_feature_importance(val_pool, type='ShapValues')[:,:-1]\n",
    "shap.summary_plot(shap_values, df_val[new_cols])"
   ]
  },
  {
   "cell_type": "code",
   "execution_count": 91,
   "metadata": {
    "id": "1b7p6GLoLgK3"
   },
   "outputs": [],
   "source": [
    "cb_imps = pd.DataFrame({'cols':new_cols, \n",
    "                        'imps': np.mean(np.abs(shap_values),axis=0)}).sort_values(by=['imps'], ascending=False)"
   ]
  },
  {
   "cell_type": "code",
   "execution_count": 92,
   "metadata": {
    "colab": {
     "base_uri": "https://localhost:8080/",
     "height": 0
    },
    "id": "9UmoPnUT-ufl",
    "outputId": "754f7023-6c9f-494e-b8a2-d9597bc3b048"
   },
   "outputs": [
    {
     "data": {
      "text/html": [
       "<div>\n",
       "<style scoped>\n",
       "    .dataframe tbody tr th:only-of-type {\n",
       "        vertical-align: middle;\n",
       "    }\n",
       "\n",
       "    .dataframe tbody tr th {\n",
       "        vertical-align: top;\n",
       "    }\n",
       "\n",
       "    .dataframe thead th {\n",
       "        text-align: right;\n",
       "    }\n",
       "</style>\n",
       "<table border=\"1\" class=\"dataframe\">\n",
       "  <thead>\n",
       "    <tr style=\"text-align: right;\">\n",
       "      <th></th>\n",
       "      <th>cols</th>\n",
       "      <th>imps</th>\n",
       "    </tr>\n",
       "  </thead>\n",
       "  <tbody>\n",
       "    <tr>\n",
       "      <th>0</th>\n",
       "      <td>std_rolling_10_c</td>\n",
       "      <td>0.786276</td>\n",
       "    </tr>\n",
       "    <tr>\n",
       "      <th>1</th>\n",
       "      <td>std_rolling_5_c</td>\n",
       "      <td>0.349395</td>\n",
       "    </tr>\n",
       "    <tr>\n",
       "      <th>7</th>\n",
       "      <td>std_rolling_5</td>\n",
       "      <td>0.248107</td>\n",
       "    </tr>\n",
       "    <tr>\n",
       "      <th>8</th>\n",
       "      <td>std_rolling_100_c</td>\n",
       "      <td>0.220190</td>\n",
       "    </tr>\n",
       "    <tr>\n",
       "      <th>5</th>\n",
       "      <td>std_value</td>\n",
       "      <td>0.214340</td>\n",
       "    </tr>\n",
       "  </tbody>\n",
       "</table>\n",
       "</div>"
      ],
      "text/plain": [
       "                cols      imps\n",
       "0   std_rolling_10_c  0.786276\n",
       "1    std_rolling_5_c  0.349395\n",
       "7      std_rolling_5  0.248107\n",
       "8  std_rolling_100_c  0.220190\n",
       "5          std_value  0.214340"
      ]
     },
     "execution_count": 92,
     "metadata": {
      "tags": []
     },
     "output_type": "execute_result"
    }
   ],
   "source": [
    "cb_imps.head()"
   ]
  },
  {
   "cell_type": "code",
   "execution_count": 93,
   "metadata": {
    "colab": {
     "base_uri": "https://localhost:8080/"
    },
    "id": "RnwCav5-LgK5",
    "outputId": "20acf91b-2b53-437a-f7f1-a72048b8923c"
   },
   "outputs": [
    {
     "data": {
      "text/plain": [
       "33"
      ]
     },
     "execution_count": 93,
     "metadata": {
      "tags": []
     },
     "output_type": "execute_result"
    }
   ],
   "source": [
    "new_cols2 = list(cb_imps[cb_imps.imps>0.03]['cols'])\n",
    "len(new_cols2)"
   ]
  },
  {
   "cell_type": "code",
   "execution_count": 94,
   "metadata": {
    "colab": {
     "base_uri": "https://localhost:8080/"
    },
    "id": "hRuWBkZvpskw",
    "outputId": "a7da768d-925f-4403-87b0-b562a33b6073"
   },
   "outputs": [
    {
     "data": {
      "text/plain": [
       "['std_rolling_10_c',\n",
       " 'std_rolling_5_c',\n",
       " 'std_rolling_5',\n",
       " 'std_rolling_100_c',\n",
       " 'std_value',\n",
       " 'time',\n",
       " 'cummean_diff',\n",
       " 'median_rolling_1_250_rel2',\n",
       " 'strange_x5',\n",
       " 'std_rolling_25_c',\n",
       " 'std_rolling_3_c',\n",
       " 'min_rolling_1_5_rel3',\n",
       " 'cumsum_wo_anomaly',\n",
       " 'std_rolling_500_c',\n",
       " 'max_rolling_1_250_rel2',\n",
       " 'mean_rolling_1_50_rel4',\n",
       " 'median_rolling_1_25_rel4',\n",
       " 'num_iter',\n",
       " 'median_rolling_1_10000',\n",
       " 'std_rolling_1_25_rel4',\n",
       " 'mean_rolling_1_500_rel1',\n",
       " 'std_rolling_1_25',\n",
       " 'std_rolling_50_c',\n",
       " 'std_rolling_1_10',\n",
       " 'std_rolling_1_10_rel4',\n",
       " 'min_rolling_1_10000_rel1',\n",
       " 'max_rolling_1_10000_rel4',\n",
       " 'std_rolling_1_2_rel4',\n",
       " 'max_value',\n",
       " 'std_rolling_1_5_rel1',\n",
       " 'std_rolling_1_10000_rel1',\n",
       " 'min_rolling_1_10000',\n",
       " 'median_rolling_1_10000_rel4']"
      ]
     },
     "execution_count": 94,
     "metadata": {
      "tags": []
     },
     "output_type": "execute_result"
    }
   ],
   "source": [
    "new_cols2"
   ]
  },
  {
   "cell_type": "code",
   "execution_count": 95,
   "metadata": {
    "id": "eFY4Z4-YLgK6"
   },
   "outputs": [],
   "source": [
    "train_pool = Pool(df_train[new_cols2], df_train['y'])\n",
    "val_pool = Pool(df_val[new_cols2], df_val['y'])\n",
    "test_pool = Pool(df_test[new_cols2], df_test['y'])"
   ]
  },
  {
   "cell_type": "code",
   "execution_count": 96,
   "metadata": {
    "colab": {
     "base_uri": "https://localhost:8080/"
    },
    "id": "m_hMUumEpQm0",
    "outputId": "f11e9423-d92e-4040-a1a8-96c3b91736fd"
   },
   "outputs": [
    {
     "name": "stderr",
     "output_type": "stream",
     "text": [
      "\u001b[32m[I 2021-06-13 17:35:42,273]\u001b[0m A new study created in memory with name: no-name-ed50021a-cc82-4413-9626-126ee5852be4\u001b[0m\n"
     ]
    },
    {
     "name": "stdout",
     "output_type": "stream",
     "text": [
      "TRAIN GINI = 0.9146610888686779\n",
      "Validate GINI = 0.7822120053772197\n"
     ]
    },
    {
     "name": "stderr",
     "output_type": "stream",
     "text": [
      "\u001b[32m[I 2021-06-13 17:35:53,431]\u001b[0m Trial 0 finished with value: 0.6724782067247821 and parameters: {'max_depth': 4, 'n_estimators': 715, 'reg_lambda': 47.448161734282536, 'learning_rate': 0.044806704729894474, 'border_count': 159, 'random_strength': 0.00127662446258637, 'bagging_temperature': 0.08087395564052191}. Best is trial 0 with value: 0.6724782067247821.\u001b[0m\n"
     ]
    },
    {
     "name": "stdout",
     "output_type": "stream",
     "text": [
      "f1 train =  0.7848\n",
      "f1 val =  0.6725\n",
      "f1 test =  0.6629\n",
      "TRAIN GINI = 0.927525681125793\n",
      "Validate GINI = 0.795496285558436\n"
     ]
    },
    {
     "name": "stderr",
     "output_type": "stream",
     "text": [
      "\u001b[32m[I 2021-06-13 17:36:02,170]\u001b[0m Trial 1 finished with value: 0.6707920792079207 and parameters: {'max_depth': 6, 'n_estimators': 636, 'reg_lambda': 77.13071659718503, 'learning_rate': 0.07550933729404499, 'border_count': 36, 'random_strength': 0.03780636647531282, 'bagging_temperature': 0.09655666078893588}. Best is trial 0 with value: 0.6724782067247821.\u001b[0m\n"
     ]
    },
    {
     "name": "stdout",
     "output_type": "stream",
     "text": [
      "f1 train =  0.7988\n",
      "f1 val =  0.6708\n",
      "f1 test =  0.6646\n",
      "TRAIN GINI = 0.8278992361317525\n",
      "Validate GINI = 0.7509771976619286\n"
     ]
    },
    {
     "name": "stderr",
     "output_type": "stream",
     "text": [
      "\u001b[32m[I 2021-06-13 17:36:06,844]\u001b[0m Trial 2 finished with value: 0.6477064220183486 and parameters: {'max_depth': 2, 'n_estimators': 448, 'reg_lambda': 32.38998618467757, 'learning_rate': 0.011700742857215259, 'border_count': 212, 'random_strength': 1.0697309479059626e-07, 'bagging_temperature': 0.37647572813901253}. Best is trial 0 with value: 0.6724782067247821.\u001b[0m\n"
     ]
    },
    {
     "name": "stdout",
     "output_type": "stream",
     "text": [
      "f1 train =  0.7012\n",
      "f1 val =  0.6477\n",
      "f1 test =  0.6109\n",
      "TRAIN GINI = 0.8559409011140326\n",
      "Validate GINI = 0.7673164784469417\n"
     ]
    },
    {
     "name": "stderr",
     "output_type": "stream",
     "text": [
      "\u001b[32m[I 2021-06-13 17:36:20,147]\u001b[0m Trial 3 finished with value: 0.6655759162303665 and parameters: {'max_depth': 2, 'n_estimators': 518, 'reg_lambda': 71.67068876297992, 'learning_rate': 0.0225595769338632, 'border_count': 184, 'random_strength': 6.087592438997492, 'bagging_temperature': 0.9936324940275487}. Best is trial 0 with value: 0.6724782067247821.\u001b[0m\n"
     ]
    },
    {
     "name": "stdout",
     "output_type": "stream",
     "text": [
      "f1 train =  0.7243\n",
      "f1 val =  0.6656\n",
      "f1 test =  0.6332\n",
      "TRAIN GINI = 0.9396113814143727\n",
      "Validate GINI = 0.7837312805816292\n"
     ]
    },
    {
     "name": "stderr",
     "output_type": "stream",
     "text": [
      "\u001b[32m[I 2021-06-13 17:36:31,960]\u001b[0m Trial 4 finished with value: 0.6704132231404958 and parameters: {'max_depth': 4, 'n_estimators': 529, 'reg_lambda': 44.44640195787536, 'learning_rate': 0.07511571917162257, 'border_count': 57, 'random_strength': 0.46123064072476516, 'bagging_temperature': 0.4754388517368867}. Best is trial 0 with value: 0.6724782067247821.\u001b[0m\n"
     ]
    },
    {
     "name": "stdout",
     "output_type": "stream",
     "text": [
      "f1 train =  0.8193\n",
      "f1 val =  0.6704\n",
      "f1 test =  0.6699\n",
      "TRAIN GINI = 0.910934546581553\n",
      "Validate GINI = 0.7799296654466523\n"
     ]
    },
    {
     "name": "stderr",
     "output_type": "stream",
     "text": [
      "\u001b[32m[I 2021-06-13 17:36:36,991]\u001b[0m Trial 5 finished with value: 0.6738238080202085 and parameters: {'max_depth': 4, 'n_estimators': 425, 'reg_lambda': 42.27649373207816, 'learning_rate': 0.033023414393139466, 'border_count': 154, 'random_strength': 8.865532234561012, 'bagging_temperature': 0.404945472879477}. Best is trial 5 with value: 0.6738238080202085.\u001b[0m\n"
     ]
    },
    {
     "name": "stdout",
     "output_type": "stream",
     "text": [
      "f1 train =  0.7775\n",
      "f1 val =  0.6738\n",
      "f1 test =  0.6585\n",
      "TRAIN GINI = 0.8777078663712921\n",
      "Validate GINI = 0.7608045690665797\n"
     ]
    },
    {
     "name": "stderr",
     "output_type": "stream",
     "text": [
      "\u001b[32m[I 2021-06-13 17:36:40,251]\u001b[0m Trial 6 finished with value: 0.6624032312352744 and parameters: {'max_depth': 3, 'n_estimators': 226, 'reg_lambda': 75.90908517884803, 'learning_rate': 0.04316424097293756, 'border_count': 37, 'random_strength': 2.9348917021700197e-06, 'bagging_temperature': 0.5809565542926948}. Best is trial 5 with value: 0.6738238080202085.\u001b[0m\n"
     ]
    },
    {
     "name": "stdout",
     "output_type": "stream",
     "text": [
      "f1 train =  0.744\n",
      "f1 val =  0.6624\n",
      "f1 test =  0.6443\n",
      "TRAIN GINI = 0.8536483255072065\n",
      "Validate GINI = 0.7536048670643543\n"
     ]
    },
    {
     "name": "stderr",
     "output_type": "stream",
     "text": [
      "\u001b[32m[I 2021-06-13 17:36:56,578]\u001b[0m Trial 7 finished with value: 0.6461538461538462 and parameters: {'max_depth': 1, 'n_estimators': 680, 'reg_lambda': 68.20814960137392, 'learning_rate': 0.08269812798771947, 'border_count': 72, 'random_strength': 1.5477213353006454e-09, 'bagging_temperature': 0.9083745623395552}. Best is trial 5 with value: 0.6738238080202085.\u001b[0m\n"
     ]
    },
    {
     "name": "stdout",
     "output_type": "stream",
     "text": [
      "f1 train =  0.7309\n",
      "f1 val =  0.6462\n",
      "f1 test =  0.6449\n",
      "TRAIN GINI = 0.9153907611007646\n",
      "Validate GINI = 0.7581775227776006\n"
     ]
    },
    {
     "name": "stderr",
     "output_type": "stream",
     "text": [
      "\u001b[32m[I 2021-06-13 17:37:00,330]\u001b[0m Trial 8 finished with value: 0.6455981941309256 and parameters: {'max_depth': 5, 'n_estimators': 373, 'reg_lambda': 63.84859843485344, 'learning_rate': 0.076362840380413, 'border_count': 6, 'random_strength': 0.00031330472879948634, 'bagging_temperature': 0.5495922181716041}. Best is trial 5 with value: 0.6738238080202085.\u001b[0m\n"
     ]
    },
    {
     "name": "stdout",
     "output_type": "stream",
     "text": [
      "f1 train =  0.7823\n",
      "f1 val =  0.6456\n",
      "f1 test =  0.6243\n",
      "TRAIN GINI = 0.8686227964866102\n",
      "Validate GINI = 0.7425932062439458\n"
     ]
    },
    {
     "name": "stderr",
     "output_type": "stream",
     "text": [
      "\u001b[32m[I 2021-06-13 17:37:04,527]\u001b[0m Trial 9 finished with value: 0.648921832884097 and parameters: {'max_depth': 2, 'n_estimators': 377, 'reg_lambda': 60.836674008587785, 'learning_rate': 0.0376131575074853, 'border_count': 171, 'random_strength': 2.86858841714939e-05, 'bagging_temperature': 0.32622614242565806}. Best is trial 5 with value: 0.6738238080202085.\u001b[0m\n"
     ]
    },
    {
     "name": "stdout",
     "output_type": "stream",
     "text": [
      "f1 train =  0.7346\n",
      "f1 val =  0.6489\n",
      "f1 test =  0.6423\n",
      "TRAIN GINI = 0.9461728671619709\n",
      "Validate GINI = 0.7957775589680294\n"
     ]
    },
    {
     "name": "stderr",
     "output_type": "stream",
     "text": [
      "\u001b[32m[I 2021-06-13 17:37:27,450]\u001b[0m Trial 10 finished with value: 0.6809927360774818 and parameters: {'max_depth': 7, 'n_estimators': 937, 'reg_lambda': 0.10859897192728596, 'learning_rate': 0.020658514489320254, 'border_count': 249, 'random_strength': 3.014588889569341, 'bagging_temperature': 0.7662912644436606}. Best is trial 10 with value: 0.6809927360774818.\u001b[0m\n"
     ]
    },
    {
     "name": "stdout",
     "output_type": "stream",
     "text": [
      "f1 train =  0.8218\n",
      "f1 val =  0.681\n",
      "f1 test =  0.6416\n",
      "TRAIN GINI = 0.9568200359383305\n",
      "Validate GINI = 0.7983227281501843\n"
     ]
    },
    {
     "name": "stderr",
     "output_type": "stream",
     "text": [
      "\u001b[32m[I 2021-06-13 17:37:57,321]\u001b[0m Trial 11 finished with value: 0.6863865546218488 and parameters: {'max_depth': 7, 'n_estimators': 863, 'reg_lambda': 3.1236833703300806, 'learning_rate': 0.020754282113250463, 'border_count': 118, 'random_strength': 2.428868705272918, 'bagging_temperature': 0.7647744211560183}. Best is trial 11 with value: 0.6863865546218488.\u001b[0m\n"
     ]
    },
    {
     "name": "stdout",
     "output_type": "stream",
     "text": [
      "f1 train =  0.8414\n",
      "f1 val =  0.6864\n",
      "f1 test =  0.6591\n",
      "TRAIN GINI = 0.9596431985975957\n",
      "Validate GINI = 0.7957385520663003\n"
     ]
    },
    {
     "name": "stderr",
     "output_type": "stream",
     "text": [
      "\u001b[32m[I 2021-06-13 17:38:30,633]\u001b[0m Trial 12 finished with value: 0.685064935064935 and parameters: {'max_depth': 7, 'n_estimators': 983, 'reg_lambda': 1.5890933332114356, 'learning_rate': 0.01746654734141179, 'border_count': 109, 'random_strength': 0.02639778705495252, 'bagging_temperature': 0.7830754439786887}. Best is trial 11 with value: 0.6863865546218488.\u001b[0m\n"
     ]
    },
    {
     "name": "stdout",
     "output_type": "stream",
     "text": [
      "f1 train =  0.8473\n",
      "f1 val =  0.6851\n",
      "f1 test =  0.6562\n",
      "TRAIN GINI = 0.9595782244011768\n",
      "Validate GINI = 0.8055220562843421\n"
     ]
    },
    {
     "name": "stderr",
     "output_type": "stream",
     "text": [
      "\u001b[32m[I 2021-06-13 17:39:23,255]\u001b[0m Trial 13 finished with value: 0.685890834191555 and parameters: {'max_depth': 7, 'n_estimators': 997, 'reg_lambda': 6.146157006767755, 'learning_rate': 0.01131653452177303, 'border_count': 113, 'random_strength': 0.026309858210787816, 'bagging_temperature': 0.7742783686275759}. Best is trial 11 with value: 0.6863865546218488.\u001b[0m\n"
     ]
    },
    {
     "name": "stdout",
     "output_type": "stream",
     "text": [
      "f1 train =  0.8493\n",
      "f1 val =  0.6859\n",
      "f1 test =  0.6603\n",
      "TRAIN GINI = 0.9269901940401568\n",
      "Validate GINI = 0.7963641579662375\n"
     ]
    },
    {
     "name": "stderr",
     "output_type": "stream",
     "text": [
      "\u001b[32m[I 2021-06-13 17:39:53,321]\u001b[0m Trial 14 finished with value: 0.6786266625425301 and parameters: {'max_depth': 6, 'n_estimators': 822, 'reg_lambda': 23.151316210662365, 'learning_rate': 0.010408566312171191, 'border_count': 91, 'random_strength': 0.05988115932596586, 'bagging_temperature': 0.7062932148289316}. Best is trial 11 with value: 0.6863865546218488.\u001b[0m\n"
     ]
    },
    {
     "name": "stdout",
     "output_type": "stream",
     "text": [
      "f1 train =  0.7993\n",
      "f1 val =  0.6786\n",
      "f1 test =  0.6533\n",
      "TRAIN GINI = 0.9236237737202211\n",
      "Validate GINI = 0.7975095651029549\n"
     ]
    },
    {
     "name": "stderr",
     "output_type": "stream",
     "text": [
      "\u001b[32m[I 2021-06-13 17:40:25,773]\u001b[0m Trial 15 finished with value: 0.6814159292035397 and parameters: {'max_depth': 6, 'n_estimators': 869, 'reg_lambda': 97.81613571663914, 'learning_rate': 0.013032210980443867, 'border_count': 128, 'random_strength': 0.004500008759367774, 'bagging_temperature': 0.9048545318337811}. Best is trial 11 with value: 0.6863865546218488.\u001b[0m\n"
     ]
    },
    {
     "name": "stdout",
     "output_type": "stream",
     "text": [
      "f1 train =  0.7942\n",
      "f1 val =  0.6814\n",
      "f1 test =  0.6521\n",
      "TRAIN GINI = 0.9591729477748303\n",
      "Validate GINI = 0.8122749859456762\n"
     ]
    },
    {
     "name": "stderr",
     "output_type": "stream",
     "text": [
      "\u001b[32m[I 2021-06-13 17:41:08,087]\u001b[0m Trial 16 finished with value: 0.6923871856699966 and parameters: {'max_depth': 7, 'n_estimators': 793, 'reg_lambda': 13.515531553454633, 'learning_rate': 0.015603773242326145, 'border_count': 119, 'random_strength': 0.39111373967466606, 'bagging_temperature': 0.6755405337478066}. Best is trial 16 with value: 0.6923871856699966.\u001b[0m\n"
     ]
    },
    {
     "name": "stdout",
     "output_type": "stream",
     "text": [
      "f1 train =  0.8491\n",
      "f1 val =  0.6924\n",
      "f1 test =  0.6655\n",
      "TRAIN GINI = 0.9308176562896213\n",
      "Validate GINI = 0.7903217022562068\n"
     ]
    },
    {
     "name": "stderr",
     "output_type": "stream",
     "text": [
      "\u001b[32m[I 2021-06-13 17:41:31,520]\u001b[0m Trial 17 finished with value: 0.6770262035344302 and parameters: {'max_depth': 5, 'n_estimators': 789, 'reg_lambda': 16.62503523623333, 'learning_rate': 0.016315295181826825, 'border_count': 135, 'random_strength': 0.5036010941572612, 'bagging_temperature': 0.6196587170518806}. Best is trial 16 with value: 0.6923871856699966.\u001b[0m\n"
     ]
    },
    {
     "name": "stdout",
     "output_type": "stream",
     "text": [
      "f1 train =  0.804\n",
      "f1 val =  0.677\n",
      "f1 test =  0.6558\n",
      "TRAIN GINI = 0.9626006489825811\n",
      "Validate GINI = 0.8070360973358037\n"
     ]
    },
    {
     "name": "stderr",
     "output_type": "stream",
     "text": [
      "\u001b[32m[I 2021-06-13 17:42:01,766]\u001b[0m Trial 18 finished with value: 0.6875808538163002 and parameters: {'max_depth': 7, 'n_estimators': 872, 'reg_lambda': 13.90135016006116, 'learning_rate': 0.02637193032840905, 'border_count': 85, 'random_strength': 0.6511167515979958, 'bagging_temperature': 0.24644336431204472}. Best is trial 16 with value: 0.6923871856699966.\u001b[0m\n"
     ]
    },
    {
     "name": "stdout",
     "output_type": "stream",
     "text": [
      "f1 train =  0.8523\n",
      "f1 val =  0.6876\n",
      "f1 test =  0.6676\n",
      "TRAIN GINI = 0.9321814074444581\n",
      "Validate GINI = 0.7859344851045353\n"
     ]
    },
    {
     "name": "stderr",
     "output_type": "stream",
     "text": [
      "\u001b[32m[I 2021-06-13 17:42:17,952]\u001b[0m Trial 19 finished with value: 0.6722576316672257 and parameters: {'max_depth': 5, 'n_estimators': 758, 'reg_lambda': 15.752743723684633, 'learning_rate': 0.027364967650400307, 'border_count': 76, 'random_strength': 2.573621176238963e-05, 'bagging_temperature': 0.1956739362989442}. Best is trial 16 with value: 0.6923871856699966.\u001b[0m\n"
     ]
    },
    {
     "name": "stdout",
     "output_type": "stream",
     "text": [
      "f1 train =  0.8072\n",
      "f1 val =  0.6723\n",
      "f1 test =  0.6633\n",
      "TRAIN GINI = 0.7484099346564117\n",
      "Validate GINI = 0.594213943010792\n"
     ]
    },
    {
     "name": "stderr",
     "output_type": "stream",
     "text": [
      "\u001b[32m[I 2021-06-13 17:42:21,975]\u001b[0m Trial 20 finished with value: 0.542020774315392 and parameters: {'max_depth': 6, 'n_estimators': 626, 'reg_lambda': 29.989339053967694, 'learning_rate': 0.05381583986699457, 'border_count': 2, 'random_strength': 0.2705858194504417, 'bagging_temperature': 0.22655978877833716}. Best is trial 16 with value: 0.6923871856699966.\u001b[0m\n"
     ]
    },
    {
     "name": "stdout",
     "output_type": "stream",
     "text": [
      "f1 train =  0.6339\n",
      "f1 val =  0.542\n",
      "f1 test =  0.5186\n",
      "TRAIN GINI = 0.9441466668672998\n",
      "Validate GINI = 0.8032813403319774\n"
     ]
    },
    {
     "name": "stderr",
     "output_type": "stream",
     "text": [
      "\u001b[32m[I 2021-06-13 17:42:45,250]\u001b[0m Trial 21 finished with value: 0.6845273931366648 and parameters: {'max_depth': 7, 'n_estimators': 897, 'reg_lambda': 8.51036643370492, 'learning_rate': 0.025875454364275803, 'border_count': 103, 'random_strength': 9.857798926530114, 'bagging_temperature': 0.685668706742021}. Best is trial 16 with value: 0.6923871856699966.\u001b[0m\n"
     ]
    },
    {
     "name": "stdout",
     "output_type": "stream",
     "text": [
      "f1 train =  0.8218\n",
      "f1 val =  0.6845\n",
      "f1 test =  0.6563\n",
      "TRAIN GINI = 0.9528943597150086\n",
      "Validate GINI = 0.8088593272792464\n"
     ]
    },
    {
     "name": "stderr",
     "output_type": "stream",
     "text": [
      "\u001b[32m[I 2021-06-13 17:43:24,581]\u001b[0m Trial 22 finished with value: 0.6895119418483905 and parameters: {'max_depth': 7, 'n_estimators': 833, 'reg_lambda': 11.774939536357412, 'learning_rate': 0.015582167769822266, 'border_count': 135, 'random_strength': 0.7178940743617738, 'bagging_temperature': 0.8717296307480238}. Best is trial 16 with value: 0.6923871856699966.\u001b[0m\n"
     ]
    },
    {
     "name": "stdout",
     "output_type": "stream",
     "text": [
      "f1 train =  0.8356\n",
      "f1 val =  0.6895\n",
      "f1 test =  0.6623\n",
      "TRAIN GINI = 0.949967589388627\n",
      "Validate GINI = 0.79771768499397\n"
     ]
    },
    {
     "name": "stderr",
     "output_type": "stream",
     "text": [
      "\u001b[32m[I 2021-06-13 17:44:00,980]\u001b[0m Trial 23 finished with value: 0.6829951014695592 and parameters: {'max_depth': 6, 'n_estimators': 961, 'reg_lambda': 16.53715970400197, 'learning_rate': 0.015334941909597881, 'border_count': 141, 'random_strength': 0.0033932502890539145, 'bagging_temperature': 0.8951950891378923}. Best is trial 16 with value: 0.6923871856699966.\u001b[0m\n"
     ]
    },
    {
     "name": "stdout",
     "output_type": "stream",
     "text": [
      "f1 train =  0.8323\n",
      "f1 val =  0.683\n",
      "f1 test =  0.6612\n",
      "TRAIN GINI = 0.9483548568205724\n",
      "Validate GINI = 0.8078025268745714\n"
     ]
    },
    {
     "name": "stderr",
     "output_type": "stream",
     "text": [
      "\u001b[32m[I 2021-06-13 17:44:43,630]\u001b[0m Trial 24 finished with value: 0.685362095531587 and parameters: {'max_depth': 7, 'n_estimators': 807, 'reg_lambda': 31.91433227175965, 'learning_rate': 0.013820323941008877, 'border_count': 80, 'random_strength': 0.4835425590179012, 'bagging_temperature': 0.46768708452480695}. Best is trial 16 with value: 0.6923871856699966.\u001b[0m\n"
     ]
    },
    {
     "name": "stdout",
     "output_type": "stream",
     "text": [
      "f1 train =  0.8312\n",
      "f1 val =  0.6854\n",
      "f1 test =  0.6609\n",
      "TRAIN GINI = 0.9490373327130037\n",
      "Validate GINI = 0.7962482588652531\n"
     ]
    },
    {
     "name": "stderr",
     "output_type": "stream",
     "text": [
      "\u001b[32m[I 2021-06-13 17:45:12,251]\u001b[0m Trial 25 finished with value: 0.6798096532970768 and parameters: {'max_depth': 6, 'n_estimators': 745, 'reg_lambda': 11.798975044777503, 'learning_rate': 0.017684407516586172, 'border_count': 208, 'random_strength': 0.15729049005856852, 'bagging_temperature': 0.6608825164885815}. Best is trial 16 with value: 0.6923871856699966.\u001b[0m\n"
     ]
    },
    {
     "name": "stdout",
     "output_type": "stream",
     "text": [
      "f1 train =  0.8299\n",
      "f1 val =  0.6798\n",
      "f1 test =  0.6629\n",
      "TRAIN GINI = 0.9291103055432155\n",
      "Validate GINI = 0.7939049784396517\n"
     ]
    },
    {
     "name": "stderr",
     "output_type": "stream",
     "text": [
      "\u001b[32m[I 2021-06-13 17:45:28,652]\u001b[0m Trial 26 finished with value: 0.6754498714652957 and parameters: {'max_depth': 5, 'n_estimators': 625, 'reg_lambda': 23.08884540009613, 'learning_rate': 0.02671173797797003, 'border_count': 56, 'random_strength': 1.778024769198578, 'bagging_temperature': 0.005205721817340414}. Best is trial 16 with value: 0.6923871856699966.\u001b[0m\n"
     ]
    },
    {
     "name": "stdout",
     "output_type": "stream",
     "text": [
      "f1 train =  0.8033\n",
      "f1 val =  0.6754\n",
      "f1 test =  0.6636\n",
      "TRAIN GINI = 0.9605440672631698\n",
      "Validate GINI = 0.8121077422967289\n"
     ]
    },
    {
     "name": "stderr",
     "output_type": "stream",
     "text": [
      "\u001b[32m[I 2021-06-13 17:46:11,619]\u001b[0m Trial 27 finished with value: 0.6905142127115937 and parameters: {'max_depth': 7, 'n_estimators': 914, 'reg_lambda': 23.84398086084996, 'learning_rate': 0.02007151727660242, 'border_count': 185, 'random_strength': 0.009426587505354113, 'bagging_temperature': 0.8598945921796628}. Best is trial 16 with value: 0.6923871856699966.\u001b[0m\n"
     ]
    },
    {
     "name": "stdout",
     "output_type": "stream",
     "text": [
      "f1 train =  0.8502\n",
      "f1 val =  0.6905\n",
      "f1 test =  0.6672\n",
      "TRAIN GINI = 0.9477018725458579\n",
      "Validate GINI = 0.7969371730913193\n"
     ]
    },
    {
     "name": "stderr",
     "output_type": "stream",
     "text": [
      "\u001b[32m[I 2021-06-13 17:46:45,676]\u001b[0m Trial 28 finished with value: 0.6817602040816326 and parameters: {'max_depth': 6, 'n_estimators': 921, 'reg_lambda': 35.772726831839435, 'learning_rate': 0.01917402148725843, 'border_count': 196, 'random_strength': 0.00831553355934017, 'bagging_temperature': 0.9888052677080642}. Best is trial 16 with value: 0.6923871856699966.\u001b[0m\n"
     ]
    },
    {
     "name": "stdout",
     "output_type": "stream",
     "text": [
      "f1 train =  0.8287\n",
      "f1 val =  0.6818\n",
      "f1 test =  0.6653\n",
      "TRAIN GINI = 0.932326470367558\n",
      "Validate GINI = 0.8048254154515435\n"
     ]
    },
    {
     "name": "stderr",
     "output_type": "stream",
     "text": [
      "\u001b[32m[I 2021-06-13 17:47:23,163]\u001b[0m Trial 29 finished with value: 0.6848042468480424 and parameters: {'max_depth': 7, 'n_estimators': 677, 'reg_lambda': 54.10804153815468, 'learning_rate': 0.01339048758709982, 'border_count': 237, 'random_strength': 0.00039073775329603937, 'bagging_temperature': 0.8864890146202948}. Best is trial 16 with value: 0.6923871856699966.\u001b[0m\n"
     ]
    },
    {
     "name": "stdout",
     "output_type": "stream",
     "text": [
      "f1 train =  0.8059\n",
      "f1 val =  0.6848\n",
      "f1 test =  0.6514\n",
      "TRAIN GINI = 0.9196983290905081\n",
      "Validate GINI = 0.7894488449408361\n"
     ]
    },
    {
     "name": "stderr",
     "output_type": "stream",
     "text": [
      "\u001b[32m[I 2021-06-13 17:47:44,966]\u001b[0m Trial 30 finished with value: 0.6758136566687938 and parameters: {'max_depth': 5, 'n_estimators': 722, 'reg_lambda': 24.711111564892157, 'learning_rate': 0.014755216386669781, 'border_count': 161, 'random_strength': 0.0008789177415764702, 'bagging_temperature': 0.8342955975583661}. Best is trial 16 with value: 0.6923871856699966.\u001b[0m\n"
     ]
    },
    {
     "name": "stdout",
     "output_type": "stream",
     "text": [
      "f1 train =  0.789\n",
      "f1 val =  0.6758\n",
      "f1 test =  0.6553\n",
      "TRAIN GINI = 0.9578856225109134\n",
      "Validate GINI = 0.8039452053975085\n"
     ]
    },
    {
     "name": "stderr",
     "output_type": "stream",
     "text": [
      "\u001b[32m[I 2021-06-13 17:48:16,104]\u001b[0m Trial 31 finished with value: 0.6906059634498236 and parameters: {'max_depth': 7, 'n_estimators': 846, 'reg_lambda': 11.157679859443972, 'learning_rate': 0.023153581079335624, 'border_count': 147, 'random_strength': 0.08309107525587003, 'bagging_temperature': 0.838711055786046}. Best is trial 16 with value: 0.6923871856699966.\u001b[0m\n"
     ]
    },
    {
     "name": "stdout",
     "output_type": "stream",
     "text": [
      "f1 train =  0.8448\n",
      "f1 val =  0.6906\n",
      "f1 test =  0.6634\n",
      "TRAIN GINI = 0.9551274340480671\n",
      "Validate GINI = 0.8014447757607874\n"
     ]
    },
    {
     "name": "stderr",
     "output_type": "stream",
     "text": [
      "\u001b[32m[I 2021-06-13 17:48:48,775]\u001b[0m Trial 32 finished with value: 0.6822699583199744 and parameters: {'max_depth': 7, 'n_estimators': 827, 'reg_lambda': 20.134306401523627, 'learning_rate': 0.023047871517433594, 'border_count': 150, 'random_strength': 0.05442985049646251, 'bagging_temperature': 0.9645551805412076}. Best is trial 16 with value: 0.6923871856699966.\u001b[0m\n"
     ]
    },
    {
     "name": "stdout",
     "output_type": "stream",
     "text": [
      "f1 train =  0.8402\n",
      "f1 val =  0.6823\n",
      "f1 test =  0.6552\n",
      "TRAIN GINI = 0.9619895709619302\n",
      "Validate GINI = 0.7926212401178885\n"
     ]
    },
    {
     "name": "stderr",
     "output_type": "stream",
     "text": [
      "\u001b[32m[I 2021-06-13 17:49:14,202]\u001b[0m Trial 33 finished with value: 0.6854219948849104 and parameters: {'max_depth': 6, 'n_estimators': 987, 'reg_lambda': 8.115986982027374, 'learning_rate': 0.03059487451493928, 'border_count': 170, 'random_strength': 0.0076541710503673895, 'bagging_temperature': 0.8368587096203892}. Best is trial 16 with value: 0.6923871856699966.\u001b[0m\n"
     ]
    },
    {
     "name": "stdout",
     "output_type": "stream",
     "text": [
      "f1 train =  0.8526\n",
      "f1 val =  0.6854\n",
      "f1 test =  0.6602\n",
      "TRAIN GINI = 0.9506854381575249\n",
      "Validate GINI = 0.7996185548728032\n"
     ]
    },
    {
     "name": "stderr",
     "output_type": "stream",
     "text": [
      "\u001b[32m[I 2021-06-13 17:49:39,856]\u001b[0m Trial 34 finished with value: 0.6868429436126154 and parameters: {'max_depth': 7, 'n_estimators': 917, 'reg_lambda': 0.5487207368861267, 'learning_rate': 0.019210010601705074, 'border_count': 228, 'random_strength': 0.11664784343017771, 'bagging_temperature': 0.8337453165000531}. Best is trial 16 with value: 0.6923871856699966.\u001b[0m\n"
     ]
    },
    {
     "name": "stdout",
     "output_type": "stream",
     "text": [
      "f1 train =  0.8292\n",
      "f1 val =  0.6868\n",
      "f1 test =  0.6526\n",
      "TRAIN GINI = 0.9412038312579467\n",
      "Validate GINI = 0.8048120808237957\n"
     ]
    },
    {
     "name": "stderr",
     "output_type": "stream",
     "text": [
      "\u001b[32m[I 2021-06-13 17:50:22,579]\u001b[0m Trial 35 finished with value: 0.6845176793683488 and parameters: {'max_depth': 7, 'n_estimators': 782, 'reg_lambda': 27.58819522596054, 'learning_rate': 0.011594946885642398, 'border_count': 186, 'random_strength': 0.011595100045291497, 'bagging_temperature': 0.7242924319075845}. Best is trial 16 with value: 0.6923871856699966.\u001b[0m\n"
     ]
    },
    {
     "name": "stdout",
     "output_type": "stream",
     "text": [
      "f1 train =  0.8192\n",
      "f1 val =  0.6845\n",
      "f1 test =  0.6561\n",
      "TRAIN GINI = 0.9486983832773179\n",
      "Validate GINI = 0.8039884494706713\n"
     ]
    },
    {
     "name": "stderr",
     "output_type": "stream",
     "text": [
      "\u001b[32m[I 2021-06-13 17:50:48,699]\u001b[0m Trial 36 finished with value: 0.6857490864799025 and parameters: {'max_depth': 6, 'n_estimators': 688, 'reg_lambda': 39.082567126994455, 'learning_rate': 0.022928756270530825, 'border_count': 139, 'random_strength': 0.001877268407986588, 'bagging_temperature': 0.6371327802735467}. Best is trial 16 with value: 0.6923871856699966.\u001b[0m\n"
     ]
    },
    {
     "name": "stdout",
     "output_type": "stream",
     "text": [
      "f1 train =  0.8304\n",
      "f1 val =  0.6857\n",
      "f1 test =  0.6637\n",
      "TRAIN GINI = 0.9504151988888434\n",
      "Validate GINI = 0.7975614081416751\n"
     ]
    },
    {
     "name": "stderr",
     "output_type": "stream",
     "text": [
      "\u001b[32m[I 2021-06-13 17:51:20,724]\u001b[0m Trial 37 finished with value: 0.6846499678869621 and parameters: {'max_depth': 6, 'n_estimators': 842, 'reg_lambda': 9.562915766763357, 'learning_rate': 0.016898250205135166, 'border_count': 175, 'random_strength': 1.2859359909384938, 'bagging_temperature': 0.9582962260031979}. Best is trial 16 with value: 0.6923871856699966.\u001b[0m\n"
     ]
    },
    {
     "name": "stdout",
     "output_type": "stream",
     "text": [
      "f1 train =  0.8325\n",
      "f1 val =  0.6846\n",
      "f1 test =  0.6592\n",
      "TRAIN GINI = 0.8963177780255829\n",
      "Validate GINI = 0.7765778135971082\n"
     ]
    },
    {
     "name": "stderr",
     "output_type": "stream",
     "text": [
      "\u001b[32m[I 2021-06-13 17:51:36,410]\u001b[0m Trial 38 finished with value: 0.6701742847747453 and parameters: {'max_depth': 3, 'n_estimators': 596, 'reg_lambda': 88.34847595716963, 'learning_rate': 0.031081784099465107, 'border_count': 152, 'random_strength': 9.219374721059099, 'bagging_temperature': 0.8337184067519587}. Best is trial 16 with value: 0.6923871856699966.\u001b[0m\n"
     ]
    },
    {
     "name": "stdout",
     "output_type": "stream",
     "text": [
      "f1 train =  0.764\n",
      "f1 val =  0.6702\n",
      "f1 test =  0.6562\n",
      "TRAIN GINI = 0.9439969476937484\n",
      "Validate GINI = 0.8037617607989609\n"
     ]
    },
    {
     "name": "stderr",
     "output_type": "stream",
     "text": [
      "\u001b[32m[I 2021-06-13 17:52:14,671]\u001b[0m Trial 39 finished with value: 0.6851612903225807 and parameters: {'max_depth': 7, 'n_estimators': 716, 'reg_lambda': 20.226462529398184, 'learning_rate': 0.012418109847804384, 'border_count': 123, 'random_strength': 0.0943657209737781, 'bagging_temperature': 0.5457479900664924}. Best is trial 16 with value: 0.6923871856699966.\u001b[0m\n"
     ]
    },
    {
     "name": "stdout",
     "output_type": "stream",
     "text": [
      "f1 train =  0.8244\n",
      "f1 val =  0.6852\n",
      "f1 test =  0.6537\n",
      "TRAIN GINI = 0.8905607997185723\n",
      "Validate GINI = 0.7715844316850198\n"
     ]
    },
    {
     "name": "stderr",
     "output_type": "stream",
     "text": [
      "\u001b[32m[I 2021-06-13 17:52:30,604]\u001b[0m Trial 40 finished with value: 0.6706507304116865 and parameters: {'max_depth': 4, 'n_estimators': 565, 'reg_lambda': 47.60939253306843, 'learning_rate': 0.015044632647216132, 'border_count': 196, 'random_strength': 2.90575214309947e-07, 'bagging_temperature': 0.957373512060549}. Best is trial 16 with value: 0.6923871856699966.\u001b[0m\n"
     ]
    },
    {
     "name": "stdout",
     "output_type": "stream",
     "text": [
      "f1 train =  0.7543\n",
      "f1 val =  0.6707\n",
      "f1 test =  0.6436\n",
      "TRAIN GINI = 0.9589179632114895\n",
      "Validate GINI = 0.8093201819840208\n"
     ]
    },
    {
     "name": "stderr",
     "output_type": "stream",
     "text": [
      "\u001b[32m[I 2021-06-13 17:53:00,775]\u001b[0m Trial 41 finished with value: 0.6874562018220043 and parameters: {'max_depth': 7, 'n_estimators': 879, 'reg_lambda': 13.376167374192265, 'learning_rate': 0.023722515474380406, 'border_count': 95, 'random_strength': 0.7042678323785301, 'bagging_temperature': 0.2884179084980759}. Best is trial 16 with value: 0.6923871856699966.\u001b[0m\n"
     ]
    },
    {
     "name": "stdout",
     "output_type": "stream",
     "text": [
      "f1 train =  0.8472\n",
      "f1 val =  0.6875\n",
      "f1 test =  0.665\n",
      "TRAIN GINI = 0.9508010765031638\n",
      "Validate GINI = 0.7996859757476769\n"
     ]
    },
    {
     "name": "stderr",
     "output_type": "stream",
     "text": [
      "\u001b[32m[I 2021-06-13 17:53:19,005]\u001b[0m Trial 42 finished with value: 0.6820248560169748 and parameters: {'max_depth': 7, 'n_estimators': 947, 'reg_lambda': 4.667429453612426, 'learning_rate': 0.0350866157210131, 'border_count': 49, 'random_strength': 3.9737355357959605, 'bagging_temperature': 0.1377901497699233}. Best is trial 16 with value: 0.6923871856699966.\u001b[0m\n"
     ]
    },
    {
     "name": "stdout",
     "output_type": "stream",
     "text": [
      "f1 train =  0.8304\n",
      "f1 val =  0.682\n",
      "f1 test =  0.6619\n",
      "TRAIN GINI = 0.9628427069658076\n",
      "Validate GINI = 0.8099854178991333\n"
     ]
    },
    {
     "name": "stderr",
     "output_type": "stream",
     "text": [
      "\u001b[32m[I 2021-06-13 17:53:57,430]\u001b[0m Trial 43 finished with value: 0.6907284768211921 and parameters: {'max_depth': 7, 'n_estimators': 902, 'reg_lambda': 12.638432955146495, 'learning_rate': 0.019764351470946944, 'border_count': 128, 'random_strength': 0.21124838109896985, 'bagging_temperature': 0.43456453576063786}. Best is trial 16 with value: 0.6923871856699966.\u001b[0m\n"
     ]
    },
    {
     "name": "stdout",
     "output_type": "stream",
     "text": [
      "f1 train =  0.8549\n",
      "f1 val =  0.6907\n",
      "f1 test =  0.664\n",
      "TRAIN GINI = 0.8925396452148027\n",
      "Validate GINI = 0.7838627575187673\n"
     ]
    },
    {
     "name": "stderr",
     "output_type": "stream",
     "text": [
      "\u001b[32m[I 2021-06-13 17:54:00,910]\u001b[0m Trial 44 finished with value: 0.6718591263122249 and parameters: {'max_depth': 6, 'n_estimators': 190, 'reg_lambda': 19.380058789110777, 'learning_rate': 0.020503899225469614, 'border_count': 159, 'random_strength': 0.025617915880750682, 'bagging_temperature': 0.3917404402120687}. Best is trial 16 with value: 0.6923871856699966.\u001b[0m\n"
     ]
    },
    {
     "name": "stdout",
     "output_type": "stream",
     "text": [
      "f1 train =  0.7548\n",
      "f1 val =  0.6719\n",
      "f1 test =  0.6404\n",
      "TRAIN GINI = 0.962146957102848\n",
      "Validate GINI = 0.8055471054448773\n"
     ]
    },
    {
     "name": "stderr",
     "output_type": "stream",
     "text": [
      "\u001b[32m[I 2021-06-13 17:54:40,313]\u001b[0m Trial 45 finished with value: 0.6900467601870408 and parameters: {'max_depth': 7, 'n_estimators': 913, 'reg_lambda': 10.270240427053968, 'learning_rate': 0.01852452401038986, 'border_count': 130, 'random_strength': 0.1959830645909242, 'bagging_temperature': 0.45430714062006283}. Best is trial 16 with value: 0.6923871856699966.\u001b[0m\n"
     ]
    },
    {
     "name": "stdout",
     "output_type": "stream",
     "text": [
      "f1 train =  0.8531\n",
      "f1 val =  0.69\n",
      "f1 test =  0.6628\n",
      "TRAIN GINI = 0.9634141093445212\n",
      "Validate GINI = 0.8114422571362381\n"
     ]
    },
    {
     "name": "stderr",
     "output_type": "stream",
     "text": [
      "\u001b[32m[I 2021-06-13 17:55:24,428]\u001b[0m Trial 46 finished with value: 0.6921241050119331 and parameters: {'max_depth': 7, 'n_estimators': 992, 'reg_lambda': 26.402980961606524, 'learning_rate': 0.01961342366844924, 'border_count': 100, 'random_strength': 0.20429993760002527, 'bagging_temperature': 0.44871372772306983}. Best is trial 16 with value: 0.6923871856699966.\u001b[0m\n"
     ]
    },
    {
     "name": "stdout",
     "output_type": "stream",
     "text": [
      "f1 train =  0.8574\n",
      "f1 val =  0.6921\n",
      "f1 test =  0.6716\n",
      "TRAIN GINI = 0.8312548690651709\n",
      "Validate GINI = 0.7509295917946428\n"
     ]
    },
    {
     "name": "stderr",
     "output_type": "stream",
     "text": [
      "\u001b[32m[I 2021-06-13 17:55:47,431]\u001b[0m Trial 47 finished with value: 0.6563833278634722 and parameters: {'max_depth': 1, 'n_estimators': 996, 'reg_lambda': 36.77198576032343, 'learning_rate': 0.021606018360460912, 'border_count': 104, 'random_strength': 0.0336314210268204, 'bagging_temperature': 0.42781092135362964}. Best is trial 16 with value: 0.6923871856699966.\u001b[0m\n"
     ]
    },
    {
     "name": "stdout",
     "output_type": "stream",
     "text": [
      "f1 train =  0.7077\n",
      "f1 val =  0.6564\n",
      "f1 test =  0.6336\n",
      "TRAIN GINI = 0.9324155242047287\n",
      "Validate GINI = 0.7948435119122468\n"
     ]
    },
    {
     "name": "stderr",
     "output_type": "stream",
     "text": [
      "\u001b[32m[I 2021-06-13 17:56:22,507]\u001b[0m Trial 48 finished with value: 0.6767427513880321 and parameters: {'max_depth': 6, 'n_estimators': 960, 'reg_lambda': 25.52052386650717, 'learning_rate': 0.010159132294058572, 'border_count': 66, 'random_strength': 0.019077149323397873, 'bagging_temperature': 0.49639589905582454}. Best is trial 16 with value: 0.6923871856699966.\u001b[0m\n"
     ]
    },
    {
     "name": "stdout",
     "output_type": "stream",
     "text": [
      "f1 train =  0.8057\n",
      "f1 val =  0.6767\n",
      "f1 test =  0.6555\n",
      "TRAIN GINI = 0.9592075161682354\n",
      "Validate GINI = 0.7949156684493113\n"
     ]
    },
    {
     "name": "stderr",
     "output_type": "stream",
     "text": [
      "\u001b[32m[I 2021-06-13 17:56:29,221]\u001b[0m Trial 49 finished with value: 0.6773839970770917 and parameters: {'max_depth': 7, 'n_estimators': 460, 'reg_lambda': 43.94320045390057, 'learning_rate': 0.029027731309586913, 'border_count': 121, 'random_strength': 9.641286645087817e-05, 'bagging_temperature': 0.34946728946315664}. Best is trial 16 with value: 0.6923871856699966.\u001b[0m\n"
     ]
    },
    {
     "name": "stdout",
     "output_type": "stream",
     "text": [
      "f1 train =  0.8481\n",
      "f1 val =  0.6774\n",
      "f1 test =  0.6542\n"
     ]
    }
   ],
   "source": [
    "study_cb = optuna.create_study(direction='maximize')\n",
    "study_cb.optimize(objective, n_trials=50)"
   ]
  },
  {
   "cell_type": "code",
   "execution_count": 97,
   "metadata": {
    "id": "1qEOvXSurw1H"
   },
   "outputs": [],
   "source": [
    "best_params =   {'max_depth': 7, 'n_estimators': 793, 'reg_lambda': 13.515531553454633,\n",
    "                 'learning_rate': 0.015603773242326145, 'border_count': 119, \n",
    "                 'random_strength': 0.39111373967466606, 'bagging_temperature': 0.6755405337478066,\n",
    "                       'task_type': 'GPU',\n",
    "        \"loss_function\":'Logloss',\n",
    "        'random_state':123}"
   ]
  },
  {
   "cell_type": "code",
   "execution_count": 98,
   "metadata": {
    "colab": {
     "base_uri": "https://localhost:8080/"
    },
    "id": "0J9lqv92LgK7",
    "outputId": "4b14dbe3-1541-4653-8bdd-2e4d2a0ab8e3"
   },
   "outputs": [
    {
     "name": "stdout",
     "output_type": "stream",
     "text": [
      "0:\tlearn: 0.6758860\ttest: 0.6781258\tbest: 0.6781258 (0)\ttotal: 55.7ms\tremaining: 44.1s\n",
      "100:\tlearn: 0.2537114\ttest: 0.3703843\tbest: 0.3703843 (100)\ttotal: 5.06s\tremaining: 34.6s\n",
      "200:\tlearn: 0.2140018\ttest: 0.3486567\tbest: 0.3486179 (199)\ttotal: 9.97s\tremaining: 29.4s\n",
      "300:\tlearn: 0.1937332\ttest: 0.3375033\tbest: 0.3375033 (300)\ttotal: 14.8s\tremaining: 24.3s\n",
      "400:\tlearn: 0.1789323\ttest: 0.3293049\tbest: 0.3292373 (399)\ttotal: 19.7s\tremaining: 19.3s\n",
      "500:\tlearn: 0.1676318\ttest: 0.3229610\tbest: 0.3229360 (499)\ttotal: 24.6s\tremaining: 14.3s\n",
      "600:\tlearn: 0.1581177\ttest: 0.3190953\tbest: 0.3190953 (600)\ttotal: 29.5s\tremaining: 9.41s\n",
      "700:\tlearn: 0.1500363\ttest: 0.3165801\tbest: 0.3164633 (697)\ttotal: 34.4s\tremaining: 4.51s\n",
      "792:\tlearn: 0.1436798\ttest: 0.3148167\tbest: 0.3147458 (788)\ttotal: 38.9s\tremaining: 0us\n",
      "bestTest = 0.3147457885\n",
      "bestIteration = 788\n",
      "Shrink model to first 789 iterations.\n"
     ]
    },
    {
     "data": {
      "text/plain": [
       "<catboost.core.CatBoostClassifier at 0x7f5616e76e50>"
      ]
     },
     "execution_count": 98,
     "metadata": {
      "tags": []
     },
     "output_type": "execute_result"
    }
   ],
   "source": [
    "cb = CatBoostClassifier(**best_params)\n",
    "cb.fit(train_pool, eval_set=val_pool, verbose=100, early_stopping_rounds=50)"
   ]
  },
  {
   "cell_type": "code",
   "execution_count": 99,
   "metadata": {
    "colab": {
     "base_uri": "https://localhost:8080/"
    },
    "id": "BZwhD6z9LgK7",
    "outputId": "3af61e0b-7865-4249-b826-c6152b291770"
   },
   "outputs": [
    {
     "name": "stdout",
     "output_type": "stream",
     "text": [
      "0.6923871856699966 0.6654622101776573 0.26530612244897955\n"
     ]
    }
   ],
   "source": [
    "res_val = []\n",
    "res_train = []\n",
    "res_test = []\n",
    "for i in np.linspace(0,1,50):\n",
    "    res_val.append(f1_score(df_val['y'], cb.predict_proba(val_pool)[:,1]>i))\n",
    "    res_train.append(f1_score(df_train['y'], cb.predict_proba(train_pool)[:,1]>i))\n",
    "    res_test.append(f1_score(df_test['y'], cb.predict_proba(test_pool)[:,1]>i))\n",
    "print(np.max(res_val), res_test[np.argmax(res_val)], np.linspace(0,1,50)[np.argmax(res_val)])"
   ]
  },
  {
   "cell_type": "code",
   "execution_count": 100,
   "metadata": {
    "colab": {
     "base_uri": "https://localhost:8080/",
     "height": 0
    },
    "id": "0AvOEPUpLgK8",
    "outputId": "7b1d6029-cd5e-42cd-b28b-7ff9f2f6faa9"
   },
   "outputs": [
    {
     "data": {
      "text/plain": [
       "<matplotlib.legend.Legend at 0x7f564459aad0>"
      ]
     },
     "execution_count": 100,
     "metadata": {
      "tags": []
     },
     "output_type": "execute_result"
    },
    {
     "data": {
      "image/png": "[encoded data removed]",
      "text/plain": [
       "<Figure size 432x288 with 1 Axes>"
      ]
     },
     "metadata": {
      "needs_background": "light",
      "tags": []
     },
     "output_type": "display_data"
    }
   ],
   "source": [
    "plt.title('F1')\n",
    "plt.plot(np.linspace(0,1,50), res_train, label='train')\n",
    "plt.plot(np.linspace(0,1,50), res_val, label='val')\n",
    "plt.plot(np.linspace(0,1,50), res_test, label='test')\n",
    "plt.plot(np.linspace(0,1,50)[np.argmax(res_val)], res_test[np.argmax(res_val)], 'go')\n",
    "plt.plot(np.linspace(0,1,50)[np.argmax(res_test)], np.max(res_test), 'bo', label='real_test_best')\n",
    "plt.legend()"
   ]
  },
  {
   "cell_type": "code",
   "execution_count": 101,
   "metadata": {
    "colab": {
     "base_uri": "https://localhost:8080/"
    },
    "id": "IEhoHN5ELgK9",
    "outputId": "4b962bdf-c994-4493-ac12-233b0db04919"
   },
   "outputs": [
    {
     "data": {
      "text/plain": [
       "33"
      ]
     },
     "execution_count": 101,
     "metadata": {
      "tags": []
     },
     "output_type": "execute_result"
    }
   ],
   "source": [
    "len(new_cols2)"
   ]
  },
  {
   "cell_type": "code",
   "execution_count": 102,
   "metadata": {
    "id": "qEJSlUS9LgK9"
   },
   "outputs": [],
   "source": [
    "train_val_pool = Pool(pd.concat([df_train[new_cols2], df_val[new_cols2]]), pd.concat([df_train['y'], df_val['y']]))"
   ]
  },
  {
   "cell_type": "code",
   "execution_count": 103,
   "metadata": {
    "colab": {
     "base_uri": "https://localhost:8080/"
    },
    "id": "CwbIHIuTLgK9",
    "outputId": "16e9a736-f85f-4707-ae27-a8673d3d09f3"
   },
   "outputs": [
    {
     "data": {
      "text/plain": [
       "<catboost.core.CatBoostClassifier at 0x7f5616e76e50>"
      ]
     },
     "execution_count": 103,
     "metadata": {
      "tags": []
     },
     "output_type": "execute_result"
    }
   ],
   "source": [
    "test_pool = Pool(df_test[new_cols2], df_test['y'])\n",
    "cb.fit(train_val_pool, verbose=0)"
   ]
  },
  {
   "cell_type": "code",
   "execution_count": 104,
   "metadata": {
    "colab": {
     "base_uri": "https://localhost:8080/"
    },
    "id": "oANbL_EqLgK9",
    "outputId": "4e3b8a07-c87c-4e03-9e8d-3e5f1bd568f0"
   },
   "outputs": [
    {
     "data": {
      "text/plain": [
       "0.6776297136376525"
      ]
     },
     "execution_count": 104,
     "metadata": {
      "tags": []
     },
     "output_type": "execute_result"
    }
   ],
   "source": [
    "f1_score(df_test['y'], cb.predict_proba(test_pool)[:,1]>0.265)"
   ]
  },
  {
   "cell_type": "code",
   "execution_count": 105,
   "metadata": {
    "id": "nbrBBmjheSlm"
   },
   "outputs": [],
   "source": [
    "cb.save_model('1406_best_model')"
   ]
  },
  {
   "cell_type": "code",
   "execution_count": 106,
   "metadata": {
    "id": "GBl91ZyMjV_j"
   },
   "outputs": [],
   "source": [
    "all_pool = Pool(pd.concat([df_train[new_cols2], df_val[new_cols2], df_test[new_cols2]]),\n",
    "                pd.concat([df_train['y'], df_val['y'], df_test['y']]))"
   ]
  },
  {
   "cell_type": "code",
   "execution_count": 107,
   "metadata": {
    "colab": {
     "base_uri": "https://localhost:8080/"
    },
    "id": "dsLln4mijWDA",
    "outputId": "97ee08e2-84fe-476c-fae7-4ea120a0483a"
   },
   "outputs": [
    {
     "data": {
      "text/plain": [
       "<catboost.core.CatBoostClassifier at 0x7f5616e76e50>"
      ]
     },
     "execution_count": 107,
     "metadata": {
      "tags": []
     },
     "output_type": "execute_result"
    }
   ],
   "source": [
    "cb.fit(all_pool, verbose=0)"
   ]
  },
  {
   "cell_type": "code",
   "execution_count": 108,
   "metadata": {
    "id": "lC_0_vvgjWQm"
   },
   "outputs": [],
   "source": [
    "cb.save_model('1406_all_data_studied')"
   ]
  },
  {
   "cell_type": "markdown",
   "metadata": {
    "id": "4xSOOY5PCN2O"
   },
   "source": [
    "## Scoring"
   ]
  },
  {
   "cell_type": "code",
   "execution_count": 109,
   "metadata": {
    "id": "FkFmRUIuCUGK"
   },
   "outputs": [],
   "source": [
    "df = pd.read_csv('train.csv')\n",
    "df.sort_values(by=['id', 'time'], inplace=True)\n",
    "df_test_tmp = df[df.id>=225].copy()\n",
    "df_test = df_test_tmp.drop(['y'], axis=1)"
   ]
  },
  {
   "cell_type": "code",
   "execution_count": 111,
   "metadata": {
    "id": "GbnMxBeJDDtj"
   },
   "outputs": [],
   "source": [
    "new_cols2 = ['std_rolling_10_c',\n",
    " 'std_rolling_5_c',\n",
    " 'std_rolling_5',\n",
    " 'std_rolling_100_c',\n",
    " 'std_value',\n",
    " 'time',\n",
    " 'cummean_diff',\n",
    " 'median_rolling_1_250_rel2',\n",
    " 'strange_x5',\n",
    " 'std_rolling_25_c',\n",
    " 'std_rolling_3_c',\n",
    " 'min_rolling_1_5_rel3',\n",
    " 'cumsum_wo_anomaly',\n",
    " 'std_rolling_500_c',\n",
    " 'max_rolling_1_250_rel2',\n",
    " 'mean_rolling_1_50_rel4',\n",
    " 'median_rolling_1_25_rel4',\n",
    " 'num_iter',\n",
    " 'median_rolling_1_10000',\n",
    " 'std_rolling_1_25_rel4',\n",
    " 'mean_rolling_1_500_rel1',\n",
    " 'std_rolling_1_25',\n",
    " 'std_rolling_50_c',\n",
    " 'std_rolling_1_10',\n",
    " 'std_rolling_1_10_rel4',\n",
    " 'min_rolling_1_10000_rel1',\n",
    " 'max_rolling_1_10000_rel4',\n",
    " 'std_rolling_1_2_rel4',\n",
    " 'max_value',\n",
    " 'std_rolling_1_5_rel1',\n",
    " 'std_rolling_1_10000_rel1',\n",
    " 'min_rolling_1_10000',\n",
    " 'median_rolling_1_10000_rel4']\n",
    "tresh = 0.265"
   ]
  },
  {
   "cell_type": "code",
   "execution_count": 116,
   "metadata": {
    "id": "3jiWEdV4eafe"
   },
   "outputs": [],
   "source": [
    "def scoring(test_df, path_to_model, new_cols2, tresh, target_col='pred2_bin'):\n",
    "  test_df = anomaly_detected(test_df)\n",
    "  test_df = first_prepr(test_df, delete_anomaly = False)\n",
    "  df_test = test_df[['id', 'time', 'x']].copy()\n",
    "\n",
    "  test_df = feature_generate(test_df)\n",
    "  pred_df = test_df[['id', 'time', 'x', 'anomaly__1', 'less066','mean_rolling_new2_1']].copy()\n",
    "\n",
    "  pred_df = pred_df[(pred_df.anomaly__1==1) |(pred_df.less066==1)|(pred_df.mean_rolling_new2_1==1)]\n",
    "  pred_df['pred'] = 0\n",
    "  test_df = test_df[(test_df.anomaly__1==0) &(test_df.less066==0)&(test_df.mean_rolling_new2_1==0)]\n",
    "  \n",
    "\n",
    "  cb = CatBoostClassifier()\n",
    "  cb.load_model(path_to_model)\n",
    "  test_df['pred2'] = cb.predict_proba(Pool(test_df[new_cols2]))[:,1]\n",
    "  test_df[target_col] = (test_df['pred2'] > tresh).astype(int)\n",
    "\n",
    "  df_test = df_test.merge(pred_df[['id', 'time', 'x', 'pred']], \n",
    "                          on =['id', 'time', 'x'], how='left')\n",
    "  df_test = df_test.merge(test_df[['id', 'time', 'x', 'pred2', 'pred2_bin']], \n",
    "                          on =['id', 'time', 'x'], how='left')\n",
    "  df_test.loc[(df_test.pred2_bin.isnull()), target_col] = df_test.loc[(df_test[target_col].isnull()), 'pred']\n",
    "  return df_test"
   ]
  },
  {
   "cell_type": "code",
   "execution_count": 118,
   "metadata": {
    "colab": {
     "base_uri": "https://localhost:8080/",
     "height": 66,
     "referenced_widgets": [
      "731f9ab888334907b78e42bf2eed58c4",
      "91d2ddc55a854a5b8c6682c45a9a8f86",
      "e49c3b365f15425d925b33f23e659ada",
      "6529c712dbcf4925ad4eceaacf73b87f",
      "8b8869f4862e4414a4be8b02cba17f96",
      "21ab614ce69545469d70f8af5c0d6a05",
      "22a5c2193cbb4ad79bc0e2ddb7e50917",
      "0fafbde75e3c45de85c1a6aa900cfe10"
     ]
    },
    "id": "w-nGfvIBelFG",
    "outputId": "5daed76b-7661-4642-f9e1-11078dbec648"
   },
   "outputs": [
    {
     "data": {
      "application/vnd.jupyter.widget-view+json": {
       "model_id": "731f9ab888334907b78e42bf2eed58c4",
       "version_major": 2,
       "version_minor": 0
      },
      "text/plain": [
       "HBox(children=(FloatProgress(value=0.0, max=11.0), HTML(value='')))"
      ]
     },
     "metadata": {
      "tags": []
     },
     "output_type": "display_data"
    },
    {
     "name": "stdout",
     "output_type": "stream",
     "text": [
      "\n"
     ]
    }
   ],
   "source": [
    "res = scoring(df_test, '1406_best_model', new_cols2, tresh)"
   ]
  },
  {
   "cell_type": "code",
   "execution_count": 119,
   "metadata": {
    "colab": {
     "base_uri": "https://localhost:8080/"
    },
    "id": "9mX17FeweuK4",
    "outputId": "c1fc5806-b267-4287-f494-086e33a5c5e4"
   },
   "outputs": [
    {
     "name": "stdout",
     "output_type": "stream",
     "text": [
      "(8309, 6)\n",
      "(8309, 7)\n"
     ]
    }
   ],
   "source": [
    "print(res.shape)\n",
    "res2 = res.merge(df_test_tmp, on =['id', 'time', 'x'])\n",
    "print(res2.shape)"
   ]
  },
  {
   "cell_type": "code",
   "execution_count": 120,
   "metadata": {
    "colab": {
     "base_uri": "https://localhost:8080/"
    },
    "id": "L9t8HPOsfJWd",
    "outputId": "23609904-6205-4814-9da2-20310aaafb3b"
   },
   "outputs": [
    {
     "data": {
      "text/plain": [
       "0.8668913226621735"
      ]
     },
     "execution_count": 120,
     "metadata": {
      "tags": []
     },
     "output_type": "execute_result"
    }
   ],
   "source": [
    "f1_score(res2['pred2_bin'], res2['y'], average='micro')"
   ]
  },
  {
   "cell_type": "code",
   "execution_count": 121,
   "metadata": {
    "colab": {
     "base_uri": "https://localhost:8080/"
    },
    "id": "fF0C29X4FjIF",
    "outputId": "e9770d5b-92db-4c0c-f521-3c07b30755ec"
   },
   "outputs": [
    {
     "data": {
      "text/plain": [
       "0.6716152019002376"
      ]
     },
     "execution_count": 121,
     "metadata": {
      "tags": []
     },
     "output_type": "execute_result"
    }
   ],
   "source": [
    "f1_score(res2['pred2_bin'], res2['y'])"
   ]
  },
  {
   "cell_type": "code",
   "execution_count": null,
   "metadata": {
    "id": "f67uVHsyi6b1"
   },
   "outputs": [],
   "source": []
  }
 ],
 "metadata": {
  "accelerator": "GPU",
  "colab": {
   "name": "rsv21_1406_mod.ipynb",
   "provenance": []
  },
  "kernelspec": {
   "display_name": "Python 3",
   "language": "python",
   "name": "python3"
  },
  "widgets": {
   "application/vnd.jupyter.widget-state+json": {
    "0fafbde75e3c45de85c1a6aa900cfe10": {
     "model_module": "@jupyter-widgets/base",
     "model_name": "LayoutModel",
     "state": {
      "_model_module": "@jupyter-widgets/base",
      "_model_module_version": "1.2.0",
      "_model_name": "LayoutModel",
      "_view_count": null,
      "_view_module": "@jupyter-widgets/base",
      "_view_module_version": "1.2.0",
      "_view_name": "LayoutView",
      "align_content": null,
      "align_items": null,
      "align_self": null,
      "border": null,
      "bottom": null,
      "display": null,
      "flex": null,
      "flex_flow": null,
      "grid_area": null,
      "grid_auto_columns": null,
      "grid_auto_flow": null,
      "grid_auto_rows": null,
      "grid_column": null,
      "grid_gap": null,
      "grid_row": null,
      "grid_template_areas": null,
      "grid_template_columns": null,
      "grid_template_rows": null,
      "height": null,
      "justify_content": null,
      "justify_items": null,
      "left": null,
      "margin": null,
      "max_height": null,
      "max_width": null,
      "min_height": null,
      "min_width": null,
      "object_fit": null,
      "object_position": null,
      "order": null,
      "overflow": null,
      "overflow_x": null,
      "overflow_y": null,
      "padding": null,
      "right": null,
      "top": null,
      "visibility": null,
      "width": null
     }
    },
    "1353f7b4cb5240e489dcc8f0c3e0c6b7": {
     "model_module": "@jupyter-widgets/base",
     "model_name": "LayoutModel",
     "state": {
      "_model_module": "@jupyter-widgets/base",
      "_model_module_version": "1.2.0",
      "_model_name": "LayoutModel",
      "_view_count": null,
      "_view_module": "@jupyter-widgets/base",
      "_view_module_version": "1.2.0",
      "_view_name": "LayoutView",
      "align_content": null,
      "align_items": null,
      "align_self": null,
      "border": null,
      "bottom": null,
      "display": null,
      "flex": null,
      "flex_flow": null,
      "grid_area": null,
      "grid_auto_columns": null,
      "grid_auto_flow": null,
      "grid_auto_rows": null,
      "grid_column": null,
      "grid_gap": null,
      "grid_row": null,
      "grid_template_areas": null,
      "grid_template_columns": null,
      "grid_template_rows": null,
      "height": null,
      "justify_content": null,
      "justify_items": null,
      "left": null,
      "margin": null,
      "max_height": null,
      "max_width": null,
      "min_height": null,
      "min_width": null,
      "object_fit": null,
      "object_position": null,
      "order": null,
      "overflow": null,
      "overflow_x": null,
      "overflow_y": null,
      "padding": null,
      "right": null,
      "top": null,
      "visibility": null,
      "width": null
     }
    },
    "142141fbcfcc498fa9489818818e1988": {
     "model_module": "@jupyter-widgets/base",
     "model_name": "LayoutModel",
     "state": {
      "_model_module": "@jupyter-widgets/base",
      "_model_module_version": "1.2.0",
      "_model_name": "LayoutModel",
      "_view_count": null,
      "_view_module": "@jupyter-widgets/base",
      "_view_module_version": "1.2.0",
      "_view_name": "LayoutView",
      "align_content": null,
      "align_items": null,
      "align_self": null,
      "border": null,
      "bottom": null,
      "display": null,
      "flex": null,
      "flex_flow": null,
      "grid_area": null,
      "grid_auto_columns": null,
      "grid_auto_flow": null,
      "grid_auto_rows": null,
      "grid_column": null,
      "grid_gap": null,
      "grid_row": null,
      "grid_template_areas": null,
      "grid_template_columns": null,
      "grid_template_rows": null,
      "height": null,
      "justify_content": null,
      "justify_items": null,
      "left": null,
      "margin": null,
      "max_height": null,
      "max_width": null,
      "min_height": null,
      "min_width": null,
      "object_fit": null,
      "object_position": null,
      "order": null,
      "overflow": null,
      "overflow_x": null,
      "overflow_y": null,
      "padding": null,
      "right": null,
      "top": null,
      "visibility": null,
      "width": null
     }
    },
    "21ab614ce69545469d70f8af5c0d6a05": {
     "model_module": "@jupyter-widgets/base",
     "model_name": "LayoutModel",
     "state": {
      "_model_module": "@jupyter-widgets/base",
      "_model_module_version": "1.2.0",
      "_model_name": "LayoutModel",
      "_view_count": null,
      "_view_module": "@jupyter-widgets/base",
      "_view_module_version": "1.2.0",
      "_view_name": "LayoutView",
      "align_content": null,
      "align_items": null,
      "align_self": null,
      "border": null,
      "bottom": null,
      "display": null,
      "flex": null,
      "flex_flow": null,
      "grid_area": null,
      "grid_auto_columns": null,
      "grid_auto_flow": null,
      "grid_auto_rows": null,
      "grid_column": null,
      "grid_gap": null,
      "grid_row": null,
      "grid_template_areas": null,
      "grid_template_columns": null,
      "grid_template_rows": null,
      "height": null,
      "justify_content": null,
      "justify_items": null,
      "left": null,
      "margin": null,
      "max_height": null,
      "max_width": null,
      "min_height": null,
      "min_width": null,
      "object_fit": null,
      "object_position": null,
      "order": null,
      "overflow": null,
      "overflow_x": null,
      "overflow_y": null,
      "padding": null,
      "right": null,
      "top": null,
      "visibility": null,
      "width": null
     }
    },
    "22a5c2193cbb4ad79bc0e2ddb7e50917": {
     "model_module": "@jupyter-widgets/controls",
     "model_name": "DescriptionStyleModel",
     "state": {
      "_model_module": "@jupyter-widgets/controls",
      "_model_module_version": "1.5.0",
      "_model_name": "DescriptionStyleModel",
      "_view_count": null,
      "_view_module": "@jupyter-widgets/base",
      "_view_module_version": "1.2.0",
      "_view_name": "StyleView",
      "description_width": ""
     }
    },
    "2d822d48d04843aea6ce75cd16e2b3eb": {
     "model_module": "@jupyter-widgets/controls",
     "model_name": "ProgressStyleModel",
     "state": {
      "_model_module": "@jupyter-widgets/controls",
      "_model_module_version": "1.5.0",
      "_model_name": "ProgressStyleModel",
      "_view_count": null,
      "_view_module": "@jupyter-widgets/base",
      "_view_module_version": "1.2.0",
      "_view_name": "StyleView",
      "bar_color": null,
      "description_width": "initial"
     }
    },
    "3fe91f7ccaa84f43844faa9281e3e3d3": {
     "model_module": "@jupyter-widgets/controls",
     "model_name": "FloatProgressModel",
     "state": {
      "_dom_classes": [],
      "_model_module": "@jupyter-widgets/controls",
      "_model_module_version": "1.5.0",
      "_model_name": "FloatProgressModel",
      "_view_count": null,
      "_view_module": "@jupyter-widgets/controls",
      "_view_module_version": "1.5.0",
      "_view_name": "ProgressView",
      "bar_style": "success",
      "description": "100%",
      "description_tooltip": null,
      "layout": "IPY_MODEL_f3dd9adfdf564ee88c097f37618c46ae",
      "max": 11,
      "min": 0,
      "orientation": "horizontal",
      "style": "IPY_MODEL_b946fb0cfd114c3ab706974083d68e95",
      "value": 11
     }
    },
    "4b14834b59d8405ba9d48452f127c2c1": {
     "model_module": "@jupyter-widgets/controls",
     "model_name": "DescriptionStyleModel",
     "state": {
      "_model_module": "@jupyter-widgets/controls",
      "_model_module_version": "1.5.0",
      "_model_name": "DescriptionStyleModel",
      "_view_count": null,
      "_view_module": "@jupyter-widgets/base",
      "_view_module_version": "1.2.0",
      "_view_name": "StyleView",
      "description_width": ""
     }
    },
    "52677e587bac452bbce5bae85a671b56": {
     "model_module": "@jupyter-widgets/controls",
     "model_name": "HTMLModel",
     "state": {
      "_dom_classes": [],
      "_model_module": "@jupyter-widgets/controls",
      "_model_module_version": "1.5.0",
      "_model_name": "HTMLModel",
      "_view_count": null,
      "_view_module": "@jupyter-widgets/controls",
      "_view_module_version": "1.5.0",
      "_view_name": "HTMLView",
      "description": "",
      "description_tooltip": null,
      "layout": "IPY_MODEL_a52aadfc54924397bc1543e72d037242",
      "placeholder": "​",
      "style": "IPY_MODEL_4b14834b59d8405ba9d48452f127c2c1",
      "value": " 11/11 [01:49&lt;00:00,  9.99s/it]"
     }
    },
    "6529c712dbcf4925ad4eceaacf73b87f": {
     "model_module": "@jupyter-widgets/controls",
     "model_name": "HTMLModel",
     "state": {
      "_dom_classes": [],
      "_model_module": "@jupyter-widgets/controls",
      "_model_module_version": "1.5.0",
      "_model_name": "HTMLModel",
      "_view_count": null,
      "_view_module": "@jupyter-widgets/controls",
      "_view_module_version": "1.5.0",
      "_view_name": "HTMLView",
      "description": "",
      "description_tooltip": null,
      "layout": "IPY_MODEL_0fafbde75e3c45de85c1a6aa900cfe10",
      "placeholder": "​",
      "style": "IPY_MODEL_22a5c2193cbb4ad79bc0e2ddb7e50917",
      "value": " 11/11 [00:09&lt;00:00,  1.17it/s]"
     }
    },
    "731f9ab888334907b78e42bf2eed58c4": {
     "model_module": "@jupyter-widgets/controls",
     "model_name": "HBoxModel",
     "state": {
      "_dom_classes": [],
      "_model_module": "@jupyter-widgets/controls",
      "_model_module_version": "1.5.0",
      "_model_name": "HBoxModel",
      "_view_count": null,
      "_view_module": "@jupyter-widgets/controls",
      "_view_module_version": "1.5.0",
      "_view_name": "HBoxView",
      "box_style": "",
      "children": [
       "IPY_MODEL_e49c3b365f15425d925b33f23e659ada",
       "IPY_MODEL_6529c712dbcf4925ad4eceaacf73b87f"
      ],
      "layout": "IPY_MODEL_91d2ddc55a854a5b8c6682c45a9a8f86"
     }
    },
    "7417e4a3ded34d4385aef754190b3dba": {
     "model_module": "@jupyter-widgets/controls",
     "model_name": "DescriptionStyleModel",
     "state": {
      "_model_module": "@jupyter-widgets/controls",
      "_model_module_version": "1.5.0",
      "_model_name": "DescriptionStyleModel",
      "_view_count": null,
      "_view_module": "@jupyter-widgets/base",
      "_view_module_version": "1.2.0",
      "_view_name": "StyleView",
      "description_width": ""
     }
    },
    "748e6f20aa1d4e1a954a114eedbed0fa": {
     "model_module": "@jupyter-widgets/controls",
     "model_name": "DescriptionStyleModel",
     "state": {
      "_model_module": "@jupyter-widgets/controls",
      "_model_module_version": "1.5.0",
      "_model_name": "DescriptionStyleModel",
      "_view_count": null,
      "_view_module": "@jupyter-widgets/base",
      "_view_module_version": "1.2.0",
      "_view_name": "StyleView",
      "description_width": ""
     }
    },
    "8979d3d7657442ccabe2ffc7788a9fde": {
     "model_module": "@jupyter-widgets/controls",
     "model_name": "HTMLModel",
     "state": {
      "_dom_classes": [],
      "_model_module": "@jupyter-widgets/controls",
      "_model_module_version": "1.5.0",
      "_model_name": "HTMLModel",
      "_view_count": null,
      "_view_module": "@jupyter-widgets/controls",
      "_view_module_version": "1.5.0",
      "_view_name": "HTMLView",
      "description": "",
      "description_tooltip": null,
      "layout": "IPY_MODEL_baf08b8483724da8bb6b08daebc800bb",
      "placeholder": "​",
      "style": "IPY_MODEL_748e6f20aa1d4e1a954a114eedbed0fa",
      "value": " 11/11 [01:40&lt;00:00,  9.16s/it]"
     }
    },
    "8b8869f4862e4414a4be8b02cba17f96": {
     "model_module": "@jupyter-widgets/controls",
     "model_name": "ProgressStyleModel",
     "state": {
      "_model_module": "@jupyter-widgets/controls",
      "_model_module_version": "1.5.0",
      "_model_name": "ProgressStyleModel",
      "_view_count": null,
      "_view_module": "@jupyter-widgets/base",
      "_view_module_version": "1.2.0",
      "_view_name": "StyleView",
      "bar_color": null,
      "description_width": "initial"
     }
    },
    "91d2ddc55a854a5b8c6682c45a9a8f86": {
     "model_module": "@jupyter-widgets/base",
     "model_name": "LayoutModel",
     "state": {
      "_model_module": "@jupyter-widgets/base",
      "_model_module_version": "1.2.0",
      "_model_name": "LayoutModel",
      "_view_count": null,
      "_view_module": "@jupyter-widgets/base",
      "_view_module_version": "1.2.0",
      "_view_name": "LayoutView",
      "align_content": null,
      "align_items": null,
      "align_self": null,
      "border": null,
      "bottom": null,
      "display": null,
      "flex": null,
      "flex_flow": null,
      "grid_area": null,
      "grid_auto_columns": null,
      "grid_auto_flow": null,
      "grid_auto_rows": null,
      "grid_column": null,
      "grid_gap": null,
      "grid_row": null,
      "grid_template_areas": null,
      "grid_template_columns": null,
      "grid_template_rows": null,
      "height": null,
      "justify_content": null,
      "justify_items": null,
      "left": null,
      "margin": null,
      "max_height": null,
      "max_width": null,
      "min_height": null,
      "min_width": null,
      "object_fit": null,
      "object_position": null,
      "order": null,
      "overflow": null,
      "overflow_x": null,
      "overflow_y": null,
      "padding": null,
      "right": null,
      "top": null,
      "visibility": null,
      "width": null
     }
    },
    "93445071331e45168a9b8d606970bc06": {
     "model_module": "@jupyter-widgets/controls",
     "model_name": "HTMLModel",
     "state": {
      "_dom_classes": [],
      "_model_module": "@jupyter-widgets/controls",
      "_model_module_version": "1.5.0",
      "_model_name": "HTMLModel",
      "_view_count": null,
      "_view_module": "@jupyter-widgets/controls",
      "_view_module_version": "1.5.0",
      "_view_name": "HTMLView",
      "description": "",
      "description_tooltip": null,
      "layout": "IPY_MODEL_abd25595f2814c5785db3a8e2d5e0d99",
      "placeholder": "​",
      "style": "IPY_MODEL_7417e4a3ded34d4385aef754190b3dba",
      "value": " 11/11 [04:57&lt;00:00, 27.04s/it]"
     }
    },
    "9d8b22caf39a453b964216c797e0b476": {
     "model_module": "@jupyter-widgets/controls",
     "model_name": "HBoxModel",
     "state": {
      "_dom_classes": [],
      "_model_module": "@jupyter-widgets/controls",
      "_model_module_version": "1.5.0",
      "_model_name": "HBoxModel",
      "_view_count": null,
      "_view_module": "@jupyter-widgets/controls",
      "_view_module_version": "1.5.0",
      "_view_name": "HBoxView",
      "box_style": "",
      "children": [
       "IPY_MODEL_f0208fc57e8949cc9dd5e4992c71e6bd",
       "IPY_MODEL_93445071331e45168a9b8d606970bc06"
      ],
      "layout": "IPY_MODEL_ae9cf3b2df05474c9e68bd5adb806422"
     }
    },
    "a52aadfc54924397bc1543e72d037242": {
     "model_module": "@jupyter-widgets/base",
     "model_name": "LayoutModel",
     "state": {
      "_model_module": "@jupyter-widgets/base",
      "_model_module_version": "1.2.0",
      "_model_name": "LayoutModel",
      "_view_count": null,
      "_view_module": "@jupyter-widgets/base",
      "_view_module_version": "1.2.0",
      "_view_name": "LayoutView",
      "align_content": null,
      "align_items": null,
      "align_self": null,
      "border": null,
      "bottom": null,
      "display": null,
      "flex": null,
      "flex_flow": null,
      "grid_area": null,
      "grid_auto_columns": null,
      "grid_auto_flow": null,
      "grid_auto_rows": null,
      "grid_column": null,
      "grid_gap": null,
      "grid_row": null,
      "grid_template_areas": null,
      "grid_template_columns": null,
      "grid_template_rows": null,
      "height": null,
      "justify_content": null,
      "justify_items": null,
      "left": null,
      "margin": null,
      "max_height": null,
      "max_width": null,
      "min_height": null,
      "min_width": null,
      "object_fit": null,
      "object_position": null,
      "order": null,
      "overflow": null,
      "overflow_x": null,
      "overflow_y": null,
      "padding": null,
      "right": null,
      "top": null,
      "visibility": null,
      "width": null
     }
    },
    "abd25595f2814c5785db3a8e2d5e0d99": {
     "model_module": "@jupyter-widgets/base",
     "model_name": "LayoutModel",
     "state": {
      "_model_module": "@jupyter-widgets/base",
      "_model_module_version": "1.2.0",
      "_model_name": "LayoutModel",
      "_view_count": null,
      "_view_module": "@jupyter-widgets/base",
      "_view_module_version": "1.2.0",
      "_view_name": "LayoutView",
      "align_content": null,
      "align_items": null,
      "align_self": null,
      "border": null,
      "bottom": null,
      "display": null,
      "flex": null,
      "flex_flow": null,
      "grid_area": null,
      "grid_auto_columns": null,
      "grid_auto_flow": null,
      "grid_auto_rows": null,
      "grid_column": null,
      "grid_gap": null,
      "grid_row": null,
      "grid_template_areas": null,
      "grid_template_columns": null,
      "grid_template_rows": null,
      "height": null,
      "justify_content": null,
      "justify_items": null,
      "left": null,
      "margin": null,
      "max_height": null,
      "max_width": null,
      "min_height": null,
      "min_width": null,
      "object_fit": null,
      "object_position": null,
      "order": null,
      "overflow": null,
      "overflow_x": null,
      "overflow_y": null,
      "padding": null,
      "right": null,
      "top": null,
      "visibility": null,
      "width": null
     }
    },
    "ae8c28fa96054570a36df3e62c6ac5f3": {
     "model_module": "@jupyter-widgets/base",
     "model_name": "LayoutModel",
     "state": {
      "_model_module": "@jupyter-widgets/base",
      "_model_module_version": "1.2.0",
      "_model_name": "LayoutModel",
      "_view_count": null,
      "_view_module": "@jupyter-widgets/base",
      "_view_module_version": "1.2.0",
      "_view_name": "LayoutView",
      "align_content": null,
      "align_items": null,
      "align_self": null,
      "border": null,
      "bottom": null,
      "display": null,
      "flex": null,
      "flex_flow": null,
      "grid_area": null,
      "grid_auto_columns": null,
      "grid_auto_flow": null,
      "grid_auto_rows": null,
      "grid_column": null,
      "grid_gap": null,
      "grid_row": null,
      "grid_template_areas": null,
      "grid_template_columns": null,
      "grid_template_rows": null,
      "height": null,
      "justify_content": null,
      "justify_items": null,
      "left": null,
      "margin": null,
      "max_height": null,
      "max_width": null,
      "min_height": null,
      "min_width": null,
      "object_fit": null,
      "object_position": null,
      "order": null,
      "overflow": null,
      "overflow_x": null,
      "overflow_y": null,
      "padding": null,
      "right": null,
      "top": null,
      "visibility": null,
      "width": null
     }
    },
    "ae9cf3b2df05474c9e68bd5adb806422": {
     "model_module": "@jupyter-widgets/base",
     "model_name": "LayoutModel",
     "state": {
      "_model_module": "@jupyter-widgets/base",
      "_model_module_version": "1.2.0",
      "_model_name": "LayoutModel",
      "_view_count": null,
      "_view_module": "@jupyter-widgets/base",
      "_view_module_version": "1.2.0",
      "_view_name": "LayoutView",
      "align_content": null,
      "align_items": null,
      "align_self": null,
      "border": null,
      "bottom": null,
      "display": null,
      "flex": null,
      "flex_flow": null,
      "grid_area": null,
      "grid_auto_columns": null,
      "grid_auto_flow": null,
      "grid_auto_rows": null,
      "grid_column": null,
      "grid_gap": null,
      "grid_row": null,
      "grid_template_areas": null,
      "grid_template_columns": null,
      "grid_template_rows": null,
      "height": null,
      "justify_content": null,
      "justify_items": null,
      "left": null,
      "margin": null,
      "max_height": null,
      "max_width": null,
      "min_height": null,
      "min_width": null,
      "object_fit": null,
      "object_position": null,
      "order": null,
      "overflow": null,
      "overflow_x": null,
      "overflow_y": null,
      "padding": null,
      "right": null,
      "top": null,
      "visibility": null,
      "width": null
     }
    },
    "b1c7bc18c4d8491ca311440c30c0b454": {
     "model_module": "@jupyter-widgets/controls",
     "model_name": "HBoxModel",
     "state": {
      "_dom_classes": [],
      "_model_module": "@jupyter-widgets/controls",
      "_model_module_version": "1.5.0",
      "_model_name": "HBoxModel",
      "_view_count": null,
      "_view_module": "@jupyter-widgets/controls",
      "_view_module_version": "1.5.0",
      "_view_name": "HBoxView",
      "box_style": "",
      "children": [
       "IPY_MODEL_3fe91f7ccaa84f43844faa9281e3e3d3",
       "IPY_MODEL_52677e587bac452bbce5bae85a671b56"
      ],
      "layout": "IPY_MODEL_142141fbcfcc498fa9489818818e1988"
     }
    },
    "b946fb0cfd114c3ab706974083d68e95": {
     "model_module": "@jupyter-widgets/controls",
     "model_name": "ProgressStyleModel",
     "state": {
      "_model_module": "@jupyter-widgets/controls",
      "_model_module_version": "1.5.0",
      "_model_name": "ProgressStyleModel",
      "_view_count": null,
      "_view_module": "@jupyter-widgets/base",
      "_view_module_version": "1.2.0",
      "_view_name": "StyleView",
      "bar_color": null,
      "description_width": "initial"
     }
    },
    "baf08b8483724da8bb6b08daebc800bb": {
     "model_module": "@jupyter-widgets/base",
     "model_name": "LayoutModel",
     "state": {
      "_model_module": "@jupyter-widgets/base",
      "_model_module_version": "1.2.0",
      "_model_name": "LayoutModel",
      "_view_count": null,
      "_view_module": "@jupyter-widgets/base",
      "_view_module_version": "1.2.0",
      "_view_name": "LayoutView",
      "align_content": null,
      "align_items": null,
      "align_self": null,
      "border": null,
      "bottom": null,
      "display": null,
      "flex": null,
      "flex_flow": null,
      "grid_area": null,
      "grid_auto_columns": null,
      "grid_auto_flow": null,
      "grid_auto_rows": null,
      "grid_column": null,
      "grid_gap": null,
      "grid_row": null,
      "grid_template_areas": null,
      "grid_template_columns": null,
      "grid_template_rows": null,
      "height": null,
      "justify_content": null,
      "justify_items": null,
      "left": null,
      "margin": null,
      "max_height": null,
      "max_width": null,
      "min_height": null,
      "min_width": null,
      "object_fit": null,
      "object_position": null,
      "order": null,
      "overflow": null,
      "overflow_x": null,
      "overflow_y": null,
      "padding": null,
      "right": null,
      "top": null,
      "visibility": null,
      "width": null
     }
    },
    "cf0434f4607e4032a5e8df0961776c45": {
     "model_module": "@jupyter-widgets/controls",
     "model_name": "ProgressStyleModel",
     "state": {
      "_model_module": "@jupyter-widgets/controls",
      "_model_module_version": "1.5.0",
      "_model_name": "ProgressStyleModel",
      "_view_count": null,
      "_view_module": "@jupyter-widgets/base",
      "_view_module_version": "1.2.0",
      "_view_name": "StyleView",
      "bar_color": null,
      "description_width": "initial"
     }
    },
    "cf8d0d4e0b5c4b13922712cb774f9ab2": {
     "model_module": "@jupyter-widgets/controls",
     "model_name": "HBoxModel",
     "state": {
      "_dom_classes": [],
      "_model_module": "@jupyter-widgets/controls",
      "_model_module_version": "1.5.0",
      "_model_name": "HBoxModel",
      "_view_count": null,
      "_view_module": "@jupyter-widgets/controls",
      "_view_module_version": "1.5.0",
      "_view_name": "HBoxView",
      "box_style": "",
      "children": [
       "IPY_MODEL_d734fcc250994e6e822e5d292f30dc3b",
       "IPY_MODEL_8979d3d7657442ccabe2ffc7788a9fde"
      ],
      "layout": "IPY_MODEL_ae8c28fa96054570a36df3e62c6ac5f3"
     }
    },
    "cfb1c6f464b84945a1534a9147a313b8": {
     "model_module": "@jupyter-widgets/base",
     "model_name": "LayoutModel",
     "state": {
      "_model_module": "@jupyter-widgets/base",
      "_model_module_version": "1.2.0",
      "_model_name": "LayoutModel",
      "_view_count": null,
      "_view_module": "@jupyter-widgets/base",
      "_view_module_version": "1.2.0",
      "_view_name": "LayoutView",
      "align_content": null,
      "align_items": null,
      "align_self": null,
      "border": null,
      "bottom": null,
      "display": null,
      "flex": null,
      "flex_flow": null,
      "grid_area": null,
      "grid_auto_columns": null,
      "grid_auto_flow": null,
      "grid_auto_rows": null,
      "grid_column": null,
      "grid_gap": null,
      "grid_row": null,
      "grid_template_areas": null,
      "grid_template_columns": null,
      "grid_template_rows": null,
      "height": null,
      "justify_content": null,
      "justify_items": null,
      "left": null,
      "margin": null,
      "max_height": null,
      "max_width": null,
      "min_height": null,
      "min_width": null,
      "object_fit": null,
      "object_position": null,
      "order": null,
      "overflow": null,
      "overflow_x": null,
      "overflow_y": null,
      "padding": null,
      "right": null,
      "top": null,
      "visibility": null,
      "width": null
     }
    },
    "d734fcc250994e6e822e5d292f30dc3b": {
     "model_module": "@jupyter-widgets/controls",
     "model_name": "FloatProgressModel",
     "state": {
      "_dom_classes": [],
      "_model_module": "@jupyter-widgets/controls",
      "_model_module_version": "1.5.0",
      "_model_name": "FloatProgressModel",
      "_view_count": null,
      "_view_module": "@jupyter-widgets/controls",
      "_view_module_version": "1.5.0",
      "_view_name": "ProgressView",
      "bar_style": "success",
      "description": "100%",
      "description_tooltip": null,
      "layout": "IPY_MODEL_1353f7b4cb5240e489dcc8f0c3e0c6b7",
      "max": 11,
      "min": 0,
      "orientation": "horizontal",
      "style": "IPY_MODEL_2d822d48d04843aea6ce75cd16e2b3eb",
      "value": 11
     }
    },
    "e49c3b365f15425d925b33f23e659ada": {
     "model_module": "@jupyter-widgets/controls",
     "model_name": "FloatProgressModel",
     "state": {
      "_dom_classes": [],
      "_model_module": "@jupyter-widgets/controls",
      "_model_module_version": "1.5.0",
      "_model_name": "FloatProgressModel",
      "_view_count": null,
      "_view_module": "@jupyter-widgets/controls",
      "_view_module_version": "1.5.0",
      "_view_name": "ProgressView",
      "bar_style": "success",
      "description": "100%",
      "description_tooltip": null,
      "layout": "IPY_MODEL_21ab614ce69545469d70f8af5c0d6a05",
      "max": 11,
      "min": 0,
      "orientation": "horizontal",
      "style": "IPY_MODEL_8b8869f4862e4414a4be8b02cba17f96",
      "value": 11
     }
    },
    "f0208fc57e8949cc9dd5e4992c71e6bd": {
     "model_module": "@jupyter-widgets/controls",
     "model_name": "FloatProgressModel",
     "state": {
      "_dom_classes": [],
      "_model_module": "@jupyter-widgets/controls",
      "_model_module_version": "1.5.0",
      "_model_name": "FloatProgressModel",
      "_view_count": null,
      "_view_module": "@jupyter-widgets/controls",
      "_view_module_version": "1.5.0",
      "_view_name": "ProgressView",
      "bar_style": "success",
      "description": "100%",
      "description_tooltip": null,
      "layout": "IPY_MODEL_cfb1c6f464b84945a1534a9147a313b8",
      "max": 11,
      "min": 0,
      "orientation": "horizontal",
      "style": "IPY_MODEL_cf0434f4607e4032a5e8df0961776c45",
      "value": 11
     }
    },
    "f3dd9adfdf564ee88c097f37618c46ae": {
     "model_module": "@jupyter-widgets/base",
     "model_name": "LayoutModel",
     "state": {
      "_model_module": "@jupyter-widgets/base",
      "_model_module_version": "1.2.0",
      "_model_name": "LayoutModel",
      "_view_count": null,
      "_view_module": "@jupyter-widgets/base",
      "_view_module_version": "1.2.0",
      "_view_name": "LayoutView",
      "align_content": null,
      "align_items": null,
      "align_self": null,
      "border": null,
      "bottom": null,
      "display": null,
      "flex": null,
      "flex_flow": null,
      "grid_area": null,
      "grid_auto_columns": null,
      "grid_auto_flow": null,
      "grid_auto_rows": null,
      "grid_column": null,
      "grid_gap": null,
      "grid_row": null,
      "grid_template_areas": null,
      "grid_template_columns": null,
      "grid_template_rows": null,
      "height": null,
      "justify_content": null,
      "justify_items": null,
      "left": null,
      "margin": null,
      "max_height": null,
      "max_width": null,
      "min_height": null,
      "min_width": null,
      "object_fit": null,
      "object_position": null,
      "order": null,
      "overflow": null,
      "overflow_x": null,
      "overflow_y": null,
      "padding": null,
      "right": null,
      "top": null,
      "visibility": null,
      "width": null
     }
    }
   }
  }
 },
 "nbformat": 4,
 "nbformat_minor": 1
}
